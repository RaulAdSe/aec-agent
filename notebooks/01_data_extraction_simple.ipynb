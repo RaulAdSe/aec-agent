{
 "cells": [
  {
   "cell_type": "code",
   "source": "# SECTION 5: Tutorial Summary and Real-World Applications\\nprint(\\\"\\\\n🎓 SECTION 5: Tutorial Summary and Real-World Applications\\\")\\nprint(\\\"-\\\" * 60)\\n\\ndef generate_tutorial_summary(building_data):\\n    \\\"\\\"\\\"Generate comprehensive tutorial summary with learning outcomes\\\"\\\"\\\"\\n    \\n    print(\\\"🎉 TUTORIAL COMPLETION SUMMARY\\\")\\n    print(\\\"=\\\" * 60)\\n    \\n    print(\\\"\\\\n✅ WHAT YOU'VE LEARNED:\\\")\\n    print(\\\"   1. 📊 IFC Data Structure - How building information is organized\\\")\\n    print(\\\"   2. 🌐 3D Visualization - Seeing buildings in coordinate space\\\")\\n    print(\\\"   3. 🗺️ Layout Generation - Creating floor plans from 3D data\\\")\\n    print(\\\"   4. 🎯 Performance Analysis - Checking compliance and efficiency\\\")\\n    print(\\\"   5. 🔍 Data Applications - Real-world uses for BIM data\\\")\\n    \\n    # Calculate key metrics\\n    total_elements = sum(len(elements) for elements in building_data.values())\\n    \\n    # Get building dimensions from coordinates\\n    all_coords = []\\n    for domain_elements in building_data.values():\\n        for elem in domain_elements:\\n            coords = elem.get('coordinates', {})\\n            ref_point = coords.get('reference_point_world_m')\\n            if ref_point and len(ref_point) >= 3:\\n                all_coords.append(ref_point)\\n    \\n    if all_coords:\\n        coords_array = np.array(all_coords)\\n        building_dims = {\\n            'x_range': coords_array[:, 0].max() - coords_array[:, 0].min(),\\n            'y_range': coords_array[:, 1].max() - coords_array[:, 1].min(),\\n            'height': coords_array[:, 2].max() - coords_array[:, 2].min(),\\n            'footprint_area': (coords_array[:, 0].max() - coords_array[:, 0].min()) * (coords_array[:, 1].max() - coords_array[:, 1].min())\\n        }\\n    else:\\n        building_dims = {'x_range': 0, 'y_range': 0, 'height': 0, 'footprint_area': 0}\\n    \\n    print(\\\"\\\\n📊 OUR ANALYZED BUILDING - VILAMALLA INDUSTRIAL COMPLEX:\\\")\\n    print(f\\\"   • Total building elements extracted: {total_elements:,}\\\")\\n    print(f\\\"   • Building footprint area: {building_dims['footprint_area']:,.0f} m²\\\")\\n    print(f\\\"   • Building dimensions: {building_dims['x_range']:.1f}m × {building_dims['y_range']:.1f}m\\\")\\n    print(f\\\"   • Building height: {building_dims['height']:.1f}m\\\")\\n    \\n    # Domain breakdown with explanations\\n    print(\\\"\\\\n🔧 BUILDING DOMAINS ANALYZED:\\\")\\n    domain_explanations = {\\n        'architecture': 'Building envelope, spaces, circulation',\\n        'mep': 'Mechanical, electrical, plumbing systems',\\n        'structural': 'Load-bearing framework and foundations'\\n    }\\n    \\n    for domain, elements in building_data.items():\\n        if elements:\\n            unique_types = set(elem.get('ifc_class', 'Unknown') for elem in elements)\\n            explanation = domain_explanations.get(domain, 'Building systems')\\n            print(f\\\"   • {domain.upper()}: {len(elements):,} elements ({len(unique_types)} types)\\\")\\n            print(f\\\"     └─ {explanation}\\\")\\n    \\n    # Key findings with learning points\\n    print(\\\"\\\\n🎯 KEY INSIGHTS DISCOVERED:\\\")\\n    \\n    arch_elements = building_data.get('architecture', [])\\n    if arch_elements:\\n        doors = [e for e in arch_elements if e.get('ifc_class') == 'IfcDoor']\\n        walls = [e for e in arch_elements if e.get('ifc_class') == 'IfcWall']\\n        \\n        print(f\\\"   🏗️  ARCHITECTURE INSIGHTS:\\\")\\n        print(f\\\"      • {len(doors)} doors analyzed for accessibility compliance\\\")\\n        print(f\\\"      • {len(walls)} walls with structural and thermal properties\\\")\\n        \\n        # Accessibility lesson\\n        if doors:\\n            accessible_doors = sum(1 for door in doors \\n                                 if door.get('geometry_summary', {}).get('width_m', 0) >= 0.8)\\n            accessibility_pct = accessible_doors / len(doors) * 100\\n            print(f\\\"      • {accessibility_pct:.1f}% doors meet accessibility standards (≥80cm)\\\")\\n            print(f\\\"      📚 LESSON: Accessibility compliance can be verified automatically\\\")\\n        \\n        # Thermal performance lesson\\n        thermal_elements = 0\\n        for elem in arch_elements:\\n            props = elem.get('properties', {})\\n            for pset_name, pset_data in props.items():\\n                if isinstance(pset_data, dict) and 'ThermalTransmittance' in pset_data:\\n                    thermal_elements += 1\\n                    break\\n        \\n        if thermal_elements > 0:\\n            print(f\\\"      • {thermal_elements} elements have thermal performance data\\\")\\n            print(f\\\"      📚 LESSON: Energy efficiency can be calculated from BIM data\\\")\\n    \\n    print(\\\"\\\\n🚀 REAL-WORLD APPLICATIONS:\\\")\\n    applications = [\\n        (\\\"🏛️ Government\\\", \\\"Building code compliance verification\\\"),\\n        (\\\"🏗️ Construction\\\", \\\"Clash detection and construction sequencing\\\"),\\n        (\\\"⚡ Engineering\\\", \\\"MEP system sizing and coordination\\\"),\\n        (\\\"🏢 Facility Management\\\", \\\"Maintenance planning and space optimization\\\"),\\n        (\\\"🌱 Sustainability\\\", \\\"Energy modeling and carbon footprint analysis\\\"),\\n        (\\\"♿ Accessibility\\\", \\\"ADA compliance and universal design verification\\\"),\\n        (\\\"🔥 Safety\\\", \\\"Fire egress analysis and emergency planning\\\"),\\n        (\\\"💰 Cost Estimation\\\", \\\"Automated quantity takeoffs and pricing\\\")\\n    ]\\n    \\n    for icon_sector, application in applications:\\n        print(f\\\"   {icon_sector}: {application}\\\")\\n    \\n    print(\\\"\\\\n🎓 NEXT LEARNING STEPS:\\\")\\n    next_steps = [\\n        \\\"1. 🔍 Advanced Analysis: Learn fire egress distance calculations\\\",\\n        \\\"2. 🤖 Automation: Build custom compliance checking scripts\\\",\\n        \\\"3. 🔗 Integration: Connect to design tools (Revit, ArchiCAD)\\\",\\n        \\\"4. 📊 Reporting: Generate automated compliance reports\\\",\\n        \\\"5. 🌐 Web Apps: Create building analysis dashboards\\\"\\n    ]\\n    \\n    for step in next_steps:\\n        print(f\\\"   {step}\\\")\\n    \\n    print(\\\"\\\\n💡 KEY TAKEAWAYS:\\\")\\n    takeaways = [\\n        \\\"🏗️ BIM data contains incredibly rich building information\\\",\\n        \\\"📊 Compliance checking can be automated with proper data extraction\\\",\\n        \\\"🎯 3D models enable both visualization and analysis\\\",\\n        \\\"🔧 Different building domains (Arch/MEP/Structural) work together\\\",\\n        \\\"⚡ Performance analysis helps optimize building design\\\",\\n        \\\"🚀 Automation saves time and reduces human error\\\"\\n    ]\\n    \\n    for takeaway in takeaways:\\n        print(f\\\"   {takeaway}\\\")\\n    \\n    print(\\\"\\\\n🌟 CONGRATULATIONS!\\\")\\n    print(\\\"You've successfully learned how to extract, visualize, and analyze\\\")\\n    print(\\\"building information from IFC files. This knowledge enables you to\\\")\\n    print(\\\"work with modern BIM workflows and automated building analysis.\\\")\\n    \\n    print(\\\"\\\\n📖 Want to learn more? Check out:\\\")\\n    print(\\\"   • buildingSMART International (IFC standards)\\\")\\n    print(\\\"   • OpenBIM community resources\\\")\\n    print(\\\"   • FreeCAD, Blender BIM add-on for hands-on practice\\\")\\n\\n# Generate the comprehensive tutorial summary\\ngenerate_tutorial_summary(building_data)\\n\\nprint(\\\"\\\\n\\\" + \\\"=\\\" * 60)\\nprint(\\\"🎉 IFC BUILDING ANALYSIS TUTORIAL COMPLETE! 🎉\\\")\\nprint(\\\"=\\\" * 60)\"",
   "metadata": {},
   "execution_count": null,
   "outputs": []
  },
  {
   "cell_type": "markdown",
   "source": "# 🎯 Section 4: Building Performance Analysis\\n\\n## Why Building Performance Matters\\n\\n**Modern buildings must meet strict requirements** for safety, accessibility, and energy efficiency. BIM data helps us verify compliance automatically instead of manual checking.\\n\\n### What We're Analyzing:\\n\\n#### 🌡️ **Thermal Performance**\\n- **U-values** (thermal transmittance): How much heat passes through walls\\n- **Lower U-values** = better insulation = energy savings\\n- **Building codes** set maximum allowed U-values\\n\\n#### ♿ **Accessibility Compliance**\\n- **Door widths**: Minimum 80cm for wheelchair access\\n- **Egress paths**: Clear routes for emergency evacuation\\n- **ADA compliance**: Meeting disability access requirements\\n\\n#### 📐 **Space Efficiency**\\n- **Space vs. Wall ratio**: More space = more usable area\\n- **Room sizes**: Meeting minimum area requirements\\n- **Circulation efficiency**: Optimizing hallway layouts\\n\\n#### 🏗️ **Structural Analysis**\\n- **Load-bearing walls**: Which walls support the building\\n- **Structural redundancy**: Backup load paths for safety\\n- **Material optimization**: Right materials in right places\\n\\n### Real-World Impact\\n- **Cost Savings**: Catch design issues before construction\\n- **Legal Compliance**: Avoid code violations and delays\\n- **Occupant Safety**: Ensure emergency egress works\\n- **Energy Efficiency**: Reduce operating costs\\n\\nLet's analyze our building! 🔍\"",
   "metadata": {}
  },
  {
   "cell_type": "markdown",
   "source": "# 🌐 Section 2: Interactive 3D Building Visualization\\n\\n## Understanding Building Coordinates\\n\\n**Every building element has precise coordinates** in 3D space. This is crucial for:\\n\\n- **Clash Detection**: Ensuring pipes don't run through walls\\n- **Construction Sequencing**: Knowing what to build first\\n- **Facility Management**: Locating equipment for maintenance\\n- **Code Compliance**: Measuring egress distances\\n\\n### Coordinate Systems in Buildings\\n\\n```\\nZ (Up) ↑     🏢 Building Height\\n       |     ├─ Level 3: +15.0m\\n       |     ├─ Level 2: +10.0m  \\n       |     ├─ Ground: +0.0m\\n       |     └─ Basement: -3.0m\\n       └─────→ X (East)\\n      /\\n     /\\n    ↙ Y (North)\\n```\\n\\n### Color Coding by Domain\\n- 🔵 **Blue**: Architecture (walls, doors, spaces)\\n- 🟣 **Purple**: MEP (heating, electrical, plumbing)\\n- 🟠 **Orange**: Structural (beams, columns, slabs)\\n\\n### Point Size = Volume\\nLarger points represent bigger building elements (like large walls or equipment)\"",
   "metadata": {}
  },
  {
   "cell_type": "code",
   "source": "# SECTION 3: Building Layout Visualization from Wall Data\\nprint(\\\"\\\\n🗺️ SECTION 3: Building Layout from Wall Data\\\")\\nprint(\\\"-\\\" * 50)\\n\\ndef create_building_layout(building_data, floor_level=\\\"PB\\\"):\\n    \\\"\\\"\\\"Create a top-down building layout from wall and door data\\\"\\\"\\\"\\n    \\n    arch_elements = building_data.get('architecture', [])\\n    if not arch_elements:\\n        print(\\\"No architectural elements available for layout\\\")\\n        return\\n    \\n    # Filter elements by floor level\\n    floor_elements = [e for e in arch_elements if e.get('spatial', {}).get('storey') == floor_level]\\n    \\n    if not floor_elements:\\n        # Show available floors\\n        available_floors = set()\\n        for elem in arch_elements:\\n            storey = elem.get('spatial', {}).get('storey')\\n            if storey:\\n                available_floors.add(storey)\\n        print(f\\\"No elements found for floor '{floor_level}'\\\")\\n        print(f\\\"Available floors: {sorted(available_floors)}\\\")\\n        return\\n    \\n    print(f\\\"📊 Creating layout for floor: {floor_level}\\\")\\n    \\n    # Extract walls and doors\\n    walls = [e for e in floor_elements if e.get('ifc_class') == 'IfcWall']\\n    doors = [e for e in floor_elements if e.get('ifc_class') == 'IfcDoor']\\n    \\n    print(f\\\"   • Found {len(walls)} walls and {len(doors)} doors\\\")\\n    \\n    if not walls:\\n        print(\\\"No walls found for layout generation\\\")\\n        return\\n    \\n    # Create interactive floor plan\\n    fig = go.Figure()\\n    \\n    # Add walls as rectangles\\n    wall_data = []\\n    for i, wall in enumerate(walls):\\n        try:\\n            # Get wall coordinates and geometry\\n            coords = wall.get('coordinates', {})\\n            ref_point = coords.get('reference_point_world_m')\\n            \\n            if not ref_point or len(ref_point) < 3:\\n                continue\\n                \\n            # Get wall dimensions\\n            geom = wall.get('geometry_summary', {})\\n            length = geom.get('length_m', 0)\\n            width = geom.get('width_m', 0.3)  # Default wall thickness\\n            \\n            if length <= 0:\\n                continue\\n            \\n            # Wall center position\\n            x_center, y_center = ref_point[0], ref_point[1]\\n            \\n            # For simplicity, assume walls are axis-aligned (in real applications, \\n            # you'd use the transformation matrix for proper rotation)\\n            x_min = x_center - length/2\\n            x_max = x_center + length/2\\n            y_min = y_center - width/2\\n            y_max = y_center + width/2\\n            \\n            # Determine if wall is load-bearing\\n            is_load_bearing = False\\n            props = wall.get('properties', {})\\n            for pset_name, pset_data in props.items():\\n                if isinstance(pset_data, dict) and 'LoadBearing' in pset_data:\\n                    is_load_bearing = pset_data['LoadBearing'].get('value', False)\\n                    break\\n            \\n            # Wall info for hover\\n            wall_name = wall.get('name', f'Wall {i+1}')[:30]\\n            wall_type = \\\"Load-Bearing\\\" if is_load_bearing else \\\"Non-Load-Bearing\\\"\\n            \\n            wall_data.append({\\n                'x_min': x_min, 'x_max': x_max,\\n                'y_min': y_min, 'y_max': y_max,\\n                'name': wall_name,\\n                'type': wall_type,\\n                'length': length,\\n                'thickness': width,\\n                'is_load_bearing': is_load_bearing\\n            })\\n            \\n        except Exception as e:\\n            continue\\n    \\n    # Plot walls as rectangles\\n    for wall in wall_data:\\n        color = '#8B4513' if wall['is_load_bearing'] else '#D2B48C'  # Brown for load-bearing, tan for regular\\n        \\n        fig.add_shape(\\n            type=\\\"rect\\\",\\n            x0=wall['x_min'], y0=wall['y_min'],\\n            x1=wall['x_max'], y1=wall['y_max'],\\n            fillcolor=color,\\n            opacity=0.7,\\n            line=dict(color=\\\"black\\\", width=1)\\n        )\\n        \\n        # Add wall center point for hover info\\n        fig.add_trace(go.Scatter(\\n            x=[(wall['x_min'] + wall['x_max'])/2],\\n            y=[(wall['y_min'] + wall['y_max'])/2],\\n            mode='markers',\\n            marker=dict(size=1, opacity=0),  # Invisible marker for hover\\n            name='Walls',\\n            hovertemplate=(\\n                f\\\"<b>{wall['name']}</b><br>\\\" +\\n                f\\\"Type: {wall['type']}<br>\\\" +\\n                f\\\"Length: {wall['length']:.1f}m<br>\\\" +\\n                f\\\"Thickness: {wall['thickness']:.2f}m<br>\\\" +\\n                \\\"<extra></extra>\\\"\\n            ),\\n            showlegend=False\\n        ))\\n    \\n    # Add doors as openings/markers\\n    door_coords = []\\n    door_info = []\\n    \\n    for door in doors:\\n        try:\\n            coords = door.get('coordinates', {})\\n            ref_point = coords.get('reference_point_world_m')\\n            \\n            if ref_point and len(ref_point) >= 2:\\n                geom = door.get('geometry_summary', {})\\n                width = geom.get('width_m', 0.9)\\n                \\n                # Check if external door\\n                is_external = False\\n                props = door.get('properties', {})\\n                for pset_name, pset_data in props.items():\\n                    if isinstance(pset_data, dict) and 'IsExternal' in pset_data:\\n                        is_external = pset_data['IsExternal'].get('value', False)\\n                        break\\n                \\n                door_coords.append([ref_point[0], ref_point[1]])\\n                door_name = door.get('name', 'Door')[:30]\\n                door_type = \\\"External\\\" if is_external else \\\"Internal\\\"\\n                \\n                door_info.append({\\n                    'name': door_name,\\n                    'type': door_type,\\n                    'width': width\\n                })\\n        except Exception:\\n            continue\\n    \\n    if door_coords:\\n        door_coords = np.array(door_coords)\\n        \\n        # Different colors for internal vs external doors\\n        colors = ['red' if info['type'] == 'External' else 'blue' for info in door_info]\\n        sizes = [max(8, min(info['width'] * 15, 20)) for info in door_info]\\n        \\n        fig.add_trace(go.Scatter(\\n            x=door_coords[:, 0],\\n            y=door_coords[:, 1],\\n            mode='markers',\\n            marker=dict(\\n                size=sizes,\\n                color=colors,\\n                symbol='diamond',\\n                line=dict(width=2, color='white')\\n            ),\\n            name='Doors',\\n            hovertemplate=(\\n                '<b>%{customdata[0]}</b><br>' +\\n                'Type: %{customdata[1]}<br>' +\\n                'Width: %{customdata[2]:.2f}m<br>' +\\n                '<extra></extra>'\\n            ),\\n            customdata=[[info['name'], info['type'], info['width']] for info in door_info]\\n        ))\\n    \\n    # Update layout for floor plan\\n    fig.update_layout(\\n        title={\\n            'text': f'🏗️ Building Floor Plan - {floor_level}<br><sub>Walls: Brown=Load-bearing, Tan=Regular | Doors: Red=External, Blue=Internal</sub>',\\n            'x': 0.5,\\n            'font': {'size': 16}\\n        },\\n        xaxis_title='X Coordinate (m)',\\n        yaxis_title='Y Coordinate (m)',\\n        xaxis=dict(\\n            scaleanchor=\\\"y\\\",\\n            scaleratio=1,\\n            showgrid=True,\\n            gridwidth=1,\\n            gridcolor='lightgray'\\n        ),\\n        yaxis=dict(\\n            showgrid=True,\\n            gridwidth=1,\\n            gridcolor='lightgray'\\n        ),\\n        width=900,\\n        height=700,\\n        showlegend=True,\\n        plot_bgcolor='white'\\n    )\\n    \\n    fig.show()\\n    \\n    # Print layout statistics\\n    print(f\\\"\\\\n📊 FLOOR PLAN ANALYSIS ({floor_level}):\\\")\\n    print(f\\\"   • Total walls: {len(wall_data)}\\\")\\n    print(f\\\"   • Load-bearing walls: {sum(1 for w in wall_data if w['is_load_bearing'])}\\\")\\n    print(f\\\"   • Total doors: {len(door_info)}\\\")\\n    print(f\\\"   • External doors: {sum(1 for d in door_info if d['type'] == 'External')}\\\")\\n    \\n    if wall_data:\\n        total_wall_length = sum(w['length'] for w in wall_data)\\n        avg_wall_thickness = np.mean([w['thickness'] for w in wall_data])\\n        print(f\\\"   • Total wall length: {total_wall_length:.1f}m\\\")\\n        print(f\\\"   • Average wall thickness: {avg_wall_thickness:.2f}m\\\")\\n    \\n    if door_info:\\n        door_widths = [d['width'] for d in door_info]\\n        print(f\\\"   • Door widths: {min(door_widths):.2f}m - {max(door_widths):.2f}m\\\")\\n        accessible_doors = sum(1 for w in door_widths if w >= 0.8)\\n        print(f\\\"   • Accessible doors (≥0.8m): {accessible_doors}/{len(door_widths)} ({accessible_doors/len(door_widths)*100:.1f}%)\\\")\\n\\n# Create building layout for ground floor\\nprint(\\\"\\\\n🏗️ TUTORIAL: Building Layout Generation\\\")\\nprint(\\\"This demonstrates how architects create 2D floor plans from 3D BIM models\\\")\\nprint(\\\"We're extracting wall positions and door locations to reconstruct the building layout.\\\")\\n\\ncreate_building_layout(building_data, \\\"PB\\\")  # PB = Planta Baja (Ground Floor)\"",
   "metadata": {},
   "execution_count": null,
   "outputs": []
  },
  {
   "cell_type": "markdown",
   "source": "# 🗺️ Section 3: Building Layout from Wall Data\\n\\n## Creating Floor Plans from IFC Data\\n\\n**Real-world application**: Architects and engineers often need to generate floor plans from 3D building models. Using wall coordinates and dimensions, we can reconstruct the building layout as if viewing from above.\\n\\n### How it Works:\\n1. **Extract wall positions** - Get X,Y coordinates of each wall\\n2. **Determine wall extents** - Use length and width to draw wall boundaries  \\n3. **Add doors and openings** - Show circulation paths\\n4. **Layer by floor** - Separate different building levels\\n\\n### Why This Matters:\\n- **Code Compliance**: Check egress paths and room sizes\\n- **Space Planning**: Optimize layouts for efficiency\\n- **Construction**: Generate 2D drawings from 3D models\\n- **Facility Management**: Create maintenance access plans\\n\\nLet's build our floor plan! 🏗️\"",
   "metadata": {}
  },
  {
   "cell_type": "markdown",
   "source": "# 📚 Section 1: Understanding BIM Data Loading\\n\\n## What is IFC Data?\\n\\n**Industry Foundation Classes (IFC)** is like a universal language for buildings. When architects design in software like Revit or ArchiCAD, they can export to IFC format so that:\\n\\n- **Structural engineers** can analyze the building framework\\n- **MEP engineers** can design heating, cooling, and electrical systems  \\n- **Code compliance experts** can check safety requirements\\n- **Facility managers** can plan maintenance\\n\\n## Our Data Structure\\n\\nIFC files contain **three main domains** of building information:\\n\\n```\\n🏗️ ARCHITECTURE     🔌 MEP (Mechanical/Electrical/Plumbing)     🏗️ STRUCTURAL\\n├─ Walls             ├─ HVAC Equipment                          ├─ Beams\\n├─ Doors             ├─ Electrical Fixtures                     ├─ Columns  \\n├─ Windows           ├─ Plumbing Fixtures                       ├─ Slabs\\n├─ Spaces            ├─ Ductwork                                ├─ Foundations\\n└─ Floors            └─ Cables                                  └─ Connections\\n```\\n\\n## What Each Element Contains\\n\\nEvery building element has rich information:\\n- **📍 Coordinates**: Exact 3D position in the building\\n- **📐 Geometry**: Size, shape, volume, area\\n- **🏷️ Properties**: Material, thermal performance, fire rating\\n- **🔗 Relationships**: Which floor, which space, connections\\n\\nLet's load our real building data and see what we discover!\"",
   "metadata": {}
  },
  {
   "cell_type": "markdown",
   "source": "# 🏗️ IFC Building Information Extraction Tutorial\\n\\n## Welcome to Building Information Modeling (BIM) Data Analysis!\\n\\nThis tutorial demonstrates how to extract and analyze rich building information from **Industry Foundation Classes (IFC)** files. IFC is the international standard for Building Information Modeling (BIM) data exchange.\\n\\n### 🎯 **What You'll Learn:**\\n\\n1. **Data Extraction**: How to extract comprehensive building data from IFC files\\n2. **3D Visualization**: Interactive 3D building models from coordinate data\\n3. **Performance Analysis**: Building performance assessment (thermal, accessibility, structural)\\n4. **Layout Generation**: Create building floor plans from wall geometry\\n5. **Practical Applications**: Real-world uses for compliance and optimization\\n\\n### 🏢 **Our Example Building:**\\nWe'll analyze the **Vilamalla Industrial Complex** - a real building with:\\n- Multiple levels (basement, ground floor, upper levels)\\n- Complex geometry with walls, doors, MEP systems\\n- Rich property data for performance analysis\\n\\n### 📚 **Tutorial Structure:**\\n- **Section 1**: Data Loading & Overview\\n- **Section 2**: 3D Building Visualization  \\n- **Section 3**: Building Layout from Walls\\n- **Section 4**: Performance Analysis\\n- **Section 5**: Summary & Applications\\n\\nLet's start exploring! 🚀\"",
   "metadata": {}
  },
  {
   "cell_type": "code",
   "execution_count": 7,
   "metadata": {},
   "outputs": [
    {
     "name": "stdout",
     "output_type": "stream",
     "text": [
      "🏗️  IFC Building Information Extraction & Analysis Showcase\n",
      "============================================================\n",
      "This notebook demonstrates how comprehensive IFC data extraction\n",
      "enables sophisticated building analysis and compliance automation.\n",
      "============================================================\n"
     ]
    }
   ],
   "source": [
    "# ENHANCED IFC DATA VISUALIZATION AND INSIGHTS\n",
    "# This notebook demonstrates the rich information that can be extracted from IFC files\n",
    "# and how it enables building performance analysis and compliance checking\n",
    "\n",
    "import sys\n",
    "import json\n",
    "import pandas as pd\n",
    "import numpy as np\n",
    "import matplotlib.pyplot as plt\n",
    "import seaborn as sns\n",
    "from pathlib import Path\n",
    "import plotly.graph_objects as go\n",
    "import plotly.express as px\n",
    "from plotly.subplots import make_subplots\n",
    "import warnings\n",
    "warnings.filterwarnings('ignore')\n",
    "\n",
    "# Setup paths for notebook imports\n",
    "current_dir = Path().absolute()\n",
    "if current_dir.name == 'notebooks':\n",
    "    project_root = current_dir.parent\n",
    "else:\n",
    "    project_root = current_dir\n",
    "sys.path.insert(0, str(project_root))\n",
    "\n",
    "# Configure plotting\n",
    "plt.style.use('default')\n",
    "sns.set_palette(\"Set2\")\n",
    "fig_size = (15, 10)\n",
    "\n",
    "print(\"🏗️  IFC Building Information Extraction & Analysis Showcase\")\n",
    "print(\"=\"*60)\n",
    "print(\"This notebook demonstrates how comprehensive IFC data extraction\")\n",
    "print(\"enables sophisticated building analysis and compliance automation.\")\n",
    "print(\"=\"*60)"
   ]
  },
  {
   "cell_type": "code",
   "execution_count": 8,
   "metadata": {},
   "outputs": [
    {
     "name": "stdout",
     "output_type": "stream",
     "text": [
      "📊 SECTION 1: Data Loading and Quick Overview\n",
      "--------------------------------------------------\n",
      "✓ ARCHITECTURE: 14 elements loaded\n",
      "✓ MEP: 10 elements loaded\n",
      "⚠️  STRUCTURAL: File not found\n",
      "\n",
      "🏢 TOTAL BUILDING ELEMENTS: 24\n",
      "📋 PROJECT: 2111B\n",
      "🏗️  BUILDING: IfcBuilding_32\n",
      "🏢 BUILDING LEVELS: 9 storeys\n",
      "   • CSZ 34.0 (-0.50): -1.5m elevation\n",
      "   • MUELLE: -1.0m elevation\n",
      "   • H base de taller: 0.2m elevation\n",
      "   • PB: 0.2m elevation\n",
      "   • REF_CubiertaAnexoFrio: 5.6m elevation\n",
      "   • Altillo: 5.6m elevation\n",
      "   • PANEL PREFABRICADO: 10.0m elevation\n",
      "   • Ref_PetoAnexoFrio: 10.8m elevation\n",
      "   • Ref_H Peto Max: 11.0m elevation\n"
     ]
    }
   ],
   "source": [
    "# SECTION 1: Data Loading and Quick Overview\n",
    "print(\"📊 SECTION 1: Data Loading and Quick Overview\")\n",
    "print(\"-\" * 50)\n",
    "\n",
    "def load_building_data():\n",
    "    \"\"\"Load all extracted building data from different domains\"\"\"\n",
    "    data_root = project_root / \"data\" / \"extracted\"\n",
    "    \n",
    "    # Load data from different domains\n",
    "    domains = {\n",
    "        'architecture': data_root / \"architecture\" / \"elements\" / \"elements_merged_arch.jsonl\",\n",
    "        'mep': data_root / \"mep\" / \"elements\" / \"elements_merged_mep.jsonl\", \n",
    "        'structural': data_root / \"structural\" / \"elements\" / \"elements_merged_structural.jsonl\"\n",
    "    }\n",
    "    \n",
    "    building_data = {}\n",
    "    total_elements = 0\n",
    "    \n",
    "    for domain, file_path in domains.items():\n",
    "        if file_path.exists():\n",
    "            elements = []\n",
    "            try:\n",
    "                with open(file_path, 'r', encoding='utf-8') as f:\n",
    "                    for line in f:\n",
    "                        if line.strip():\n",
    "                            element = json.loads(line.strip())\n",
    "                            elements.append(element)\n",
    "                building_data[domain] = elements\n",
    "                count = len(elements)\n",
    "                total_elements += count\n",
    "                print(f\"✓ {domain.upper()}: {count:,} elements loaded\")\n",
    "            except Exception as e:\n",
    "                print(f\"⚠️  {domain.upper()}: Failed to load - {e}\")\n",
    "                building_data[domain] = []\n",
    "        else:\n",
    "            print(f\"⚠️  {domain.upper()}: File not found\")\n",
    "            building_data[domain] = []\n",
    "    \n",
    "    print(f\"\\n🏢 TOTAL BUILDING ELEMENTS: {total_elements:,}\")\n",
    "    \n",
    "    # Load project metadata\n",
    "    project_file = data_root / \"architecture\" / \"project.json\"\n",
    "    if project_file.exists():\n",
    "        with open(project_file, 'r') as f:\n",
    "            project_info = json.load(f)\n",
    "        print(f\"📋 PROJECT: {project_info['spatial_tree']['name']}\")\n",
    "        print(f\"🏗️  BUILDING: {project_info['spatial_tree']['children'][0]['children'][0]['name']}\")\n",
    "        \n",
    "        # Show building storeys\n",
    "        storeys = project_info['spatial_tree']['children'][0]['children'][0]['children']\n",
    "        print(f\"🏢 BUILDING LEVELS: {len(storeys)} storeys\")\n",
    "        for storey in sorted(storeys, key=lambda x: x.get('elevation_m', 0)):\n",
    "            print(f\"   • {storey['name']}: {storey.get('elevation_m', 0):.1f}m elevation\")\n",
    "    \n",
    "    return building_data\n",
    "\n",
    "# Load the building data\n",
    "building_data = load_building_data()"
   ]
  },
  {
   "cell_type": "code",
   "execution_count": 4,
   "metadata": {},
   "outputs": [
    {
     "name": "stdout",
     "output_type": "stream",
     "text": [
      "\n",
      "🌐 SECTION 2: Interactive 3D Building Visualization\n",
      "--------------------------------------------------\n"
     ]
    },
    {
     "data": {
      "application/vnd.plotly.v1+json": {
       "config": {
        "plotlyServerURL": "https://plot.ly"
       },
       "data": [
        {
         "customdata": [
          [
           "IfcDoor",
           "REF_CubiertaAnexoFrio",
           0.10870000000025137
          ],
          [
           "IfcDoor",
           "REF_CubiertaAnexoFrio",
           0.10870000000025153
          ],
          [
           "IfcDoor",
           null,
           0.026137965504001756
          ],
          [
           "IfcWall",
           "CSZ 34.0 (-0.50)",
           9.588042260274214
          ],
          [
           "IfcWall",
           "CSZ 34.0 (-0.50)",
           7.9900352168954285
          ],
          [
           "IfcWall",
           "CSZ 34.0 (-0.50)",
           7.990035216895308
          ],
          [
           "IfcWall",
           "CSZ 34.0 (-0.50)",
           7.990035216895189
          ],
          [
           "IfcWall",
           "CSZ 34.0 (-0.50)",
           7.989983180064542
          ],
          [
           "IfcWall",
           "CSZ 34.0 (-0.50)",
           7.9821486785518525
          ],
          [
           "IfcWall",
           "CSZ 34.0 (-0.50)",
           7.990017609283609
          ],
          [
           "IfcWall",
           "Ref_H Peto Max",
           3.0599692198720776
          ],
          [
           "IfcWall",
           "Ref_H Peto Max",
           3.0599561064817484
          ],
          [
           "IfcWallStandardCase",
           "Ref_H Peto Max",
           8.683115434477244
          ],
          [
           "IfcWallStandardCase",
           "PB",
           0.47448976595804015
          ]
         ],
         "hovertemplate": "<b>%{text}</b><br>Type: %{customdata[0]}<br>Storey: %{customdata[1]}<br>Volume: %{customdata[2]:.2f} m³<br>Position: (%{x:.1f}, %{y:.1f}, %{z:.1f})<br><extra></extra>",
         "marker": {
          "color": "#2E86AB",
          "line": {
           "color": "white",
           "width": 1
          },
          "opacity": 0.7,
          "size": {
           "bdata": "BGQtDCOuFEAEZC0MI64UQANhVBUzoBRAAAAAAAAANEBuAAAAAIAxQDkAAAAAgDFABAAAAACAMUAeOC+q+n8xQAXHSmnXfDFAxvPZMf5/MUB8fF1DB5MjQCwJ/ZIEkyNALOMm7ZOVMkBlbqxkIfgWQA==",
           "dtype": "f8"
          }
         },
         "mode": "markers",
         "name": "ARCHITECTURE (14 elements)",
         "text": [
          "SVT_ARQ_PuertaUnaHoja:P1_90x210_1 hoja:3483089",
          "SVT_ARQ_PuertaUnaHoja:P1_90x210_1 hoja:3483511",
          "Puerta de cristal abatible en muro cortina:Puerta ",
          "Muro básico:ARQ_MUR_ParedBloque_30cm:2947354",
          "Muro básico:ARQ_MUR_IN SITU_25CM:3560261",
          "Muro básico:ARQ_MUR_IN SITU_25CM:3560394",
          "Muro básico:ARQ_MUR_IN SITU_25CM:3560447",
          "Muro básico:ARQ_MUR_IN SITU_25CM:3560502",
          "Muro básico:ARQ_MUR_IN SITU_25CM:3560644",
          "Muro básico:ARQ_MUR_IN SITU_25CM:3560852",
          "Muro básico:Por defecto - 5 CM AMARI:3304290",
          "Muro básico:Por defecto - 5 CM AMARI:3465196",
          "Muro básico:ARQ_MUR_FachadaInSitu_24cm H:2948021",
          "Muro básico:Recrecido de Viga:3278118"
         ],
         "type": "scatter3d",
         "x": {
          "bdata": "18I8ea1rHkGHETrFbWseQa1meHrqax5BH+cWAIpqHkF7hk2PmWoeQdYlhB6pah5BMsW6rbhqHkEravA8yGoeQefem8rXah5BizyU6vZqHkEY+JoMCWseQbFHygPLah5Bnx7o64lqHkH8uhwJTmseQQ==",
          "dtype": "f8"
         },
         "y": {
          "bdata": "OSxbndzUUUHMJ8Ev4dRRQVchkw3Z1FFBnvIFRfTUUUHjnCcn89RRQSdHSQny1FFBa/Fq6/DUUUEPjozN79RRQS+2mK/u1FFBOYzxc+zUUUHKOML37tRRQaQLmcnr1FFBLYB4RvTUUUGATVYz5tRRQQ==",
          "dtype": "f8"
         },
         "z": {
          "bdata": "P0REREQURUA/RERERBRFQOtdcPOzvkFAyczMzMxsQUDJzMzMzGxBQMnMzMzMbEFAyczMzMxsQUDJzMzMzGxBQMnMzMzMbEFAyczMzMxsQUBbj9P/XgtGQEGw7559CUZA1/t9HZ+2REDqvcB/0JNGQA==",
          "dtype": "f8"
         }
        },
        {
         "customdata": [
          [
           "IfcFlowTerminal",
           "MUELLE",
           0.024593591515250323
          ],
          [
           "IfcFlowTerminal",
           "MUELLE",
           0.024593591515250323
          ],
          [
           "IfcFlowTerminal",
           "MUELLE",
           0.025405512472942326
          ],
          [
           "IfcFlowTerminal",
           "MUELLE",
           0.3559999999999997
          ],
          [
           "IfcFlowTerminal",
           "MUELLE",
           0.3559999999999997
          ],
          [
           "IfcFlowFitting",
           "MUELLE",
           0.0012209446655363527
          ],
          [
           "IfcFlowFitting",
           "PANEL PREFABRICADO",
           0.0012209446655363527
          ],
          [
           "IfcFlowFitting",
           "PANEL PREFABRICADO",
           0.0012209446655363527
          ],
          [
           "IfcFlowFitting",
           "PANEL PREFABRICADO",
           0.0012209446655363527
          ],
          [
           "IfcFlowFitting",
           "PANEL PREFABRICADO",
           0.0012209446655363527
          ]
         ],
         "hovertemplate": "<b>%{text}</b><br>Type: %{customdata[0]}<br>Storey: %{customdata[1]}<br>Volume: %{customdata[2]:.2f} m³<br>Position: (%{x:.1f}, %{y:.1f}, %{z:.1f})<br><extra></extra>",
         "marker": {
          "color": "#A23B72",
          "line": {
           "color": "white",
           "width": 1
          },
          "opacity": 0.7,
          "size": {
           "bdata": "qTa1qU1tIkCpNrWpTW0iQKk2talNbSJAAAAAAAAANEAAAAAAAAA0QKk2talNbSJAqTa1qU1tIkCpNrWpTW0iQKk2talNbSJAqTa1qU1tIkA=",
           "dtype": "f8"
          }
         },
         "mode": "markers",
         "name": "MEP (10 elements)",
         "text": [
          "Vitreous china urinal with back inlet-Chic-35945Jx",
          "Vitreous china urinal with back inlet-Chic-35945Jx",
          "Lavabo con encimera simple3D:Doble:3626390",
          "MEP_PCI_CortinaHumos:MEP_PCI_CortinaHumos:3683042",
          "MEP_PCI_CortinaHumos:MEP_PCI_CortinaHumos:3685018",
          "SVT_SUMIDERO.0001:sumidero 200x400:3500600",
          "SVT_SUMIDERO.0001:sumidero 200x400:3500805",
          "SVT_SUMIDERO.0001:sumidero 200x400:3500816",
          "SVT_SUMIDERO.0001:sumidero 200x400:3500830",
          "SVT_SUMIDERO.0001:sumidero 200x400:3500841"
         ],
         "type": "scatter3d",
         "x": {
          "bdata": "TGjF3gpsHkF8FZP6CGweQY/EoJ8GbB5BDd1tA3NrHkHAklhmj2seQUjW4Dnrax5B9KjBEMlrHkEcZ1HqpmseQYs64cOEax5B+w1xnWJrHkE=",
          "dtype": "f8"
         },
         "y": {
          "bdata": "FrT+SNnUUUEmsr5r2dRRQbZRcqXZ1FFBEQjywOHUUUH0QnlM49RRQWSHe0nX1FFBb4QCwdnUUUHfm3A03NRRQcix3qfe1FFBscdMG+HUUUE=",
          "dtype": "f8"
         },
         "z": {
          "bdata": "qUGgRBKLQUCpQaBEEotBQEMCGZnMqEFA/P////+/Q0D8/////79DQLHFaYlZx0ZAEBMjbafURkAQEyNtp9RGQBATI22n1EZADxMjbafURkA=",
          "dtype": "f8"
         }
        }
       ],
       "layout": {
        "height": 700,
        "legend": {
         "x": 0.01,
         "xanchor": "left",
         "y": 0.99,
         "yanchor": "top"
        },
        "scene": {
         "aspectmode": "data",
         "camera": {
          "eye": {
           "x": 1.5,
           "y": 1.5,
           "z": 1.5
          }
         },
         "xaxis": {
          "title": {
           "text": "X (Easting) [m]"
          }
         },
         "yaxis": {
          "title": {
           "text": "Y (Northing) [m]"
          }
         },
         "zaxis": {
          "title": {
           "text": "Z (Elevation) [m]"
          }
         }
        },
        "showlegend": true,
        "template": {
         "data": {
          "bar": [
           {
            "error_x": {
             "color": "#2a3f5f"
            },
            "error_y": {
             "color": "#2a3f5f"
            },
            "marker": {
             "line": {
              "color": "#E5ECF6",
              "width": 0.5
             },
             "pattern": {
              "fillmode": "overlay",
              "size": 10,
              "solidity": 0.2
             }
            },
            "type": "bar"
           }
          ],
          "barpolar": [
           {
            "marker": {
             "line": {
              "color": "#E5ECF6",
              "width": 0.5
             },
             "pattern": {
              "fillmode": "overlay",
              "size": 10,
              "solidity": 0.2
             }
            },
            "type": "barpolar"
           }
          ],
          "carpet": [
           {
            "aaxis": {
             "endlinecolor": "#2a3f5f",
             "gridcolor": "white",
             "linecolor": "white",
             "minorgridcolor": "white",
             "startlinecolor": "#2a3f5f"
            },
            "baxis": {
             "endlinecolor": "#2a3f5f",
             "gridcolor": "white",
             "linecolor": "white",
             "minorgridcolor": "white",
             "startlinecolor": "#2a3f5f"
            },
            "type": "carpet"
           }
          ],
          "choropleth": [
           {
            "colorbar": {
             "outlinewidth": 0,
             "ticks": ""
            },
            "type": "choropleth"
           }
          ],
          "contour": [
           {
            "colorbar": {
             "outlinewidth": 0,
             "ticks": ""
            },
            "colorscale": [
             [
              0,
              "#0d0887"
             ],
             [
              0.1111111111111111,
              "#46039f"
             ],
             [
              0.2222222222222222,
              "#7201a8"
             ],
             [
              0.3333333333333333,
              "#9c179e"
             ],
             [
              0.4444444444444444,
              "#bd3786"
             ],
             [
              0.5555555555555556,
              "#d8576b"
             ],
             [
              0.6666666666666666,
              "#ed7953"
             ],
             [
              0.7777777777777778,
              "#fb9f3a"
             ],
             [
              0.8888888888888888,
              "#fdca26"
             ],
             [
              1,
              "#f0f921"
             ]
            ],
            "type": "contour"
           }
          ],
          "contourcarpet": [
           {
            "colorbar": {
             "outlinewidth": 0,
             "ticks": ""
            },
            "type": "contourcarpet"
           }
          ],
          "heatmap": [
           {
            "colorbar": {
             "outlinewidth": 0,
             "ticks": ""
            },
            "colorscale": [
             [
              0,
              "#0d0887"
             ],
             [
              0.1111111111111111,
              "#46039f"
             ],
             [
              0.2222222222222222,
              "#7201a8"
             ],
             [
              0.3333333333333333,
              "#9c179e"
             ],
             [
              0.4444444444444444,
              "#bd3786"
             ],
             [
              0.5555555555555556,
              "#d8576b"
             ],
             [
              0.6666666666666666,
              "#ed7953"
             ],
             [
              0.7777777777777778,
              "#fb9f3a"
             ],
             [
              0.8888888888888888,
              "#fdca26"
             ],
             [
              1,
              "#f0f921"
             ]
            ],
            "type": "heatmap"
           }
          ],
          "histogram": [
           {
            "marker": {
             "pattern": {
              "fillmode": "overlay",
              "size": 10,
              "solidity": 0.2
             }
            },
            "type": "histogram"
           }
          ],
          "histogram2d": [
           {
            "colorbar": {
             "outlinewidth": 0,
             "ticks": ""
            },
            "colorscale": [
             [
              0,
              "#0d0887"
             ],
             [
              0.1111111111111111,
              "#46039f"
             ],
             [
              0.2222222222222222,
              "#7201a8"
             ],
             [
              0.3333333333333333,
              "#9c179e"
             ],
             [
              0.4444444444444444,
              "#bd3786"
             ],
             [
              0.5555555555555556,
              "#d8576b"
             ],
             [
              0.6666666666666666,
              "#ed7953"
             ],
             [
              0.7777777777777778,
              "#fb9f3a"
             ],
             [
              0.8888888888888888,
              "#fdca26"
             ],
             [
              1,
              "#f0f921"
             ]
            ],
            "type": "histogram2d"
           }
          ],
          "histogram2dcontour": [
           {
            "colorbar": {
             "outlinewidth": 0,
             "ticks": ""
            },
            "colorscale": [
             [
              0,
              "#0d0887"
             ],
             [
              0.1111111111111111,
              "#46039f"
             ],
             [
              0.2222222222222222,
              "#7201a8"
             ],
             [
              0.3333333333333333,
              "#9c179e"
             ],
             [
              0.4444444444444444,
              "#bd3786"
             ],
             [
              0.5555555555555556,
              "#d8576b"
             ],
             [
              0.6666666666666666,
              "#ed7953"
             ],
             [
              0.7777777777777778,
              "#fb9f3a"
             ],
             [
              0.8888888888888888,
              "#fdca26"
             ],
             [
              1,
              "#f0f921"
             ]
            ],
            "type": "histogram2dcontour"
           }
          ],
          "mesh3d": [
           {
            "colorbar": {
             "outlinewidth": 0,
             "ticks": ""
            },
            "type": "mesh3d"
           }
          ],
          "parcoords": [
           {
            "line": {
             "colorbar": {
              "outlinewidth": 0,
              "ticks": ""
             }
            },
            "type": "parcoords"
           }
          ],
          "pie": [
           {
            "automargin": true,
            "type": "pie"
           }
          ],
          "scatter": [
           {
            "fillpattern": {
             "fillmode": "overlay",
             "size": 10,
             "solidity": 0.2
            },
            "type": "scatter"
           }
          ],
          "scatter3d": [
           {
            "line": {
             "colorbar": {
              "outlinewidth": 0,
              "ticks": ""
             }
            },
            "marker": {
             "colorbar": {
              "outlinewidth": 0,
              "ticks": ""
             }
            },
            "type": "scatter3d"
           }
          ],
          "scattercarpet": [
           {
            "marker": {
             "colorbar": {
              "outlinewidth": 0,
              "ticks": ""
             }
            },
            "type": "scattercarpet"
           }
          ],
          "scattergeo": [
           {
            "marker": {
             "colorbar": {
              "outlinewidth": 0,
              "ticks": ""
             }
            },
            "type": "scattergeo"
           }
          ],
          "scattergl": [
           {
            "marker": {
             "colorbar": {
              "outlinewidth": 0,
              "ticks": ""
             }
            },
            "type": "scattergl"
           }
          ],
          "scattermap": [
           {
            "marker": {
             "colorbar": {
              "outlinewidth": 0,
              "ticks": ""
             }
            },
            "type": "scattermap"
           }
          ],
          "scattermapbox": [
           {
            "marker": {
             "colorbar": {
              "outlinewidth": 0,
              "ticks": ""
             }
            },
            "type": "scattermapbox"
           }
          ],
          "scatterpolar": [
           {
            "marker": {
             "colorbar": {
              "outlinewidth": 0,
              "ticks": ""
             }
            },
            "type": "scatterpolar"
           }
          ],
          "scatterpolargl": [
           {
            "marker": {
             "colorbar": {
              "outlinewidth": 0,
              "ticks": ""
             }
            },
            "type": "scatterpolargl"
           }
          ],
          "scatterternary": [
           {
            "marker": {
             "colorbar": {
              "outlinewidth": 0,
              "ticks": ""
             }
            },
            "type": "scatterternary"
           }
          ],
          "surface": [
           {
            "colorbar": {
             "outlinewidth": 0,
             "ticks": ""
            },
            "colorscale": [
             [
              0,
              "#0d0887"
             ],
             [
              0.1111111111111111,
              "#46039f"
             ],
             [
              0.2222222222222222,
              "#7201a8"
             ],
             [
              0.3333333333333333,
              "#9c179e"
             ],
             [
              0.4444444444444444,
              "#bd3786"
             ],
             [
              0.5555555555555556,
              "#d8576b"
             ],
             [
              0.6666666666666666,
              "#ed7953"
             ],
             [
              0.7777777777777778,
              "#fb9f3a"
             ],
             [
              0.8888888888888888,
              "#fdca26"
             ],
             [
              1,
              "#f0f921"
             ]
            ],
            "type": "surface"
           }
          ],
          "table": [
           {
            "cells": {
             "fill": {
              "color": "#EBF0F8"
             },
             "line": {
              "color": "white"
             }
            },
            "header": {
             "fill": {
              "color": "#C8D4E3"
             },
             "line": {
              "color": "white"
             }
            },
            "type": "table"
           }
          ]
         },
         "layout": {
          "annotationdefaults": {
           "arrowcolor": "#2a3f5f",
           "arrowhead": 0,
           "arrowwidth": 1
          },
          "autotypenumbers": "strict",
          "coloraxis": {
           "colorbar": {
            "outlinewidth": 0,
            "ticks": ""
           }
          },
          "colorscale": {
           "diverging": [
            [
             0,
             "#8e0152"
            ],
            [
             0.1,
             "#c51b7d"
            ],
            [
             0.2,
             "#de77ae"
            ],
            [
             0.3,
             "#f1b6da"
            ],
            [
             0.4,
             "#fde0ef"
            ],
            [
             0.5,
             "#f7f7f7"
            ],
            [
             0.6,
             "#e6f5d0"
            ],
            [
             0.7,
             "#b8e186"
            ],
            [
             0.8,
             "#7fbc41"
            ],
            [
             0.9,
             "#4d9221"
            ],
            [
             1,
             "#276419"
            ]
           ],
           "sequential": [
            [
             0,
             "#0d0887"
            ],
            [
             0.1111111111111111,
             "#46039f"
            ],
            [
             0.2222222222222222,
             "#7201a8"
            ],
            [
             0.3333333333333333,
             "#9c179e"
            ],
            [
             0.4444444444444444,
             "#bd3786"
            ],
            [
             0.5555555555555556,
             "#d8576b"
            ],
            [
             0.6666666666666666,
             "#ed7953"
            ],
            [
             0.7777777777777778,
             "#fb9f3a"
            ],
            [
             0.8888888888888888,
             "#fdca26"
            ],
            [
             1,
             "#f0f921"
            ]
           ],
           "sequentialminus": [
            [
             0,
             "#0d0887"
            ],
            [
             0.1111111111111111,
             "#46039f"
            ],
            [
             0.2222222222222222,
             "#7201a8"
            ],
            [
             0.3333333333333333,
             "#9c179e"
            ],
            [
             0.4444444444444444,
             "#bd3786"
            ],
            [
             0.5555555555555556,
             "#d8576b"
            ],
            [
             0.6666666666666666,
             "#ed7953"
            ],
            [
             0.7777777777777778,
             "#fb9f3a"
            ],
            [
             0.8888888888888888,
             "#fdca26"
            ],
            [
             1,
             "#f0f921"
            ]
           ]
          },
          "colorway": [
           "#636efa",
           "#EF553B",
           "#00cc96",
           "#ab63fa",
           "#FFA15A",
           "#19d3f3",
           "#FF6692",
           "#B6E880",
           "#FF97FF",
           "#FECB52"
          ],
          "font": {
           "color": "#2a3f5f"
          },
          "geo": {
           "bgcolor": "white",
           "lakecolor": "white",
           "landcolor": "#E5ECF6",
           "showlakes": true,
           "showland": true,
           "subunitcolor": "white"
          },
          "hoverlabel": {
           "align": "left"
          },
          "hovermode": "closest",
          "mapbox": {
           "style": "light"
          },
          "paper_bgcolor": "white",
          "plot_bgcolor": "#E5ECF6",
          "polar": {
           "angularaxis": {
            "gridcolor": "white",
            "linecolor": "white",
            "ticks": ""
           },
           "bgcolor": "#E5ECF6",
           "radialaxis": {
            "gridcolor": "white",
            "linecolor": "white",
            "ticks": ""
           }
          },
          "scene": {
           "xaxis": {
            "backgroundcolor": "#E5ECF6",
            "gridcolor": "white",
            "gridwidth": 2,
            "linecolor": "white",
            "showbackground": true,
            "ticks": "",
            "zerolinecolor": "white"
           },
           "yaxis": {
            "backgroundcolor": "#E5ECF6",
            "gridcolor": "white",
            "gridwidth": 2,
            "linecolor": "white",
            "showbackground": true,
            "ticks": "",
            "zerolinecolor": "white"
           },
           "zaxis": {
            "backgroundcolor": "#E5ECF6",
            "gridcolor": "white",
            "gridwidth": 2,
            "linecolor": "white",
            "showbackground": true,
            "ticks": "",
            "zerolinecolor": "white"
           }
          },
          "shapedefaults": {
           "line": {
            "color": "#2a3f5f"
           }
          },
          "ternary": {
           "aaxis": {
            "gridcolor": "white",
            "linecolor": "white",
            "ticks": ""
           },
           "baxis": {
            "gridcolor": "white",
            "linecolor": "white",
            "ticks": ""
           },
           "bgcolor": "#E5ECF6",
           "caxis": {
            "gridcolor": "white",
            "linecolor": "white",
            "ticks": ""
           }
          },
          "title": {
           "x": 0.05
          },
          "xaxis": {
           "automargin": true,
           "gridcolor": "white",
           "linecolor": "white",
           "ticks": "",
           "title": {
            "standoff": 15
           },
           "zerolinecolor": "white",
           "zerolinewidth": 2
          },
          "yaxis": {
           "automargin": true,
           "gridcolor": "white",
           "linecolor": "white",
           "ticks": "",
           "title": {
            "standoff": 15
           },
           "zerolinecolor": "white",
           "zerolinewidth": 2
          }
         }
        },
        "title": {
         "font": {
          "size": 16
         },
         "text": "🏢 Interactive 3D Building Model<br><sub>Points sized by volume, colored by domain</sub>",
         "x": 0.5
        },
        "width": 900
       }
      },
      "image/png": "[encoded data removed]"
     },
     "metadata": {},
     "output_type": "display_data"
    },
    {
     "name": "stdout",
     "output_type": "stream",
     "text": [
      "📍 3D VISUALIZATION SUMMARY:\n",
      "   • Total elements plotted: 24\n",
      "   • Coordinate range:\n",
      "     - X: 498338.5 to 498434.7 m\n",
      "     - Y: 4674397.1 to 4674513.1 m\n",
      "     - Z: 34.8 to 45.7 m\n",
      "   • Building height: 10.8 m\n",
      "\n",
      "🔢 TOP ELEMENT TYPES:\n",
      "   • IfcWall: 9\n",
      "   • IfcFlowTerminal: 5\n",
      "   • IfcFlowFitting: 5\n",
      "   • IfcDoor: 3\n",
      "   • IfcWallStandardCase: 2\n"
     ]
    }
   ],
   "source": [
    "# SECTION 2: Interactive 3D Building Visualization\n",
    "print(\"\\n🌐 SECTION 2: Interactive 3D Building Visualization\")\n",
    "print(\"-\" * 50)\n",
    "\n",
    "def create_3d_building_model(building_data):\n",
    "    \"\"\"Create an interactive 3D visualization of the building\"\"\"\n",
    "    \n",
    "    # Combine all elements for 3D visualization\n",
    "    all_elements = []\n",
    "    for domain, elements in building_data.items():\n",
    "        for elem in elements:\n",
    "            elem['domain'] = domain\n",
    "            all_elements.append(elem)\n",
    "    \n",
    "    if not all_elements:\n",
    "        print(\"No elements available for 3D visualization\")\n",
    "        return\n",
    "    \n",
    "    # Extract coordinates and metadata\n",
    "    plot_data = []\n",
    "    for elem in all_elements:\n",
    "        try:\n",
    "            coords = elem.get('coordinates', {})\n",
    "            ref_point = coords.get('reference_point_world_m')\n",
    "            \n",
    "            if ref_point and len(ref_point) >= 3:\n",
    "                x, y, z = ref_point[0], ref_point[1], ref_point[2]\n",
    "                \n",
    "                # Get element properties for hover info\n",
    "                ifc_class = elem.get('ifc_class', 'Unknown')\n",
    "                name = elem.get('name', 'Unnamed')[:50]  # Truncate long names\n",
    "                storey = elem.get('spatial', {}).get('storey', 'Unknown')\n",
    "                \n",
    "                # Get size information\n",
    "                geom = elem.get('geometry_summary', {})\n",
    "                volume = geom.get('volume_m3', 0)\n",
    "                \n",
    "                # Color by domain\n",
    "                domain = elem.get('domain', 'unknown')\n",
    "                \n",
    "                plot_data.append({\n",
    "                    'x': x, 'y': y, 'z': z,\n",
    "                    'ifc_class': ifc_class,\n",
    "                    'name': name,\n",
    "                    'storey': storey,\n",
    "                    'volume': volume,\n",
    "                    'domain': domain\n",
    "                })\n",
    "        except (KeyError, TypeError, IndexError):\n",
    "            continue\n",
    "    \n",
    "    if not plot_data:\n",
    "        print(\"No valid coordinate data found for visualization\")\n",
    "        return\n",
    "    \n",
    "    df = pd.DataFrame(plot_data)\n",
    "    \n",
    "    # Create 3D scatter plot with Plotly\n",
    "    fig = go.Figure()\n",
    "    \n",
    "    # Color mapping for domains\n",
    "    domain_colors = {\n",
    "        'architecture': '#2E86AB',  # Blue\n",
    "        'mep': '#A23B72',          # Purple\n",
    "        'structural': '#F18F01',   # Orange\n",
    "        'unknown': '#C73E1D'       # Red\n",
    "    }\n",
    "    \n",
    "    # Create traces for each domain\n",
    "    for domain in df['domain'].unique():\n",
    "        domain_data = df[df['domain'] == domain]\n",
    "        \n",
    "        # Size points by volume (with min/max limits)\n",
    "        sizes = domain_data['volume'].fillna(0)\n",
    "        sizes = np.clip(sizes, 0.1, 50)  # Limit size range\n",
    "        sizes = (sizes / sizes.max() * 15 + 5) if sizes.max() > 0 else [8] * len(sizes)\n",
    "        \n",
    "        fig.add_trace(go.Scatter3d(\n",
    "            x=domain_data['x'],\n",
    "            y=domain_data['y'], \n",
    "            z=domain_data['z'],\n",
    "            mode='markers',\n",
    "            marker=dict(\n",
    "                size=sizes,\n",
    "                color=domain_colors.get(domain, '#C73E1D'),\n",
    "                opacity=0.7,\n",
    "                line=dict(width=1, color='white')\n",
    "            ),\n",
    "            name=f'{domain.upper()} ({len(domain_data)} elements)',\n",
    "            text=domain_data['name'],\n",
    "            hovertemplate=\n",
    "                '<b>%{text}</b><br>' +\n",
    "                'Type: %{customdata[0]}<br>' +\n",
    "                'Storey: %{customdata[1]}<br>' +\n",
    "                'Volume: %{customdata[2]:.2f} m³<br>' +\n",
    "                'Position: (%{x:.1f}, %{y:.1f}, %{z:.1f})<br>' +\n",
    "                '<extra></extra>',\n",
    "            customdata=domain_data[['ifc_class', 'storey', 'volume']].values\n",
    "        ))\n",
    "    \n",
    "    # Update layout for better 3D visualization\n",
    "    fig.update_layout(\n",
    "        title={\n",
    "            'text': '🏢 Interactive 3D Building Model<br><sub>Points sized by volume, colored by domain</sub>',\n",
    "            'x': 0.5,\n",
    "            'font': {'size': 16}\n",
    "        },\n",
    "        scene=dict(\n",
    "            xaxis_title='X (Easting) [m]',\n",
    "            yaxis_title='Y (Northing) [m]',\n",
    "            zaxis_title='Z (Elevation) [m]',\n",
    "            camera=dict(\n",
    "                eye=dict(x=1.5, y=1.5, z=1.5)\n",
    "            ),\n",
    "            aspectmode='data'\n",
    "        ),\n",
    "        width=900,\n",
    "        height=700,\n",
    "        showlegend=True,\n",
    "        legend=dict(\n",
    "            yanchor=\"top\",\n",
    "            y=0.99,\n",
    "            xanchor=\"left\",\n",
    "            x=0.01\n",
    "        )\n",
    "    )\n",
    "    \n",
    "    fig.show()\n",
    "    \n",
    "    # Print summary statistics\n",
    "    print(f\"📍 3D VISUALIZATION SUMMARY:\")\n",
    "    print(f\"   • Total elements plotted: {len(df):,}\")\n",
    "    print(f\"   • Coordinate range:\")\n",
    "    print(f\"     - X: {df['x'].min():.1f} to {df['x'].max():.1f} m\")\n",
    "    print(f\"     - Y: {df['y'].min():.1f} to {df['y'].max():.1f} m\") \n",
    "    print(f\"     - Z: {df['z'].min():.1f} to {df['z'].max():.1f} m\")\n",
    "    print(f\"   • Building height: {df['z'].max() - df['z'].min():.1f} m\")\n",
    "    \n",
    "    # Show element distribution by type\n",
    "    type_counts = df['ifc_class'].value_counts().head(10)\n",
    "    print(f\"\\n🔢 TOP ELEMENT TYPES:\")\n",
    "    for ifc_type, count in type_counts.items():\n",
    "        print(f\"   • {ifc_type}: {count:,}\")\n",
    "\n",
    "# Create the 3D visualization\n",
    "create_3d_building_model(building_data)"
   ]
  },
  {
   "cell_type": "code",
   "execution_count": 5,
   "metadata": {},
   "outputs": [
    {
     "name": "stdout",
     "output_type": "stream",
     "text": [
      "\n",
      "🎯 SECTION 3: Building Performance Analysis\n",
      "--------------------------------------------------\n",
      "🔍 ANALYZING BUILDING PERFORMANCE CHARACTERISTICS...\n",
      "\n",
      "🌡️  THERMAL PERFORMANCE:\n",
      "   • External elements with thermal data: 3\n",
      "   • U-values range: 5.23 - 450.00 W/m²K\n",
      "   • Average U-value: 153.60 W/m²K\n",
      "\n",
      "♿ ACCESSIBILITY ANALYSIS:\n",
      "   • Total doors analyzed: 3\n",
      "   • Door widths: 0.11m - 0.20m (avg: 0.17m)\n",
      "   • Potentially accessible doors (≥0.8m): 0/3 (0.0%)\n",
      "   ⚠️  WARNING: Some doors may not meet accessibility standards\n",
      "\n",
      "📐 SPACE UTILIZATION:\n",
      "   • Defined spaces: 0\n",
      "   • Total space volume: 0.0 m³\n",
      "   • Wall elements: 9\n",
      "   • Total wall volume: 63.6 m³\n",
      "\n",
      "🏗️  STRUCTURAL ANALYSIS:\n",
      "   • Total walls: 9\n",
      "   • Load-bearing walls: 0\n",
      "   • Load-bearing ratio: 0.0%\n"
     ]
    }
   ],
   "source": [
    "# SECTION 3: Building Performance Analysis\n",
    "print(\"\\n🎯 SECTION 3: Building Performance Analysis\")\n",
    "print(\"-\" * 50)\n",
    "\n",
    "def analyze_building_performance(building_data):\n",
    "    \"\"\"Analyze building performance characteristics from extracted data\"\"\"\n",
    "    \n",
    "    arch_elements = building_data.get('architecture', [])\n",
    "    if not arch_elements:\n",
    "        print(\"No architectural elements available for performance analysis\")\n",
    "        return\n",
    "    \n",
    "    print(\"🔍 ANALYZING BUILDING PERFORMANCE CHARACTERISTICS...\")\n",
    "    \n",
    "    # 1. THERMAL PERFORMANCE ANALYSIS\n",
    "    print(\"\\n🌡️  THERMAL PERFORMANCE:\")\n",
    "    thermal_elements = []\n",
    "    \n",
    "    for elem in arch_elements:\n",
    "        props = elem.get('properties', {})\n",
    "        thermal_props = {}\n",
    "        \n",
    "        # Look for thermal properties in different property sets\n",
    "        for pset_name, pset_data in props.items():\n",
    "            if isinstance(pset_data, dict):\n",
    "                # Check for thermal transmittance (U-value)\n",
    "                if 'ThermalTransmittance' in pset_data:\n",
    "                    thermal_props['u_value'] = pset_data['ThermalTransmittance'].get('value')\n",
    "                # Check for thermal resistance\n",
    "                if 'ThermalResistance' in pset_data:\n",
    "                    thermal_props['r_value'] = pset_data['ThermalResistance'].get('value')\n",
    "        \n",
    "        if thermal_props:\n",
    "            thermal_props.update({\n",
    "                'element_type': elem.get('ifc_class'),\n",
    "                'name': elem.get('name', ''),\n",
    "                'is_external': False\n",
    "            })\n",
    "            \n",
    "            # Check if element is external\n",
    "            for pset_name, pset_data in props.items():\n",
    "                if isinstance(pset_data, dict) and 'IsExternal' in pset_data:\n",
    "                    thermal_props['is_external'] = pset_data['IsExternal'].get('value', False)\n",
    "            \n",
    "            thermal_elements.append(thermal_props)\n",
    "    \n",
    "    if thermal_elements:\n",
    "        thermal_df = pd.DataFrame(thermal_elements)\n",
    "        external_elements = thermal_df[thermal_df['is_external'] == True]\n",
    "        \n",
    "        if len(external_elements) > 0:\n",
    "            print(f\"   • External elements with thermal data: {len(external_elements)}\")\n",
    "            if 'u_value' in external_elements.columns:\n",
    "                u_values = external_elements['u_value'].dropna()\n",
    "                if len(u_values) > 0:\n",
    "                    print(f\"   • U-values range: {u_values.min():.2f} - {u_values.max():.2f} W/m²K\")\n",
    "                    print(f\"   • Average U-value: {u_values.mean():.2f} W/m²K\")\n",
    "        else:\n",
    "            print(\"   • No external elements with thermal properties found\")\n",
    "    else:\n",
    "        print(\"   • No thermal properties found in current dataset\")\n",
    "    \n",
    "    # 2. ACCESSIBILITY ANALYSIS\n",
    "    print(\"\\n♿ ACCESSIBILITY ANALYSIS:\")\n",
    "    doors = [e for e in arch_elements if e.get('ifc_class') == 'IfcDoor']\n",
    "    \n",
    "    if doors:\n",
    "        door_widths = []\n",
    "        door_heights = []\n",
    "        \n",
    "        for door in doors:\n",
    "            geom = door.get('geometry_summary', {})\n",
    "            width = geom.get('width_m')\n",
    "            height = geom.get('height_m')\n",
    "            \n",
    "            if width: door_widths.append(width)\n",
    "            if height: door_heights.append(height)\n",
    "        \n",
    "        if door_widths:\n",
    "            min_width = min(door_widths)\n",
    "            avg_width = np.mean(door_widths)\n",
    "            accessible_doors = sum(1 for w in door_widths if w >= 0.8)  # 80cm minimum\n",
    "            \n",
    "            print(f\"   • Total doors analyzed: {len(doors)}\")\n",
    "            print(f\"   • Door widths: {min_width:.2f}m - {max(door_widths):.2f}m (avg: {avg_width:.2f}m)\")\n",
    "            print(f\"   • Potentially accessible doors (≥0.8m): {accessible_doors}/{len(door_widths)} ({accessible_doors/len(door_widths)*100:.1f}%)\")\n",
    "            \n",
    "            if min_width < 0.8:\n",
    "                print(f\"   ⚠️  WARNING: Some doors may not meet accessibility standards\")\n",
    "        else:\n",
    "            print(\"   • No door dimension data available\")\n",
    "    else:\n",
    "        print(\"   • No doors found in dataset\")\n",
    "    \n",
    "    # 3. SPACE UTILIZATION ANALYSIS\n",
    "    print(\"\\n📐 SPACE UTILIZATION:\")\n",
    "    spaces = [e for e in arch_elements if e.get('ifc_class') == 'IfcSpace']\n",
    "    walls = [e for e in arch_elements if e.get('ifc_class') == 'IfcWall']\n",
    "    \n",
    "    total_space_volume = sum(s.get('geometry_summary', {}).get('volume_m3', 0) for s in spaces)\n",
    "    total_wall_volume = sum(w.get('geometry_summary', {}).get('volume_m3', 0) for w in walls)\n",
    "    \n",
    "    print(f\"   • Defined spaces: {len(spaces)}\")\n",
    "    print(f\"   • Total space volume: {total_space_volume:,.1f} m³\")\n",
    "    print(f\"   • Wall elements: {len(walls)}\")\n",
    "    print(f\"   • Total wall volume: {total_wall_volume:,.1f} m³\")\n",
    "    \n",
    "    if total_space_volume > 0 and total_wall_volume > 0:\n",
    "        efficiency = total_space_volume / (total_space_volume + total_wall_volume)\n",
    "        print(f\"   • Space efficiency ratio: {efficiency:.1%}\")\n",
    "    \n",
    "    # 4. STRUCTURAL LOAD BEARING ANALYSIS\n",
    "    print(\"\\n🏗️  STRUCTURAL ANALYSIS:\")\n",
    "    load_bearing_walls = []\n",
    "    \n",
    "    for wall in walls:\n",
    "        props = wall.get('properties', {})\n",
    "        for pset_name, pset_data in props.items():\n",
    "            if isinstance(pset_data, dict) and 'LoadBearing' in pset_data:\n",
    "                is_load_bearing = pset_data['LoadBearing'].get('value', False)\n",
    "                if is_load_bearing:\n",
    "                    load_bearing_walls.append(wall)\n",
    "                break\n",
    "    \n",
    "    print(f\"   • Total walls: {len(walls)}\")\n",
    "    print(f\"   • Load-bearing walls: {len(load_bearing_walls)}\")\n",
    "    \n",
    "    if len(walls) > 0:\n",
    "        lb_percentage = len(load_bearing_walls) / len(walls) * 100\n",
    "        print(f\"   • Load-bearing ratio: {lb_percentage:.1f}%\")\n",
    "\n",
    "# Run building performance analysis\n",
    "analyze_building_performance(building_data)"
   ]
  },
  {
   "cell_type": "code",
   "execution_count": 6,
   "metadata": {},
   "outputs": [
    {
     "name": "stdout",
     "output_type": "stream",
     "text": [
      "\n",
      "🎯 SECTION 4: Summary and Next Steps\n",
      "--------------------------------------------------\n",
      "📊 COMPREHENSIVE BUILDING ANALYSIS SUMMARY\n",
      "============================================================\n",
      "🏢 BUILDING OVERVIEW:\n",
      "   • Total extracted elements: 24\n",
      "   • Building footprint: 11,159 m²\n",
      "   • Building dimensions: 96.2m × 116.0m\n",
      "   • Building height: 10.8m\n",
      "\n",
      "🔧 DOMAIN BREAKDOWN:\n",
      "   • ARCHITECTURE: 14 elements (3 types)\n",
      "   • MEP: 10 elements (2 types)\n",
      "\n",
      "🎯 KEY FINDINGS:\n",
      "   🏗️  ARCHITECTURE:\n",
      "      • 0 defined spaces\n",
      "      • 3 doors for circulation\n",
      "      • 9 wall elements\n",
      "      • 0.0% doors meet accessibility width standards\n",
      "      • 3 elements have thermal performance data\n",
      "   ⚡ MEP SYSTEMS:\n",
      "      • 10 MEP elements across 2 system types\n",
      "      • IfcFlowTerminal: 5 elements\n",
      "      • IfcFlowFitting: 5 elements\n",
      "\n",
      "🚀 WHAT THIS ENABLES:\n",
      "   ✅ Building code compliance verification\n",
      "   ✅ Energy performance modeling\n",
      "   ✅ Accessibility assessment\n",
      "   ✅ Automated quantity takeoffs\n",
      "   ✅ Clash detection and coordination\n",
      "   ✅ Space planning and optimization\n",
      "   ✅ Life cycle assessment\n",
      "   ✅ Facility management preparation\n",
      "\n",
      "🔮 NEXT STEPS:\n",
      "   1. 🔍 Advanced Code Compliance Analysis\n",
      "      • Fire safety egress analysis\n",
      "      • Accessibility compliance checking\n",
      "      • Structural load path verification\n",
      "   2. 🎯 Performance Optimization\n",
      "      • Energy modeling with thermal properties\n",
      "      • Daylighting analysis using spaces and windows\n",
      "      • HVAC system sizing with MEP data\n",
      "   3. 📋 Automated Documentation\n",
      "      • Generate compliance reports\n",
      "      • Create quantity schedules\n",
      "      • Produce drawing annotations\n",
      "   4. 🔄 Integration & Workflow\n",
      "      • Connect to design tools (Revit, ArchiCAD)\n",
      "      • Link to analysis software (EnergyPlus, SAP2000)\n",
      "      • Export to facility management systems\n",
      "\n",
      "🎉 CONCLUSION:\n",
      "This notebook demonstrates how comprehensive IFC data extraction\n",
      "transforms static building models into rich, analyzable datasets\n",
      "that enable automated compliance checking, performance optimization,\n",
      "and intelligent building analysis.\n",
      "\n",
      "💡 The extracted data provides the foundation for:\n",
      "   • AI-powered building analysis\n",
      "   • Automated compliance verification\n",
      "   • Integrated design-to-operations workflows\n",
      "   • Data-driven building performance optimization\n",
      "\n",
      "============================================================\n",
      "🏗️  IFC BUILDING INFORMATION EXTRACTION COMPLETE\n",
      "============================================================\n"
     ]
    }
   ],
   "source": [
    "# SECTION 4: Summary and Next Steps\n",
    "print(\"\\n🎯 SECTION 4: Summary and Next Steps\")\n",
    "print(\"-\" * 50)\n",
    "\n",
    "def generate_analysis_summary(building_data):\n",
    "    \"\"\"Generate comprehensive summary of what we've learned about the building\"\"\"\n",
    "    \n",
    "    print(\"📊 COMPREHENSIVE BUILDING ANALYSIS SUMMARY\")\n",
    "    print(\"=\" * 60)\n",
    "    \n",
    "    # Calculate key metrics\n",
    "    total_elements = sum(len(elements) for elements in building_data.values())\n",
    "    \n",
    "    # Get building dimensions from coordinates\n",
    "    all_coords = []\n",
    "    for domain_elements in building_data.values():\n",
    "        for elem in domain_elements:\n",
    "            coords = elem.get('coordinates', {})\n",
    "            ref_point = coords.get('reference_point_world_m')\n",
    "            if ref_point and len(ref_point) >= 3:\n",
    "                all_coords.append(ref_point)\n",
    "    \n",
    "    if all_coords:\n",
    "        coords_array = np.array(all_coords)\n",
    "        building_dims = {\n",
    "            'x_range': coords_array[:, 0].max() - coords_array[:, 0].min(),\n",
    "            'y_range': coords_array[:, 1].max() - coords_array[:, 1].min(),\n",
    "            'height': coords_array[:, 2].max() - coords_array[:, 2].min(),\n",
    "            'footprint_area': (coords_array[:, 0].max() - coords_array[:, 0].min()) * (coords_array[:, 1].max() - coords_array[:, 1].min())\n",
    "        }\n",
    "    else:\n",
    "        building_dims = {'x_range': 0, 'y_range': 0, 'height': 0, 'footprint_area': 0}\n",
    "    \n",
    "    print(f\"🏢 BUILDING OVERVIEW:\")\n",
    "    print(f\"   • Total extracted elements: {total_elements:,}\")\n",
    "    print(f\"   • Building footprint: {building_dims['footprint_area']:,.0f} m²\")\n",
    "    print(f\"   • Building dimensions: {building_dims['x_range']:.1f}m × {building_dims['y_range']:.1f}m\")\n",
    "    print(f\"   • Building height: {building_dims['height']:.1f}m\")\n",
    "    \n",
    "    # Domain breakdown\n",
    "    print(f\"\\n🔧 DOMAIN BREAKDOWN:\")\n",
    "    for domain, elements in building_data.items():\n",
    "        if elements:\n",
    "            unique_types = set(elem.get('ifc_class', 'Unknown') for elem in elements)\n",
    "            print(f\"   • {domain.upper()}: {len(elements):,} elements ({len(unique_types)} types)\")\n",
    "    \n",
    "    # Key findings from architecture analysis\n",
    "    print(f\"\\n🎯 KEY FINDINGS:\")\n",
    "    \n",
    "    arch_elements = building_data.get('architecture', [])\n",
    "    if arch_elements:\n",
    "        doors = [e for e in arch_elements if e.get('ifc_class') == 'IfcDoor']\n",
    "        walls = [e for e in arch_elements if e.get('ifc_class') == 'IfcWall']\n",
    "        spaces = [e for e in arch_elements if e.get('ifc_class') == 'IfcSpace']\n",
    "        \n",
    "        print(f\"   🏗️  ARCHITECTURE:\")\n",
    "        print(f\"      • {len(spaces)} defined spaces\")\n",
    "        print(f\"      • {len(doors)} doors for circulation\")\n",
    "        print(f\"      • {len(walls)} wall elements\")\n",
    "        \n",
    "        # Accessibility assessment\n",
    "        if doors:\n",
    "            accessible_doors = 0\n",
    "            for door in doors:\n",
    "                width = door.get('geometry_summary', {}).get('width_m', 0)\n",
    "                if width >= 0.8:\n",
    "                    accessible_doors += 1\n",
    "            \n",
    "            accessibility_pct = accessible_doors / len(doors) * 100\n",
    "            print(f\"      • {accessibility_pct:.1f}% doors meet accessibility width standards\")\n",
    "        \n",
    "        # Thermal properties\n",
    "        thermal_elements = 0\n",
    "        for elem in arch_elements:\n",
    "            props = elem.get('properties', {})\n",
    "            for pset_name, pset_data in props.items():\n",
    "                if isinstance(pset_data, dict) and 'ThermalTransmittance' in pset_data:\n",
    "                    thermal_elements += 1\n",
    "                    break\n",
    "        \n",
    "        if thermal_elements > 0:\n",
    "            print(f\"      • {thermal_elements} elements have thermal performance data\")\n",
    "    \n",
    "    # MEP findings\n",
    "    mep_elements = building_data.get('mep', [])\n",
    "    if mep_elements:\n",
    "        mep_types = {}\n",
    "        for elem in mep_elements:\n",
    "            elem_type = elem.get('ifc_class', 'Unknown')\n",
    "            mep_types[elem_type] = mep_types.get(elem_type, 0) + 1\n",
    "        \n",
    "        print(f\"   ⚡ MEP SYSTEMS:\")\n",
    "        print(f\"      • {len(mep_elements)} MEP elements across {len(mep_types)} system types\")\n",
    "        \n",
    "        # Top MEP systems\n",
    "        top_systems = sorted(mep_types.items(), key=lambda x: x[1], reverse=True)[:3]\n",
    "        for system, count in top_systems:\n",
    "            print(f\"      • {system}: {count} elements\")\n",
    "    \n",
    "    # Structural findings\n",
    "    struct_elements = building_data.get('structural', [])\n",
    "    if struct_elements:\n",
    "        struct_types = {}\n",
    "        for elem in struct_elements:\n",
    "            elem_type = elem.get('ifc_class', 'Unknown')\n",
    "            struct_types[elem_type] = struct_types.get(elem_type, 0) + 1\n",
    "        \n",
    "        print(f\"   🏗️  STRUCTURAL SYSTEM:\")\n",
    "        print(f\"      • {len(struct_elements)} structural elements\")\n",
    "        \n",
    "        # Structural breakdown\n",
    "        for struct_type, count in struct_types.items():\n",
    "            print(f\"      • {struct_type}: {count} elements\")\n",
    "    \n",
    "    # What this data enables\n",
    "    print(f\"\\n🚀 WHAT THIS ENABLES:\")\n",
    "    print(f\"   ✅ Building code compliance verification\")\n",
    "    print(f\"   ✅ Energy performance modeling\")\n",
    "    print(f\"   ✅ Accessibility assessment\")\n",
    "    print(f\"   ✅ Automated quantity takeoffs\")\n",
    "    print(f\"   ✅ Clash detection and coordination\")\n",
    "    print(f\"   ✅ Space planning and optimization\")\n",
    "    print(f\"   ✅ Life cycle assessment\")\n",
    "    print(f\"   ✅ Facility management preparation\")\n",
    "    \n",
    "    print(f\"\\n🔮 NEXT STEPS:\")\n",
    "    print(f\"   1. 🔍 Advanced Code Compliance Analysis\")\n",
    "    print(f\"      • Fire safety egress analysis\")\n",
    "    print(f\"      • Accessibility compliance checking\")\n",
    "    print(f\"      • Structural load path verification\")\n",
    "    \n",
    "    print(f\"   2. 🎯 Performance Optimization\")\n",
    "    print(f\"      • Energy modeling with thermal properties\")\n",
    "    print(f\"      • Daylighting analysis using spaces and windows\")\n",
    "    print(f\"      • HVAC system sizing with MEP data\")\n",
    "    \n",
    "    print(f\"   3. 📋 Automated Documentation\")\n",
    "    print(f\"      • Generate compliance reports\")\n",
    "    print(f\"      • Create quantity schedules\")\n",
    "    print(f\"      • Produce drawing annotations\")\n",
    "    \n",
    "    print(f\"   4. 🔄 Integration & Workflow\")\n",
    "    print(f\"      • Connect to design tools (Revit, ArchiCAD)\")\n",
    "    print(f\"      • Link to analysis software (EnergyPlus, SAP2000)\")\n",
    "    print(f\"      • Export to facility management systems\")\n",
    "    \n",
    "    print(f\"\\n🎉 CONCLUSION:\")\n",
    "    print(f\"This notebook demonstrates how comprehensive IFC data extraction\")\n",
    "    print(f\"transforms static building models into rich, analyzable datasets\")\n",
    "    print(f\"that enable automated compliance checking, performance optimization,\")\n",
    "    print(f\"and intelligent building analysis.\")\n",
    "    \n",
    "    print(f\"\\n💡 The extracted data provides the foundation for:\")\n",
    "    print(f\"   • AI-powered building analysis\")\n",
    "    print(f\"   • Automated compliance verification\")\n",
    "    print(f\"   • Integrated design-to-operations workflows\")\n",
    "    print(f\"   • Data-driven building performance optimization\")\n",
    "\n",
    "# Generate the comprehensive summary\n",
    "generate_analysis_summary(building_data)\n",
    "\n",
    "print(\"\\n\" + \"=\" * 60)\n",
    "print(\"🏗️  IFC BUILDING INFORMATION EXTRACTION COMPLETE\")\n",
    "print(\"=\" * 60)"
   ]
  }
 ],
 "metadata": {
  "kernelspec": {
   "display_name": "Python 3 (ipykernel)",
   "language": "python",
   "name": "python3"
  },
  "language_info": {
   "codemirror_mode": {
    "name": "ipython",
    "version": 3
   },
   "file_extension": ".py",
   "mimetype": "text/x-python",
   "name": "python",
   "nbconvert_exporter": "python",
   "pygments_lexer": "ipython3",
   "version": "3.13.1"
  }
 },
 "nbformat": 4,
 "nbformat_minor": 4
}