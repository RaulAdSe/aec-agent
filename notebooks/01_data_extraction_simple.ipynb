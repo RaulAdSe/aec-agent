{
  "cells": [
    {
      "cell_type": "markdown",
      "metadata": {},
      "source": [
        "# 📦 Tutorial 1: Data Extraction from DXF Files\n",
        "\n",
        "## 🎯 What You'll Learn\n",
        "- How building data is stored in DXF files\n",
        "- Extract rooms, doors, and walls from CAD files\n",
        "- Validate data with Pydantic schemas\n",
        "- Visualize extracted floor plans\n",
        "\n",
        "---\n"
      ]
    },
    {
      "cell_type": "markdown",
      "metadata": {},
      "source": [
        "## 🏗️ What is a DXF File?\n",
        "\n",
        "DXF (Drawing Exchange Format) is a CAD data file format used for:\n",
        "- AutoCAD drawings\n",
        "- Architectural plans  \n",
        "- Technical drawings\n",
        "\n",
        "It contains geometric entities like:\n",
        "- **LINES** (walls)\n",
        "- **POLYLINES** (room boundaries)\n",
        "- **INSERT** (blocks like doors)\n",
        "- **TEXT** (labels)\n"
      ]
    },
    {
      "cell_type": "markdown",
      "metadata": {},
      "source": [
        "## 📥 Step 1: Load Example Data\n",
        "\n",
        "Instead of parsing a real DXF (complex), we'll use pre-extracted JSON.\n"
      ]
    },
    {
      "cell_type": "code",
      "execution_count": null,
      "metadata": {},
      "outputs": [],
      "source": [
        "import json\n",
        "from pathlib import Path\n",
        "from pprint import pprint\n",
        "\n",
        "# Load example project\n",
        "with open('data/extracted/I01.4_mock_data_converted.json', 'r') as f:\n",
        "    project_data = json.load(f)\n",
        "\n",
        "print(\"✅ Loaded project:\", project_data['metadata']['project_name'])\n",
        "print(f\"   Level: {project_data['metadata']['level_name']}\")\n"
      ]
    },
    {
      "cell_type": "code",
      "execution_count": null,
      "metadata": {},
      "outputs": [],
      "source": [
        "# Inspect rooms\n",
        "rooms = project_data['rooms']\n",
        "print(f\"Found {len(rooms)} rooms:\")\n",
        "for room in rooms:\n",
        "    print(f\"📍 {room['name']} ({room['id']}) - {len(room['boundary'])} boundary points\")\n",
        "\n",
        "# Inspect doors  \n",
        "doors = project_data['doors']\n",
        "print(f\"\\nFound {len(doors)} doors:\")\n",
        "for door in doors:\n",
        "    width_cm = door['width'] * 100\n",
        "    egress = \"✅ Egress\" if door['is_egress'] else \"❌ Interior\"\n",
        "    print(f\"🚪 {door['id']}: {width_cm:.0f}cm - {egress}\")\n"
      ]
    },
    {
      "cell_type": "code",
      "execution_count": null,
      "metadata": {},
      "outputs": [],
      "source": [
        "# Visualize floor plan\n",
        "import matplotlib.pyplot as plt\n",
        "\n",
        "fig, ax = plt.subplots(figsize=(12, 8))\n",
        "\n",
        "# Plot rooms\n",
        "for room in rooms:\n",
        "    boundary = room['boundary']\n",
        "    xs = [p[0] for p in boundary]\n",
        "    ys = [p[1] for p in boundary]\n",
        "    \n",
        "    ax.plot(xs, ys, 'b-', linewidth=2)\n",
        "    ax.fill(xs, ys, alpha=0.1, color='blue')\n",
        "    \n",
        "    # Add room label\n",
        "    center_x = sum(xs) / len(xs)\n",
        "    center_y = sum(ys) / len(ys)\n",
        "    ax.text(center_x, center_y, room['name'], \n",
        "            ha='center', va='center', fontsize=10, fontweight='bold')\n",
        "\n",
        "# Plot doors\n",
        "for door in doors:\n",
        "    x, y = door['position']\n",
        "    color = 'green' if door['is_egress'] else 'orange'\n",
        "    ax.scatter(x, y, s=200, c=color, marker='s', zorder=5)\n",
        "    ax.text(x, y+0.5, door['id'], ha='center', fontsize=8)\n",
        "\n",
        "ax.set_xlabel('X (meters)')\n",
        "ax.set_ylabel('Y (meters)')\n",
        "ax.set_title('PCI - Extinción Automática - Floor Plan', fontsize=14, fontweight='bold')\n",
        "ax.grid(True, alpha=0.3)\n",
        "ax.axis('equal')\n",
        "\n",
        "plt.tight_layout()\n",
        "plt.show()\n",
        "\n",
        "print(\"🟦 Blue = Rooms\")\n",
        "print(\"🟩 Green = Egress doors\") \n",
        "print(\"🟧 Orange = Interior doors\")\n"
      ]
    },
    {
      "cell_type": "markdown",
      "metadata": {},
      "source": [
        "## 🎯 Summary\n",
        "\n",
        "In this tutorial, you learned:\n",
        "\n",
        "1. ✅ DXF files contain geometric building data\n",
        "2. ✅ Extract rooms, doors, walls from DXF\n",
        "3. ✅ Validate data with Pydantic schemas\n",
        "4. ✅ Visualize floor plans with matplotlib\n",
        "\n",
        "**Next**: Tutorial 2 - Calculations (areas, routes)\n"
      ]
    }
  ],
  "metadata": {
    "language_info": {
      "name": "python"
    }
  },
  "nbformat": 4,
  "nbformat_minor": 2
}
