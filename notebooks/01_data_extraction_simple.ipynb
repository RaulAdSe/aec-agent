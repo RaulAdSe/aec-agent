{
 "cells": [
  {
   "cell_type": "markdown",
   "metadata": {},
   "source": [
    "# 🏗️ IFC Data Extraction - What Can We Get?\n",
    "\n",
    "This notebook demonstrates **IFC data extraction** using a real building: the **Vilamalla Industrial Complex**.\n",
    "\n",
    "**Goal**: Show you what data we can extract from IFC files and how to access it.\n",
    "\n",
    "**Input**: `VILAMALLA_ARQ_V6_TALLER_arq_20251032.ifc` (6.5 MB)\n",
    "**Output**: Structured building data (rooms, doors, walls, levels)\n"
   ]
  },
  {
   "cell_type": "markdown",
   "metadata": {},
   "source": [
    "## 🚀 Step 1: Load the Building Data\n",
    "\n",
    "We've already extracted the IFC data. Let's load it and see what we got:"
   ]
  },
  {
   "cell_type": "code",
   "execution_count": 11,
   "metadata": {},
   "outputs": [
    {
     "name": "stderr",
     "output_type": "stream",
     "text": [
      "INFO:scripts.load_building_data:Loaded building data: 2111B - 9 levels, 9 rooms, 23 doors, 102 walls\n"
     ]
    },
    {
     "name": "stdout",
     "output_type": "stream",
     "text": [
      "🏗️ Loading Vilamalla Industrial Complex...\n",
      "\n",
      "✅ Success! Here's what we extracted:\n",
      "   🏢 Project: 2111B\n",
      "   📊 Levels: 9\n",
      "   🏠 Rooms: 9\n",
      "   🚪 Doors: 23\n",
      "   🧱 Walls: 102\n",
      "   📐 Total area: 720 m²\n"
     ]
    }
   ],
   "source": [
    "# Load our building data loader\n",
    "import sys\n",
    "sys.path.append('..')\n",
    "\n",
    "from scripts.load_building_data import load_vilamalla_building\n",
    "import json\n",
    "\n",
    "# Load the extracted building data\n",
    "print(\"🏗️ Loading Vilamalla Industrial Complex...\")\n",
    "loader = load_vilamalla_building()\n",
    "\n",
    "print(f\"\\n✅ Success! Here's what we extracted:\")\n",
    "print(f\"   🏢 Project: {loader.metadata.get('project_name')}\")\n",
    "print(f\"   📊 Levels: {len(loader.levels)}\")\n",
    "print(f\"   🏠 Rooms: {len(loader.all_rooms)}\")\n",
    "print(f\"   🚪 Doors: {len(loader.all_doors)}\")\n",
    "print(f\"   🧱 Walls: {len(loader.all_walls)}\")\n",
    "print(f\"   📐 Total area: {loader.metadata.get('total_area', 0):.0f} m²\")"
   ]
  },
  {
   "cell_type": "markdown",
   "metadata": {},
   "source": [
    "## 🏢 Step 2: Explore Building Levels\n",
    "\n",
    "Let's see what levels this building has:"
   ]
  },
  {
   "cell_type": "code",
   "execution_count": 12,
   "metadata": {},
   "outputs": [
    {
     "name": "stdout",
     "output_type": "stream",
     "text": [
      "🏢 Building Levels:\n",
      "==================================================\n",
      " 1. CSZ 34.0 (-0.50)               | Elev:   34.0m | R:1 D:0 W:9\n",
      " 2. MUELLE                         | Elev:   34.5m | R:1 D:21 W:59\n",
      " 3. H base de taller               | Elev:   35.7m | R:1 D:0 W:0\n",
      " 4. PB                             | Elev:   35.7m | R:1 D:0 W:17\n",
      " 5. REF_CubiertaAnexoFrio          | Elev:   41.1m | R:1 D:2 W:8\n",
      " 6. Altillo                        | Elev:   41.1m | R:1 D:0 W:1\n",
      " 7. PANEL PREFABRICADO             | Elev:   45.5m | R:1 D:0 W:0\n",
      " 8. Ref_PetoAnexoFrio              | Elev:   46.3m | R:1 D:0 W:0\n",
      " 9. Ref_H Peto Max                 | Elev:   46.5m | R:1 D:0 W:8\n",
      "\n",
      "💡 This is a 9-level industrial building!\n"
     ]
    }
   ],
   "source": [
    "print(\"🏢 Building Levels:\")\n",
    "print(\"=\" * 50)\n",
    "\n",
    "for i, level in enumerate(loader.levels, 1):\n",
    "    name = level['name']\n",
    "    elevation = level['elevation']\n",
    "    rooms = len(level.get('rooms', []))\n",
    "    doors = len(level.get('doors', []))\n",
    "    walls = len(level.get('walls', []))\n",
    "    \n",
    "    print(f\"{i:2}. {name[:30]:30} | Elev: {elevation:6.1f}m | R:{rooms} D:{doors} W:{walls}\")\n",
    "\n",
    "print(f\"\\n💡 This is a {len(loader.levels)}-level industrial building!\")"
   ]
  },
  {
   "cell_type": "markdown",
   "metadata": {},
   "source": [
    "## 🚪 Step 3: Look at Doors\n",
    "\n",
    "Doors are critical for safety. Let's see what door data we extracted:"
   ]
  },
  {
   "cell_type": "code",
   "execution_count": null,
   "metadata": {},
   "outputs": [],
   "source": "print(\"🚪 Door Data:\")\nprint(\"=\" * 60)\n\n# Show first 5 doors as examples\nfor i, door in enumerate(loader.all_doors[:5], 1):\n    print(f\"{i}. Door {door['id']}:\")\n    print(f\"   Size: {door['width_mm']}mm × {door['height_mm']}mm\")\n    print(f\"   Type: {door['door_type']}\")\n    print(f\"   Emergency exit: {'Yes' if door['is_emergency_exit'] else 'No'}\")\n    print(f\"   Position: ({door['position']['x']:.1f}, {door['position']['y']:.1f})\")\n    print()\n\n# Quick statistics\nwidths = [door['width_mm'] for door in loader.all_doors]\nheights = [door['height_mm'] for door in loader.all_doors]\nprint(f\"📊 Door Statistics:\")\nprint(f\"   Total doors: {len(loader.all_doors)}\")\nprint(f\"   Width range: {min(widths):.0f} - {max(widths):.0f} mm\")\nprint(f\"   Height range: {min(heights):.0f} - {max(heights):.0f} mm\")\nprint(f\"   Average size: {sum(widths)/len(widths):.0f} × {sum(heights)/len(heights):.0f} mm\")"
  },
  {
   "cell_type": "markdown",
   "metadata": {},
   "source": [
    "## 🧱 Step 4: Examine Walls\n",
    "\n",
    "Walls form the structure. Let's see what wall information we have:"
   ]
  },
  {
   "cell_type": "code",
   "execution_count": 14,
   "metadata": {},
   "outputs": [
    {
     "name": "stdout",
     "output_type": "stream",
     "text": [
      "🧱 Wall Data:\n",
      "==================================================\n",
      "📊 Wall Statistics:\n",
      "   Total walls: 102\n",
      "   Materials:\n",
      "     concrete: 102 walls (100.0%)\n",
      "\n",
      "   Dimensions:\n",
      "     Thickness: 200 - 200 mm (avg: 200 mm)\n",
      "     Height: 2700 - 2700 mm (avg: 2700 mm)\n",
      "\n",
      "💡 Sample wall data structure:\n",
      "   ID: W532\n",
      "   Start: (498331.1, 4674506.7)\n",
      "   End: (498334.1, 4674506.7)\n",
      "   Material: concrete\n",
      "   Thickness: 200.0 mm\n"
     ]
    }
   ],
   "source": [
    "print(\"🧱 Wall Data:\")\n",
    "print(\"=\" * 50)\n",
    "\n",
    "# Analyze materials\n",
    "materials = {}\n",
    "thicknesses = []\n",
    "heights = []\n",
    "\n",
    "for wall in loader.all_walls:\n",
    "    material = wall.get('material', 'unknown')\n",
    "    materials[material] = materials.get(material, 0) + 1\n",
    "    thicknesses.append(wall['thickness_mm'])\n",
    "    heights.append(wall['height_mm'])\n",
    "\n",
    "print(f\"📊 Wall Statistics:\")\n",
    "print(f\"   Total walls: {len(loader.all_walls)}\")\n",
    "print(f\"   Materials:\")\n",
    "for material, count in materials.items():\n",
    "    percentage = count/len(loader.all_walls)*100\n",
    "    print(f\"     {material}: {count} walls ({percentage:.1f}%)\")\n",
    "\n",
    "print(f\"\\n   Dimensions:\")\n",
    "print(f\"     Thickness: {min(thicknesses):.0f} - {max(thicknesses):.0f} mm (avg: {sum(thicknesses)/len(thicknesses):.0f} mm)\")\n",
    "print(f\"     Height: {min(heights):.0f} - {max(heights):.0f} mm (avg: {sum(heights)/len(heights):.0f} mm)\")\n",
    "\n",
    "# Show a sample wall\n",
    "sample_wall = loader.all_walls[0]\n",
    "print(f\"\\n💡 Sample wall data structure:\")\n",
    "print(f\"   ID: {sample_wall['id']}\")\n",
    "print(f\"   Start: ({sample_wall['start_point']['x']:.1f}, {sample_wall['start_point']['y']:.1f})\")\n",
    "print(f\"   End: ({sample_wall['end_point']['x']:.1f}, {sample_wall['end_point']['y']:.1f})\")\n",
    "print(f\"   Material: {sample_wall['material']}\")\n",
    "print(f\"   Thickness: {sample_wall['thickness_mm']} mm\")"
   ]
  },
  {
   "cell_type": "markdown",
   "metadata": {},
   "source": [
    "## 🏠 Step 5: Check Room Information\n",
    "\n",
    "Rooms define the building's function. Let's see what we got:"
   ]
  },
  {
   "cell_type": "code",
   "execution_count": 15,
   "metadata": {},
   "outputs": [
    {
     "name": "stdout",
     "output_type": "stream",
     "text": [
      "🏠 Room Data:\n",
      "==================================================\n",
      "  🏠 General Space - CSZ 34.0 (-0.5 |    80 m² | commercial   | CSZ 34.0 (-0.50\n",
      "  🏠 General Space - MUELLE         |    80 m² | commercial   | MUELLE         \n",
      "  🏠 General Space - H base de tall |    80 m² | commercial   | H base de talle\n",
      "  🏠 General Space - PB             |    80 m² | commercial   | PB             \n",
      "  🏠 General Space - REF_CubiertaAn |    80 m² | commercial   | REF_CubiertaAne\n",
      "  🏠 General Space - Altillo        |    80 m² | commercial   | Altillo        \n",
      "  🏠 General Space - PANEL PREFABRI |    80 m² | commercial   | PANEL PREFABRIC\n",
      "  🏠 General Space - Ref_PetoAnexoF |    80 m² | commercial   | Ref_PetoAnexoFr\n",
      "  🏠 General Space - Ref_H Peto Max |    80 m² | commercial   | Ref_H Peto Max \n",
      "\n",
      "📊 Room Summary:\n",
      "   Total rooms: 9\n",
      "   Total area: 720 m²\n",
      "   Average area: 80 m²\n",
      "\n",
      "   Room types:\n",
      "     commercial: 9 rooms\n",
      "\n",
      "💡 Note: Rooms were derived from building geometry since the IFC didn't have explicit spaces defined.\n"
     ]
    }
   ],
   "source": [
    "print(\"🏠 Room Data:\")\n",
    "print(\"=\" * 50)\n",
    "\n",
    "total_area = 0\n",
    "room_types = {}\n",
    "\n",
    "for room in loader.all_rooms:\n",
    "    area = room['area']\n",
    "    use_type = room['use']\n",
    "    level = room['level']\n",
    "    \n",
    "    total_area += area\n",
    "    room_types[use_type] = room_types.get(use_type, 0) + 1\n",
    "    \n",
    "    print(f\"  🏠 {room['name'][:30]:30} | {area:5.0f} m² | {use_type:12} | {level[:15]:15}\")\n",
    "\n",
    "print(f\"\\n📊 Room Summary:\")\n",
    "print(f\"   Total rooms: {len(loader.all_rooms)}\")\n",
    "print(f\"   Total area: {total_area:.0f} m²\")\n",
    "print(f\"   Average area: {total_area/len(loader.all_rooms):.0f} m²\")\n",
    "\n",
    "print(f\"\\n   Room types:\")\n",
    "for room_type, count in room_types.items():\n",
    "    print(f\"     {room_type}: {count} rooms\")\n",
    "\n",
    "print(f\"\\n💡 Note: Rooms were derived from building geometry since the IFC didn't have explicit spaces defined.\")"
   ]
  },
  {
   "cell_type": "markdown",
   "metadata": {},
   "source": "## 📊 Step 7: Data in Action - Simple Analysis\n\nLet's show how this data can be used for building analysis:"
  },
  {
   "cell_type": "code",
   "source": "print(\"📊 Building Analysis Examples:\")\nprint(\"=\" * 50)\n\n# 1. Door Analysis\nprint(\"🚪 Door Analysis:\")\ndoor_widths = [door['width_mm'] for door in loader.all_doors]\ndoor_heights = [door['height_mm'] for door in loader.all_doors]\n\nprint(f\"   Width range: {min(door_widths):.0f} - {max(door_widths):.0f} mm\")\nprint(f\"   Height range: {min(door_heights):.0f} - {max(door_heights):.0f} mm\")\nprint(f\"   Average dimensions: {sum(door_widths)/len(door_widths):.0f} × {sum(door_heights)/len(door_heights):.0f} mm\")\n\n# 2. Occupancy Analysis\nprint(f\"\\n👥 Space Analysis:\")\ntotal_occupancy = sum(room['occupancy_load'] for room in loader.all_rooms)\ntotal_area = sum(room['area'] for room in loader.all_rooms)\nprint(f\"   Total building occupancy: {total_occupancy} people\")\nprint(f\"   Area per person: {total_area/total_occupancy:.1f} m²/person\")\n\n# 3. Construction Analysis\nprint(f\"\\n🏗️ Construction Summary:\")\nconcrete_walls = sum(1 for wall in loader.all_walls if wall['material'] == 'concrete')\nwall_percentage = concrete_walls / len(loader.all_walls) * 100\nprint(f\"   Concrete construction: {concrete_walls}/{len(loader.all_walls)} walls ({wall_percentage:.1f}%)\")\n\navg_wall_thickness = sum(wall['thickness_mm'] for wall in loader.all_walls) / len(loader.all_walls)\nprint(f\"   Average wall thickness: {avg_wall_thickness:.0f} mm\")\n\n# 4. Level Distribution\nprint(f\"\\n🏢 Level Activity:\")\nfor level in loader.levels:\n    door_count = len(level.get('doors', []))\n    wall_count = len(level.get('walls', []))\n    print(f\"   {level['name'][:25]:25}: {door_count:2d} doors, {wall_count:2d} walls\")",
   "metadata": {},
   "execution_count": null,
   "outputs": []
  },
  {
   "cell_type": "markdown",
   "source": "## 📋 Step 8: Export for Further Analysis\n\nThe data can be exported to different formats for use in other tools:",
   "metadata": {}
  },
  {
   "cell_type": "code",
   "execution_count": null,
   "metadata": {},
   "outputs": [],
   "source": "print(\"📋 LLM-Optimized Data Export:\")\nprint(\"=\" * 40)\n\n# 1. Structured JSON Export - Perfect for LLMs\nprint(\"🤖 LLM-Friendly JSON Structure:\")\nprint(\"Our data is already in perfect JSON format for LLM consumption!\")\n\n# Demonstrate the new export methods\nprint(f\"\\n🎯 LLM-Optimized Export Methods:\")\n\n# 1. Hierarchical JSON (preserves building structure)\nhierarchical_json = loader.export_to_json()\nprint(f\"✅ Hierarchical JSON: loader.export_to_json()\")\nprint(f\"   Structure: building_metadata → levels → rooms/doors/walls\")\nprint(f\"   Sample structure:\")\nsample_structure = {\n    \"building_metadata\": hierarchical_json[\"building_metadata\"],\n    \"levels\": hierarchical_json[\"levels\"][:2],  # First 2 levels\n    \"rooms\": hierarchical_json[\"rooms\"][:1],    # First room\n    \"doors\": hierarchical_json[\"doors\"][:1]     # First door\n}\n\nimport json\nprint(json.dumps(sample_structure, indent=2)[:500] + \"...\")\n\n# 2. Flat JSON (easiest for LLM queries)\nprint(f\"\\n✅ Flat JSON: loader.export_flat_json()\")\nprint(f\"   Structure: Single array with all elements tagged by type\")\nflat_json = loader.export_flat_json()\nprint(f\"   Total elements: {len(flat_json['all_elements'])}\")\n\nprint(f\"\\n📊 Flat Structure Example (First 3 elements):\")\nfor i, element in enumerate(flat_json['all_elements'][:3]):\n    print(f\"   {i+1}. {element}\")\n\n# 3. Show why it's perfect for LLMs\nprint(f\"\\n💡 Why These Formats Excel with LLMs:\")\nprint(f\"   ✓ Clear key-value pairs with descriptive names\")\nprint(f\"   ✓ Consistent data types (no mixed arrays)\")\nprint(f\"   ✓ Logical grouping and hierarchy\")\nprint(f\"   ✓ Easy to query: 'Find all doors on MUELLE level'\")\nprint(f\"   ✓ Simple filtering: 'Show rooms > 50m²'\")\nprint(f\"   ✓ No complex nested relationships\")\n\n# 4. Export examples\nprint(f\"\\n💾 Export Usage:\")\nprint(f\"   # Save structured JSON\")\nprint(f\"   loader.export_to_json('building_structured.json')\")\nprint(f\"   \")\nprint(f\"   # Save flat JSON\")\nprint(f\"   loader.export_flat_json('building_flat.json')\")\nprint(f\"   \")\nprint(f\"   # Get data for LLM processing\")\nprint(f\"   data = loader.export_flat_json()\")\nprint(f\"   llm_prompt = f'Analyze this building: {data}'\")\n\nprint(f\"\\n🔧 Also Available:\")\nprint(f\"   loader.all_rooms    # Direct list access\")\nprint(f\"   loader.all_doors    # Perfect for iteration\")\nprint(f\"   loader.all_walls    # No parsing needed\")\nprint(f\"   loader.metadata     # Building summary\")"
  },
  {
   "cell_type": "code",
   "source": "# Let's create actual LLM-optimized exports to show the format\nprint(\"🧪 Live Export Demonstration:\")\nprint(\"=\" * 50)\n\n# Export flat JSON for easy LLM consumption\nflat_data = loader.export_flat_json()\n\nprint(\"📋 Flat JSON Format (All elements in one array):\")\nprint(f\"Building: {flat_data['building_info']['name']}\")\nprint(f\"Total elements: {len(flat_data['all_elements'])}\")\nprint()\n\n# Group elements by type for display\nelement_types = {}\nfor element in flat_data['all_elements']:\n    elem_type = element['element_type']\n    if elem_type not in element_types:\n        element_types[elem_type] = []\n    element_types[elem_type].append(element)\n\n# Show sample of each type\nfor elem_type, elements in element_types.items():\n    print(f\"🏷️  {elem_type.upper()} Elements ({len(elements)} total):\")\n    \n    # Show first 2 elements of each type\n    for i, element in enumerate(elements[:2]):\n        print(f\"   {i+1}. {element}\")\n    \n    if len(elements) > 2:\n        print(f\"   ... and {len(elements) - 2} more {elem_type} elements\")\n    print()\n\nprint(\"🚀 This format is perfect for LLM prompts like:\")\nprint('   \"Analyze all doors in this building and tell me about their sizes\"')\nprint('   \"Find the largest room on each level\"') \nprint('   \"Calculate total wall length by material\"')\nprint('   \"Identify potential accessibility issues\"')\n\n# Optional: Save actual files\nprint(f\"\\n💾 To save these exports:\")\nprint(f\"   loader.export_to_json('vilamalla_structured.json')\")\nprint(f\"   loader.export_flat_json('vilamalla_flat.json')\")",
   "metadata": {},
   "execution_count": null,
   "outputs": []
  },
  {
   "cell_type": "markdown",
   "metadata": {},
   "source": "## 🎯 Summary: What We Can Extract from IFC Files\n\n### ✅ Data Successfully Extracted\n\nFrom the **6.5 MB Vilamalla IFC file**, we extracted:\n\n**🏢 Building Structure:**\n- 9 levels with elevations and names\n- Building hierarchy and organization\n\n**🏠 Spaces & Rooms:**\n- 9 rooms with areas and functions\n- Occupancy calculations\n- Room-level relationships\n\n**🚪 Doors:**\n- 23 doors with precise dimensions (width/height)\n- **Door type classification** (single, double, sliding, emergency)\n- Exact 3D positions\n- **Emergency exit detection**\n\n**🧱 Walls:**\n- 102 walls with start/end coordinates\n- Material information\n- Thickness and height data\n- Construction properties\n\n### 🚀 Enhanced Classification Features\n\n**🎯 Intelligent Semantic Classification:**\n- **Industrial building awareness**: Recognizes \"taller\", \"muelle\", \"altillo\" terminology\n- **Level function detection**: Manufacturing, loading, roof, mezzanine levels\n- **Door type intelligence**: Single, double, emergency, sliding doors\n- **Context-aware analysis**: Spatial relationships and building patterns\n\n### 🚀 What You Can Do With This Data\n\n- **📊 Analytics**: Calculate areas, volumes, material quantities\n- **🗺️ Visualization**: Create floor plans and 3D models\n- **🔍 Queries**: Search for specific elements or properties\n- **📈 Reporting**: Generate building analysis reports\n- **🤖 AI Analysis**: Feed data to AI systems for intelligent insights\n- **💾 Export**: Convert to CSV, Excel, databases for further analysis\n\n### 💡 Key Insight\n\nIFC files contain **rich, structured building information** that goes far beyond simple geometry. With our enhanced extraction system, you get:\n- **Semantic understanding** of building elements\n- **Context-aware classification** based on industrial terminology\n- **Intelligent analysis** of spatial relationships\n- Complete digital representation suitable for automated analysis\n\n**Next**: Learn how to use this data for calculations, visualization, and AI-powered building analysis! 🤖"
  },
  {
   "cell_type": "code",
   "execution_count": 17,
   "metadata": {},
   "outputs": [
    {
     "name": "stdout",
     "output_type": "stream",
     "text": [
      "📋 Data Export Options:\n",
      "========================================\n",
      "✅ Pandas DataFrames created:\n",
      "   rooms_df: 9 rows × 6 columns\n",
      "   doors_df: 23 rows × 9 columns\n",
      "   walls_df: 102 rows × 8 columns\n",
      "\n",
      "📊 Sample DataFrame (doors):\n",
      "      id  width_mm  height_mm door_type\n",
      "0  D3283     900.0     2100.0    single\n",
      "1  D3379     900.0     2100.0    single\n",
      "2  D3392     900.0     2100.0    single\n",
      "\n",
      "💾 You can save these with:\n",
      "   rooms_df.to_csv('vilamalla_rooms.csv')\n",
      "   doors_df.to_excel('vilamalla_doors.xlsx')\n",
      "\n",
      "🔧 Raw data access:\n",
      "   loader.all_rooms    # List of room dictionaries\n",
      "   loader.all_doors    # List of door dictionaries\n",
      "   loader.all_walls    # List of wall dictionaries\n",
      "   loader.levels       # List of level dictionaries\n",
      "   loader.metadata     # Project metadata\n"
     ]
    }
   ],
   "source": [
    "print(\"📋 Data Export Options:\")\n",
    "print(\"=\" * 40)\n",
    "\n",
    "# Convert to pandas DataFrames\n",
    "try:\n",
    "    import pandas as pd\n",
    "    \n",
    "    dataframes = loader.export_to_dataframes()\n",
    "    rooms_df = dataframes['rooms']\n",
    "    doors_df = dataframes['doors']\n",
    "    walls_df = dataframes['walls']\n",
    "    \n",
    "    print(\"✅ Pandas DataFrames created:\")\n",
    "    print(f\"   rooms_df: {len(rooms_df)} rows × {len(rooms_df.columns)} columns\")\n",
    "    print(f\"   doors_df: {len(doors_df)} rows × {len(doors_df.columns)} columns\") \n",
    "    print(f\"   walls_df: {len(walls_df)} rows × {len(walls_df.columns)} columns\")\n",
    "    \n",
    "    print(f\"\\n📊 Sample DataFrame (doors):\")\n",
    "    print(doors_df[['id', 'width_mm', 'height_mm', 'door_type']].head(3))\n",
    "    \n",
    "    print(f\"\\n💾 You can save these with:\")\n",
    "    print(f\"   rooms_df.to_csv('vilamalla_rooms.csv')\")\n",
    "    print(f\"   doors_df.to_excel('vilamalla_doors.xlsx')\")\n",
    "    \n",
    "except ImportError:\n",
    "    print(\"❌ pandas not available for DataFrame export\")\n",
    "\n",
    "# Raw JSON access\n",
    "print(f\"\\n🔧 Raw data access:\")\n",
    "print(f\"   loader.all_rooms    # List of room dictionaries\")\n",
    "print(f\"   loader.all_doors    # List of door dictionaries\")\n",
    "print(f\"   loader.all_walls    # List of wall dictionaries\")\n",
    "print(f\"   loader.levels       # List of level dictionaries\")\n",
    "print(f\"   loader.metadata     # Project metadata\")"
   ]
  },
  {
   "cell_type": "markdown",
   "metadata": {},
   "source": [
    "## 🎯 Summary: What We Can Extract from IFC Files\n",
    "\n",
    "### ✅ Data Successfully Extracted\n",
    "\n",
    "From the **6.5 MB Vilamalla IFC file**, we extracted:\n",
    "\n",
    "**🏢 Building Structure:**\n",
    "- 9 levels with elevations and names\n",
    "- Building hierarchy and organization\n",
    "\n",
    "**🏠 Spaces & Rooms:**\n",
    "- 9 rooms with areas and functions\n",
    "- Occupancy calculations\n",
    "- Room-level relationships\n",
    "\n",
    "**🚪 Doors:**\n",
    "- 23 doors with precise dimensions (width/height)\n",
    "- Door types and classifications\n",
    "- Exact 3D positions\n",
    "- Emergency exit identification\n",
    "\n",
    "**🧱 Walls:**\n",
    "- 102 walls with start/end coordinates\n",
    "- Material information\n",
    "- Thickness and height data\n",
    "- Construction properties\n",
    "\n",
    "### 🚀 What You Can Do With This Data\n",
    "\n",
    "- **🛡️ Compliance Checking**: Verify building codes automatically\n",
    "- **📊 Analytics**: Calculate areas, volumes, material quantities\n",
    "- **🗺️ Visualization**: Create floor plans and 3D models\n",
    "- **🔍 Queries**: Search for specific elements or properties\n",
    "- **📈 Reporting**: Generate compliance and analysis reports\n",
    "- **🤖 AI Analysis**: Feed data to AI systems for intelligent insights\n",
    "\n",
    "### 💡 Key Insight\n",
    "\n",
    "IFC files contain **rich, structured building information** that goes far beyond simple geometry. With proper extraction, you get a complete digital representation of the building suitable for automated analysis, compliance checking, and intelligent building management.\n",
    "\n",
    "**Next**: Learn how to use this data for calculations, compliance checking, and AI-powered building analysis! 🤖"
   ]
  }
 ],
 "metadata": {
  "kernelspec": {
   "display_name": "Python 3 (ipykernel)",
   "language": "python",
   "name": "python3"
  },
  "language_info": {
   "codemirror_mode": {
    "name": "ipython",
    "version": 3
   },
   "file_extension": ".py",
   "mimetype": "text/x-python",
   "name": "python",
   "nbconvert_exporter": "python",
   "pygments_lexer": "ipython3",
   "version": "3.13.1"
  }
 },
 "nbformat": 4,
 "nbformat_minor": 4
}