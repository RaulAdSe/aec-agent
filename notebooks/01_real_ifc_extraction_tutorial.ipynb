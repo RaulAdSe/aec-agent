{
 "cells": [
  {
   "cell_type": "markdown",
   "metadata": {},
   "source": [
    "# 🏗️ Tutorial 1: Real IFC Data Extraction - Vilamalla Industrial Complex\n",
    "\n",
    "**What you'll learn:**\n",
    "- How to extract building data from real IFC files\n",
    "- Work with the Vilamalla Industrial Complex project\n",
    "- Visualize building elements (rooms, doors, walls)\n",
    "- Analyze building data with pandas\n",
    "\n",
    "This tutorial uses **real architectural data** from the Vilamalla Industrial Complex, showing how our IFC extraction system works with actual building information models."
   ]
  },
  {
   "cell_type": "markdown",
   "metadata": {},
   "source": [
    "## 📁 What is an IFC File?\n",
    "\n",
    "**IFC (Industry Foundation Classes)** is the international standard for Building Information Modeling (BIM):\n",
    "\n",
    "- 📐 **Contains**: 3D geometry, building elements, relationships, properties\n",
    "- 🏢 **Elements**: Walls, doors, rooms, levels, structural elements\n",
    "- 🔗 **Relationships**: How elements connect and relate to each other\n",
    "- 📊 **Metadata**: Materials, dimensions, performance characteristics\n",
    "\n",
    "Our IFC file: `VILAMALLA_ARQ_V6_TALLER_arq_20251032.ifc` (6.5 MB)\n"
   ]
  },
  {
   "cell_type": "markdown",
   "metadata": {},
   "source": [
    "## 🚀 Step 1: Load the Real Building Data\n",
    "\n",
    "First, let's load our pre-extracted building data from the Vilamalla Industrial Complex:"
   ]
  },
  {
   "cell_type": "code",
   "execution_count": null,
   "metadata": {},
   "outputs": [],
   "source": [
    "# Import our custom building data loader\n",
    "import sys\n",
    "from pathlib import Path\n",
    "sys.path.append('..')\n",
    "\n",
    "from scripts.load_building_data import load_vilamalla_building, quick_building_overview\n",
    "import matplotlib.pyplot as plt\n",
    "import pandas as pd\n",
    "\n",
    "# Load the real building data\n",
    "print(\"🏗️ Loading Vilamalla Industrial Complex...\")\n",
    "loader = load_vilamalla_building()\n",
    "\n",
    "# Show overview\n",
    "quick_building_overview(loader)"
   ]
  },
  {
   "cell_type": "markdown",
   "metadata": {},
   "source": [
    "## 🏢 Step 2: Explore Building Levels\n",
    "\n",
    "Let's examine the different levels in this industrial complex:"
   ]
  },
  {
   "cell_type": "code",
   "execution_count": null,
   "metadata": {},
   "outputs": [],
   "source": [
    "print(\"📋 Building Levels in Detail:\\n\")\n",
    "\n",
    "for i, level in enumerate(loader.levels, 1):\n",
    "    level_name = level['name']\n",
    "    elevation = level['elevation']\n",
    "    rooms = level.get('rooms', [])\n",
    "    doors = level.get('doors', [])\n",
    "    walls = level.get('walls', [])\n",
    "    \n",
    "    print(f\"{i:2}. Level: {level_name}\")\n",
    "    print(f\"     Elevation: {elevation:.2f} m\")\n",
    "    print(f\"     Elements: {len(rooms)} rooms, {len(doors)} doors, {len(walls)} walls\")\n",
    "    \n",
    "    if rooms:\n",
    "        total_area = sum(room['area'] for room in rooms)\n",
    "        print(f\"     Total area: {total_area:.0f} m²\")\n",
    "    print()"
   ]
  },
  {
   "cell_type": "markdown",
   "metadata": {},
   "source": [
    "## 🚪 Step 3: Analyze Doors\n",
    "\n",
    "Let's examine the doors in this building and their compliance with building codes:"
   ]
  },
  {
   "cell_type": "code",
   "execution_count": null,
   "metadata": {},
   "outputs": [],
   "source": [
    "from scripts.load_building_data import analyze_door_compliance\n",
    "\n",
    "print(\"🚪 Door Analysis:\\n\")\n",
    "print(f\"Total doors found: {len(loader.all_doors)}\")\n",
    "\n",
    "# Show first few doors as examples\n",
    "print(\"\\n📋 Sample doors:\")\n",
    "for door in loader.all_doors[:5]:\n",
    "    level_name = \"Unknown\"\n",
    "    for level in loader.levels:\n",
    "        if door in level.get('doors', []):\n",
    "            level_name = level['name']\n",
    "            break\n",
    "    \n",
    "    print(f\"  {door['id']}: {door['width_mm']}mm x {door['height_mm']}mm\")\n",
    "    print(f\"    Level: {level_name[:20]}...\")\n",
    "    print(f\"    Type: {door['door_type']}\")\n",
    "    print()\n",
    "\n",
    "# Compliance analysis\n",
    "compliance = analyze_door_compliance(loader)\n",
    "print(f\"\\n✅ Compliance Analysis:\")\n",
    "print(f\"   Compliance rate: {compliance['compliance_rate']:.1f}%\")\n",
    "print(f\"   Compliant doors: {compliance['compliant_count']}/{compliance['total_doors']}\")\n",
    "\n",
    "if compliance['non_compliant_doors']:\n",
    "    print(f\"\\n❌ Non-compliant doors:\")\n",
    "    for door in compliance['non_compliant_doors']:\n",
    "        print(f\"   {door['id']}: {door['width_mm']}mm (needs {door['deficit_mm']}mm more)\")\n",
    "else:\n",
    "    print(\"\\n🎉 All doors meet minimum width requirements!\")"
   ]
  },
  {
   "cell_type": "markdown",
   "metadata": {},
   "source": [
    "## 🧱 Step 4: Examine Walls\n",
    "\n",
    "Let's analyze the wall structure of the building:"
   ]
  },
  {
   "cell_type": "code",
   "execution_count": null,
   "metadata": {},
   "outputs": [],
   "source": [
    "print(\"🧱 Wall Analysis:\\n\")\n",
    "print(f\"Total walls: {len(loader.all_walls)}\")\n",
    "\n",
    "# Analyze wall materials\n",
    "materials = {}\n",
    "thicknesses = []\n",
    "heights = []\n",
    "\n",
    "for wall in loader.all_walls:\n",
    "    material = wall.get('material', 'unknown')\n",
    "    materials[material] = materials.get(material, 0) + 1\n",
    "    thicknesses.append(wall['thickness_mm'])\n",
    "    heights.append(wall['height_mm'])\n",
    "\n",
    "print(\"📊 Wall materials:\")\n",
    "for material, count in materials.items():\n",
    "    print(f\"   {material}: {count} walls ({count/len(loader.all_walls)*100:.1f}%)\")\n",
    "\n",
    "print(f\"\\n📏 Wall dimensions:\")\n",
    "print(f\"   Average thickness: {sum(thicknesses)/len(thicknesses):.0f} mm\")\n",
    "print(f\"   Average height: {sum(heights)/len(heights):.0f} mm\")\n",
    "print(f\"   Thickness range: {min(thicknesses):.0f} - {max(thicknesses):.0f} mm\")\n",
    "print(f\"   Height range: {min(heights):.0f} - {max(heights):.0f} mm\")"
   ]
  },
  {
   "cell_type": "markdown",
   "metadata": {},
   "source": [
    "## 📊 Step 5: Create Data Visualizations\n",
    "\n",
    "Now let's create some visualizations to better understand our building:"
   ]
  },
  {
   "cell_type": "code",
   "execution_count": null,
   "metadata": {},
   "outputs": [],
   "source": [
    "# Create comprehensive statistics dashboard\n",
    "print(\"📈 Creating building statistics dashboard...\")\n",
    "loader.create_statistics_dashboard()\n",
    "plt.show()"
   ]
  },
  {
   "cell_type": "markdown",
   "metadata": {},
   "source": [
    "## 🗺️ Step 6: Visualize Building Levels\n",
    "\n",
    "Let's visualize the level with the most elements (doors and walls):"
   ]
  },
  {
   "cell_type": "code",
   "execution_count": null,
   "metadata": {},
   "outputs": [],
   "source": [
    "# Find the level with most doors (most activity)\n",
    "level_with_most_doors = max(loader.levels, key=lambda x: len(x.get('doors', [])))\n",
    "level_name = level_with_most_doors['name']\n",
    "\n",
    "print(f\"🗺️ Visualizing level: {level_name}\")\n",
    "print(f\"   Doors: {len(level_with_most_doors.get('doors', []))}\")\n",
    "print(f\"   Walls: {len(level_with_most_doors.get('walls', []))}\")\n",
    "print()\n",
    "\n",
    "# Create visualization\n",
    "fig = loader.visualize_level(level_name, figsize=(14, 10))\n",
    "plt.show()"
   ]
  },
  {
   "cell_type": "markdown",
   "metadata": {},
   "source": [
    "## 📊 Step 7: Export to Pandas for Advanced Analysis\n",
    "\n",
    "Let's export our data to pandas DataFrames for more detailed analysis:"
   ]
  },
  {
   "cell_type": "code",
   "execution_count": null,
   "metadata": {},
   "outputs": [],
   "source": [
    "# Export to DataFrames\n",
    "dataframes = loader.export_to_dataframes()\n",
    "\n",
    "rooms_df = dataframes['rooms']\n",
    "doors_df = dataframes['doors']\n",
    "walls_df = dataframes['walls']\n",
    "\n",
    "print(\"📊 Building Data as Pandas DataFrames:\")\n",
    "print(f\"\\n🏢 Rooms DataFrame ({len(rooms_df)} rows):\")\n",
    "print(rooms_df.head())\n",
    "\n",
    "print(f\"\\n🚪 Doors DataFrame ({len(doors_df)} rows):\")\n",
    "print(doors_df[['id', 'width_mm', 'height_mm', 'door_type', 'is_emergency_exit']].head())\n",
    "\n",
    "print(f\"\\n🧱 Walls DataFrame ({len(walls_df)} rows):\")\n",
    "print(walls_df[['id', 'thickness_mm', 'height_mm', 'material']].head())"
   ]
  },
  {
   "cell_type": "markdown",
   "metadata": {},
   "source": [
    "## 🔍 Step 8: Advanced Analysis with Pandas\n",
    "\n",
    "Now let's do some advanced analysis using pandas:"
   ]
  },
  {
   "cell_type": "code",
   "execution_count": null,
   "metadata": {},
   "outputs": [],
   "source": [
    "# Analyze room distribution by level\n",
    "print(\"🏢 Room Distribution by Level:\")\n",
    "room_stats = rooms_df.groupby('level').agg({\n",
    "    'area_m2': ['count', 'sum', 'mean'],\n",
    "    'occupancy_load': 'sum'\n",
    "}).round(1)\n",
    "print(room_stats)\n",
    "\n",
    "print(\"\\n🚪 Door Statistics:\")\n",
    "door_stats = doors_df.describe()[['width_mm', 'height_mm']].round(1)\n",
    "print(door_stats)\n",
    "\n",
    "print(\"\\n🧱 Wall Material Analysis:\")\n",
    "wall_materials = walls_df['material'].value_counts()\n",
    "print(wall_materials)\n",
    "\n",
    "# Find potential issues\n",
    "print(\"\\n⚠️  Potential Issues:\")\n",
    "narrow_doors = doors_df[doors_df['width_mm'] < 800]\n",
    "if len(narrow_doors) > 0:\n",
    "    print(f\"   - {len(narrow_doors)} doors below 800mm width (emergency requirement)\")\n",
    "else:\n",
    "    print(\"   - All doors meet 800mm emergency width requirement ✅\")\n",
    "\n",
    "thin_walls = walls_df[walls_df['thickness_mm'] < 100]\n",
    "if len(thin_walls) > 0:\n",
    "    print(f\"   - {len(thin_walls)} walls below 100mm thickness (potentially structural concern)\")\n",
    "else:\n",
    "    print(\"   - All walls have adequate thickness ✅\")"
   ]
  },
  {
   "cell_type": "markdown",
   "metadata": {},
   "source": [
    "## 🎯 Summary\n",
    "\n",
    "In this tutorial, you learned:\n",
    "\n",
    "1. ✅ **IFC Files** contain rich building information including geometry and relationships\n",
    "2. ✅ **Real Data Extraction** from the Vilamalla Industrial Complex (9 levels, 23 doors, 102 walls)\n",
    "3. ✅ **Data Analysis** using custom loader and pandas for compliance checking\n",
    "4. ✅ **Visualization** of building elements and statistics\n",
    "5. ✅ **Advanced Analytics** to identify potential design issues\n",
    "\n",
    "**Key Findings from Vilamalla Complex:**\n",
    "- 🏢 9 building levels with varying functions\n",
    "- 🚪 23 doors, all compliant with width requirements\n",
    "- 🧱 102 walls, primarily concrete construction\n",
    "- 📐 720 m² total area across all levels\n",
    "\n",
    "**Next**: Tutorial 2 - Geometric Calculations & Route Analysis using this real data"
   ]
  },
  {
   "cell_type": "markdown",
   "metadata": {},
   "source": [
    "## 💡 Try It Yourself\n",
    "\n",
    "Experiment with the code above:\n",
    "\n",
    "1. **Filter data**: Try `doors_df[doors_df['door_type'] == 'single']` to see only single doors\n",
    "2. **Visualize different levels**: Change `level_name` in the visualization code\n",
    "3. **Custom analysis**: Create your own queries using pandas\n",
    "4. **Export data**: Save DataFrames to CSV with `rooms_df.to_csv('rooms.csv')`\n",
    "\n",
    "The real building data gives you endless possibilities for analysis!"
   ]
  }
 ],
 "metadata": {
  "kernelspec": {
   "display_name": "Python 3",
   "language": "python",
   "name": "python3"
  },
  "language_info": {
   "codemirror_mode": {
    "name": "ipython",
    "version": 3
   },
   "file_extension": ".py",
   "mimetype": "text/x-python",
   "name": "python",
   "nbconvert_exporter": "python",
   "pygments_lexer": "ipython3",
   "version": "3.11.0"
  }
 },
 "nbformat": 4,
 "nbformat_minor": 4
}