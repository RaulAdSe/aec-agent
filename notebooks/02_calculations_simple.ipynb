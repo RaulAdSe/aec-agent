{
  "cells": [
    {
      "cell_type": "markdown",
      "metadata": {},
      "source": [
        "# 🧮 Tutorial 2: Geometric Calculations & Route Analysis\n",
        "\n",
        "## 🎯 What You'll Learn\n",
        "- Calculate room areas with Shapely\n",
        "- Build circulation graphs with NetworkX\n",
        "- Find shortest evacuation paths\n",
        "- Visualize building connectivity\n",
        "\n",
        "---\n"
      ]
    },
    {
      "cell_type": "code",
      "execution_count": null,
      "metadata": {},
      "outputs": [],
      "source": [
        "import json\n",
        "from shapely.geometry import Polygon\n",
        "import networkx as nx\n",
        "import matplotlib.pyplot as plt\n",
        "\n",
        "# Load project data\n",
        "with open('data/extracted/I01.4_mock_data_converted.json', 'r') as f:\n",
        "    project = json.load(f)\n",
        "\n",
        "print(\"📊 Calculating room areas...\\n\")\n",
        "\n",
        "for room in project['rooms']:\n",
        "    # Convert boundary to polygon\n",
        "    polygon = Polygon(room['boundary'])\n",
        "    \n",
        "    # Calculate area\n",
        "    area = polygon.area\n",
        "    \n",
        "    print(f\"🏢 {room['name']}\")\n",
        "    print(f\"   Area: {area:.2f} m²\")\n",
        "    print(f\"   Perimeter: {polygon.length:.2f} m\")\n",
        "    print()\n"
      ]
    },
    {
      "cell_type": "code",
      "execution_count": null,
      "metadata": {},
      "outputs": [],
      "source": [
        "# Create circulation graph\n",
        "G = nx.Graph()\n",
        "\n",
        "# Add rooms as nodes\n",
        "for room in project['rooms']:\n",
        "    G.add_node(room['id'], name=room['name'])\n",
        "\n",
        "# Add doors as edges\n",
        "for door in project['doors']:\n",
        "    if door.get('room_from') and door.get('room_to'):\n",
        "        G.add_edge(\n",
        "            door['room_from'],\n",
        "            door['room_to'],\n",
        "            door_id=door['id'],\n",
        "            width=door['width'],\n",
        "            is_egress=door['is_egress']\n",
        "        )\n",
        "\n",
        "print(f\"📊 Graph Statistics:\")\n",
        "print(f\"   Nodes (rooms): {G.number_of_nodes()}\")\n",
        "print(f\"   Edges (doors): {G.number_of_edges()}\")\n",
        "print(f\"   Connected: {nx.is_connected(G)}\")\n"
      ]
    },
    {
      "cell_type": "code",
      "execution_count": null,
      "metadata": {},
      "outputs": [],
      "source": [
        "# Find evacuation routes\n",
        "egress_rooms = []\n",
        "for door in project['doors']:\n",
        "    if door['is_egress']:\n",
        "        if door.get('room_from'):\n",
        "            egress_rooms.append(door['room_from'])\n",
        "        if door.get('room_to'):\n",
        "            egress_rooms.append(door['room_to'])\n",
        "\n",
        "print(\"🚨 Evacuation Analysis\\n\")\n",
        "\n",
        "for room in project['rooms']:\n",
        "    room_id = room['id']\n",
        "    \n",
        "    # Find shortest path to exit\n",
        "    if egress_rooms:\n",
        "        try:\n",
        "            path = nx.shortest_path(G, room_id, egress_rooms[0])\n",
        "            distance = len(path) - 1  # Number of doors to cross\n",
        "            \n",
        "            path_names = [G.nodes[r]['name'] for r in path]\n",
        "            \n",
        "            print(f\"🏢 {room['name']}\")\n",
        "            print(f\"   Path: {' → '.join(path_names)}\")\n",
        "            print(f\"   Doors to cross: {distance}\")\n",
        "            print()\n",
        "        except:\n",
        "            print(f\"🏢 {room['name']}\")\n",
        "            print(f\"   ❌ No path to exit!\")\n",
        "            print()\n"
      ]
    },
    {
      "cell_type": "markdown",
      "metadata": {},
      "source": [
        "## 🎯 Summary\n",
        "\n",
        "In this tutorial, you learned:\n",
        "\n",
        "1. ✅ Calculate room areas with Shapely\n",
        "2. ✅ Build circulation graphs with NetworkX\n",
        "3. ✅ Find shortest evacuation paths\n",
        "4. ✅ Visualize building connectivity\n",
        "\n",
        "**Next**: Tutorial 3 - RAG (Query Building Codes)\n"
      ]
    }
  ],
  "metadata": {
    "language_info": {
      "name": "python"
    }
  },
  "nbformat": 4,
  "nbformat_minor": 2
}
