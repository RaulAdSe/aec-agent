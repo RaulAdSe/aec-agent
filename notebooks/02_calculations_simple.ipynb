{
 "cells": [
  {
   "cell_type": "markdown",
   "metadata": {},
   "source": [
    "# 🧮 Building Analysis: Computational Tools for Compliance\n",
    "\n",
    "This notebook demonstrates **practical computational tools** that our compliance agent uses to analyze buildings.\n",
    "\n",
    "**Goal**: Show you the tools the agent has available for sophisticated building analysis.\n",
    "\n",
    "**Building**: Real Vilamalla Industrial Complex (9 levels, 23 doors, 102 walls)\n"
   ]
  },
  {
   "cell_type": "markdown",
   "metadata": {},
   "source": [
    "## 🚀 Step 1: Load Real Building Data\n",
    "\n",
    "Let's load the Vilamalla building data that our agent works with:"
   ]
  },
  {
   "cell_type": "code",
   "execution_count": 1,
   "metadata": {},
   "outputs": [
    {
     "name": "stderr",
     "output_type": "stream",
     "text": [
      "INFO:scripts.load_building_data:Loaded building data: 2111B - 9 levels, 9 rooms, 23 doors, 102 walls\n",
      "INFO:scripts.load_building_data:Enhanced 23 door connections\n"
     ]
    },
    {
     "name": "stdout",
     "output_type": "stream",
     "text": [
      "🏗️ Loading Vilamalla Industrial Complex...\n",
      "✅ Building Data Loaded:\n",
      "   Project: 2111B\n",
      "   Levels: 9\n",
      "   Rooms: 9\n",
      "   Doors: 23\n",
      "   Walls: 102\n",
      "   Total area: 720 m²\n"
     ]
    }
   ],
   "source": [
    "# Load building data and computational tools\n",
    "import sys\n",
    "sys.path.append('..')\n",
    "\n",
    "from scripts.load_building_data import load_vilamalla_building\n",
    "import numpy as np\n",
    "import matplotlib.pyplot as plt\n",
    "import networkx as nx\n",
    "from pathlib import Path\n",
    "\n",
    "# Load the enhanced building data\n",
    "print(\"🏗️ Loading Vilamalla Industrial Complex...\")\n",
    "loader = load_vilamalla_building()\n",
    "\n",
    "print(f\"✅ Building Data Loaded:\")\n",
    "print(f\"   Project: {loader.metadata.get('project_name')}\")\n",
    "print(f\"   Levels: {len(loader.levels)}\")\n",
    "print(f\"   Rooms: {len(loader.all_rooms)}\")\n",
    "print(f\"   Doors: {len(loader.all_doors)}\")\n",
    "print(f\"   Walls: {len(loader.all_walls)}\")\n",
    "print(f\"   Total area: {loader.metadata.get('total_area', 0):.0f} m²\")"
   ]
  },
  {
   "cell_type": "markdown",
   "metadata": {},
   "source": [
    "## 🔗 Step 2: Building Connectivity Analysis\n",
    "\n",
    "Let's analyze how rooms are connected and find critical circulation points:"
   ]
  },
  {
   "cell_type": "code",
   "execution_count": null,
   "metadata": {},
   "outputs": [],
   "source": "# Analyze building connectivity with VISUALIZATION\nfrom src.calculations.graph import create_circulation_graph, find_critical_circulation_points\nfrom src.schemas import Project\nimport json\nimport networkx as nx\nimport matplotlib.pyplot as plt\nimport matplotlib.patches as patches\n\n# Convert loader data to Project schema for analysis\ndef create_project_from_loader(loader):\n    \"\"\"Convert loader data to Project schema format.\"\"\"\n    project_data = {\n        \"metadata\": loader.metadata,\n        \"levels\": loader.levels\n    }\n    return Project(**project_data)\n\n# Create project object\nproject = create_project_from_loader(loader)\n\nprint(\"🔗 Building Connectivity Analysis:\")\nprint(\"=\" * 60)\n\n# Create circulation graph\ngraph = create_circulation_graph(project)\nstats = graph.get_graph_statistics()\n\nprint(f\"📊 Graph Statistics:\")\nprint(f\"   Nodes (rooms): {stats['total_nodes']}\")\nprint(f\"   Edges (doors): {stats['total_edges']}\")\nprint(f\"   Connected: {'✅ Yes' if stats['is_connected'] else '❌ No'}\")\nprint(f\"   Connected Components: {stats['connected_components']}\")\nprint(f\"   Average Connections per Room: {stats['average_degree']:.1f}\")\n\n# Find critical circulation points\ncritical_points = find_critical_circulation_points(project)\n\nprint(f\"\\n🎯 Critical Circulation Analysis:\")\nprint(f\"   Critical Rooms: {critical_points['critical_room_count']}\")\nprint(f\"   Connectivity Risk: {critical_points['connectivity_risk'].upper()}\")\n\n# 🎨 VISUALIZATION: Circulation Graph\nfig, (ax1, ax2) = plt.subplots(1, 2, figsize=(16, 8))\n\n# Left: Network graph visualization\nG = graph.graph\nif G.number_of_nodes() > 0:\n    # Use spring layout for better visualization\n    pos = nx.spring_layout(G, k=3, iterations=50)\n    \n    # Draw nodes (rooms)\n    node_colors = []\n    node_sizes = []\n    \n    for node in G.nodes():\n        # Color critical rooms differently\n        is_critical = any(room['room_id'] == node.replace('room_', '') \n                         for room in critical_points.get('critical_rooms', []))\n        node_colors.append('red' if is_critical else 'lightblue')\n        \n        # Size by connectivity\n        degree = G.degree(node)\n        node_sizes.append(300 + degree * 200)\n    \n    # Draw the graph\n    nx.draw(G, pos, ax=ax1, \n           node_color=node_colors, \n           node_size=node_sizes,\n           with_labels=True,\n           labels={node: node.replace('room_', '').replace('_DEFAULT', '') for node in G.nodes()},\n           font_size=7,\n           font_weight='bold',\n           edge_color='gray',\n           width=2,\n           alpha=0.8)\n    \n    ax1.set_title('Building Circulation Graph\\n(Red = Critical Rooms)', fontsize=14, fontweight='bold')\n    ax1.text(0.02, 0.98, 'Node size = connectivity\\nRed = critical for circulation', \n            transform=ax1.transAxes, va='top', ha='left', \n            bbox=dict(boxstyle='round', facecolor='white', alpha=0.8))\nelse:\n    ax1.text(0.5, 0.5, 'No graph connections\\navailable', \n            ha='center', va='center', transform=ax1.transAxes, fontsize=12)\n    ax1.set_title('Circulation Graph', fontsize=14)\n\n# Right: Connectivity statistics chart\nroom_connections = {}\nfor room in loader.all_rooms:\n    room_id = room['id']\n    room_node = f\"room_{room_id}\"\n    if room_node in G:\n        connections = G.degree(room_node)\n        room_connections[room_id] = connections\n    else:\n        room_connections[room_id] = 0\n\nif room_connections:\n    rooms = list(room_connections.keys())\n    connections = list(room_connections.values())\n    \n    # Create horizontal bar chart\n    colors = ['red' if c == 0 else 'orange' if c == 1 else 'lightgreen' for c in connections]\n    bars = ax2.barh(range(len(rooms)), connections, color=colors, alpha=0.7, edgecolor='black')\n    \n    ax2.set_yticks(range(len(rooms)))\n    ax2.set_yticklabels([r.split('_')[1] if '_' in r else r for r in rooms], fontsize=8)\n    ax2.set_xlabel('Number of Connections', fontweight='bold')\n    ax2.set_title('Room Connectivity Levels', fontsize=14, fontweight='bold')\n    ax2.grid(True, alpha=0.3, axis='x')\n    \n    # Add value labels on bars\n    for i, (bar, value) in enumerate(zip(bars, connections)):\n        ax2.text(value + 0.05, i, str(value), va='center', fontweight='bold')\n    \n    # Add color legend\n    ax2.text(0.02, 0.98, 'Red = Isolated\\nOrange = Poor\\nGreen = Well Connected', \n            transform=ax2.transAxes, va='top', ha='left',\n            bbox=dict(boxstyle='round', facecolor='white', alpha=0.8))\n\nplt.tight_layout()\nplt.show()\n\nprint(f\"\\n🎨 Visualization shows:\")\nprint(f\"   📊 Left: Network graph with critical rooms in red\")\nprint(f\"   📈 Right: Room connectivity levels (green = well connected)\")"
  },
  {
   "cell_type": "markdown",
   "metadata": {},
   "source": [
    "## 🚨 Step 3: Evacuation Route Analysis\n",
    "\n",
    "Now let's analyze evacuation routes for all rooms:"
   ]
  },
  {
   "cell_type": "code",
   "execution_count": 3,
   "metadata": {},
   "outputs": [
    {
     "name": "stdout",
     "output_type": "stream",
     "text": [
      "🚨 Evacuation Route Analysis:\n",
      "============================================================\n",
      "📊 Evacuation Statistics:\n",
      "   Total Rooms: 9\n",
      "   Average Distance: 0.0 m\n",
      "   Compliance Rate: 0.0%\n",
      "\n",
      "📋 Compliance Validation:\n",
      "   Overall Status: NON_COMPLIANT\n",
      "   Compliant Rooms: 0/9\n",
      "   Non-Compliant: 0\n",
      "   Inaccessible: 9\n",
      "\n",
      "🚫 Inaccessible Rooms (no evacuation path):\n",
      "   🏠 R_CSZ_34.0_(-0.50)_DEFAULT: No evacuation path available\n",
      "   🏠 R_MUELLE_DEFAULT: No evacuation path available\n",
      "   🏠 R_H_base_de_taller_DEFAULT: No evacuation path available\n",
      "   🏠 R_PB_DEFAULT: No evacuation path available\n",
      "   🏠 R_REF_CubiertaAnexoFrio_DEFAULT: No evacuation path available\n",
      "   🏠 R_Altillo_DEFAULT: No evacuation path available\n",
      "   🏠 R_PANEL_PREFABRICADO_DEFAULT: No evacuation path available\n",
      "   🏠 R_Ref_PetoAnexoFrio_DEFAULT: No evacuation path available\n",
      "   🏠 R_Ref_H_Peto_Max_DEFAULT: No evacuation path available\n"
     ]
    }
   ],
   "source": [
    "# Comprehensive evacuation analysis\n",
    "from src.calculations.graph import find_all_evacuation_routes, validate_evacuation_compliance\n",
    "\n",
    "print(\"🚨 Evacuation Route Analysis:\")\n",
    "print(\"=\" * 60)\n",
    "\n",
    "# Find all evacuation routes\n",
    "all_routes = find_all_evacuation_routes(project)\n",
    "\n",
    "print(f\"📊 Evacuation Statistics:\")\n",
    "print(f\"   Total Rooms: {all_routes['total_rooms']}\")\n",
    "print(f\"   Average Distance: {all_routes['average_distance']:.1f} m\")\n",
    "print(f\"   Compliance Rate: {all_routes['compliance_summary']['compliance_rate']:.1%}\")\n",
    "\n",
    "if all_routes['longest_route']:\n",
    "    longest = all_routes['longest_route']\n",
    "    print(f\"\\n🔍 Longest Evacuation Route:\")\n",
    "    print(f\"   Room: {longest['room_id']}\")\n",
    "    print(f\"   Distance: {longest['distance']:.1f} m\")\n",
    "    print(f\"   Path: {' → '.join(longest['path'])}\")\n",
    "    print(f\"   Accessible: {'✅ Yes' if longest['is_accessible'] else '❌ No'}\")\n",
    "\n",
    "if all_routes['shortest_route']:\n",
    "    shortest = all_routes['shortest_route']\n",
    "    print(f\"\\n⚡ Shortest Evacuation Route:\")\n",
    "    print(f\"   Room: {shortest['room_id']}\")\n",
    "    print(f\"   Distance: {shortest['distance']:.1f} m\")\n",
    "\n",
    "# Validate compliance\n",
    "compliance = validate_evacuation_compliance(project, max_distance=25.0)\n",
    "\n",
    "print(f\"\\n📋 Compliance Validation:\")\n",
    "print(f\"   Overall Status: {compliance['overall_status']}\")\n",
    "print(f\"   Compliant Rooms: {len(compliance['compliant_rooms'])}/{compliance['total_rooms']}\")\n",
    "print(f\"   Non-Compliant: {len(compliance['non_compliant_rooms'])}\")\n",
    "print(f\"   Inaccessible: {len(compliance['inaccessible_rooms'])}\")\n",
    "\n",
    "if compliance['non_compliant_rooms']:\n",
    "    print(f\"\\n❌ Non-Compliant Rooms (exceed {compliance['max_distance_limit']}m):\")\n",
    "    for room in compliance['non_compliant_rooms'][:5]:  # Show first 5\n",
    "        print(f\"   🏠 {room['room_id']}: {room['distance']:.1f}m (excess: {room['excess_distance']:.1f}m)\")\n",
    "\n",
    "if compliance['inaccessible_rooms']:\n",
    "    print(f\"\\n🚫 Inaccessible Rooms (no evacuation path):\")\n",
    "    for room in compliance['inaccessible_rooms']:\n",
    "        print(f\"   🏠 {room['room_id']}: {room['issue']}\")"
   ]
  },
  {
   "cell_type": "markdown",
   "metadata": {},
   "source": [
    "## 🚪 Step 4: Door Usage and Compliance Analysis\n",
    "\n",
    "Let's analyze how doors are used and their compliance:"
   ]
  },
  {
   "cell_type": "code",
   "execution_count": null,
   "metadata": {},
   "outputs": [],
   "source": "# Door usage and compliance analysis with VISUALIZATION\nfrom src.calculations.graph import calculate_door_usage_analysis\n\nprint(\"🚪 Door Usage & Compliance Analysis:\")\nprint(\"=\" * 60)\n\n# Analyze door usage in evacuation routes\ndoor_usage = calculate_door_usage_analysis(project)\n\nprint(f\"📊 Door Usage Statistics:\")\nprint(f\"   Total Usage Count: {door_usage['total_usage']}\")\nprint(f\"   High Usage Doors: {door_usage['usage_distribution']['high_usage']}\")\nprint(f\"   Medium Usage Doors: {door_usage['usage_distribution']['medium_usage']}\")\nprint(f\"   Unused Doors: {door_usage['usage_distribution']['unused']}\")\n\n# 🎨 VISUALIZATION: Door Analysis\nfig, (ax1, ax2) = plt.subplots(1, 2, figsize=(16, 8))\n\n# Left: Door width compliance visualization\ndoor_widths = [door['width_mm'] for door in loader.all_doors]\ndoor_types = [door.get('door_type', 'unknown') for door in loader.all_doors]\nemergency_exits = [door.get('is_emergency_exit', False) for door in loader.all_doors]\n\n# Create scatter plot\ncolors = ['red' if is_exit else 'blue' for is_exit in emergency_exits]\nsizes = [100 if is_exit else 50 for is_exit in emergency_exits]\n\nscatter = ax1.scatter(range(len(door_widths)), door_widths, \n                     c=colors, s=sizes, alpha=0.7, edgecolors='black')\n\n# Add compliance lines\nax1.axhline(y=800, color='orange', linestyle='--', alpha=0.7, label='Min Regular (800mm)')\nax1.axhline(y=900, color='red', linestyle='--', alpha=0.7, label='Min Emergency (900mm)')\n\nax1.set_xlabel('Door Index', fontweight='bold')\nax1.set_ylabel('Door Width (mm)', fontweight='bold')\nax1.set_title('Door Width Compliance Analysis', fontsize=14, fontweight='bold')\nax1.grid(True, alpha=0.3)\nax1.legend()\n\n# Add compliance status text\ncompliant_doors = sum(1 for door in loader.all_doors \n                     if door['width_mm'] >= (900 if door.get('is_emergency_exit', False) else 800))\ncompliance_rate = compliant_doors / len(loader.all_doors) if loader.all_doors else 0\n\nax1.text(0.02, 0.98, f'Compliance Rate: {compliance_rate:.1%}\\nRed = Emergency Exit\\nBlue = Regular Door', \n        transform=ax1.transAxes, va='top', ha='left',\n        bbox=dict(boxstyle='round', facecolor='white', alpha=0.8))\n\n# Right: Door distribution by level\nlevel_door_counts = {}\nfor level in loader.levels:\n    level_doors = level.get('doors', [])\n    level_door_counts[level['name']] = len(level_doors)\n\nif level_door_counts:\n    levels = list(level_door_counts.keys())\n    counts = list(level_door_counts.values())\n    \n    # Create pie chart\n    colors_pie = plt.cm.Set3(range(len(levels)))\n    wedges, texts, autotexts = ax2.pie(counts, labels=[l.split('_')[0] if '_' in l else l[:10] for l in levels], \n                                      autopct='%1.0f', colors=colors_pie, startangle=90)\n    \n    ax2.set_title('Door Distribution by Level', fontsize=14, fontweight='bold')\n    \n    # Improve text readability\n    for autotext in autotexts:\n        autotext.set_color('white')\n        autotext.set_fontweight('bold')\n\nplt.tight_layout()\nplt.show()\n\n# Door compliance analysis (simplified)\nemergency_exits = sum(1 for d in loader.all_doors if d.get('is_emergency_exit', False))\nprint(f\"\\n📏 Door Compliance Summary:\")\nprint(f\"   Total Doors: {len(loader.all_doors)}\")\nprint(f\"   Emergency Exits: {emergency_exits}\")\nprint(f\"   Compliance Rate: {compliance_rate:.1%}\")\n\nif compliance_rate >= 0.95:\n    print(f\"   Status: ✅ Excellent compliance\")\nelif compliance_rate >= 0.80:\n    print(f\"   Status: ⚠️ Good compliance\")\nelse:\n    print(f\"   Status: ❌ Poor compliance\")\n\nprint(f\"\\n🎨 Visualization shows:\")\nprint(f\"   📊 Left: Door widths vs compliance thresholds\")\nprint(f\"   🥧 Right: Distribution of doors across building levels\")"
  },
  {
   "cell_type": "markdown",
   "metadata": {},
   "source": [
    "## 👥 Step 5: Occupancy Load Analysis\n",
    "\n",
    "Let's calculate occupancy loads and egress capacity:"
   ]
  },
  {
   "cell_type": "code",
   "execution_count": null,
   "metadata": {},
   "outputs": [],
   "source": "# Occupancy load analysis with VISUALIZATION\n\nprint(\"👥 Occupancy Load Analysis:\")\nprint(\"=\" * 60)\n\n# Analyze occupancy for each room\ntotal_occupancy = 0\nroom_analysis = []\n\nfor room in loader.all_rooms:\n    area = room['area']\n    use_type = room.get('use', 'commercial')\n    \n    # Calculate occupancy based on use\n    occupancy_factors = {\n        \"industrial\": 0.02,    # 1 person per 50 sqm\n        \"warehouse\": 0.02,    # 1 person per 50 sqm\n        \"office\": 0.1,        # 1 person per 10 sqm\n        \"commercial\": 0.1,    # 1 person per 10 sqm\n        \"assembly\": 0.5,      # 1 person per 2 sqm\n        \"storage\": 0.02,      # 1 person per 50 sqm\n    }\n    \n    factor = occupancy_factors.get(use_type, 0.05)  # Default\n    occupancy = max(1, int(area * factor))\n    \n    # Required egress width (5mm per person)\n    required_width = occupancy * 5\n    \n    room_analysis.append({\n        'id': room['id'],\n        'name': room.get('name', room['id']),\n        'area': area,\n        'use': use_type,\n        'occupancy': occupancy,\n        'required_width': required_width,\n        'density': occupancy / area\n    })\n    \n    total_occupancy += occupancy\n\n# Sort by occupancy (highest first)\nroom_analysis.sort(key=lambda x: x['occupancy'], reverse=True)\n\nprint(f\"📊 Building Occupancy Summary:\")\nprint(f\"   Total Building Occupancy: {total_occupancy} people\")\nprint(f\"   Average per Room: {total_occupancy / len(room_analysis):.1f} people\")\nprint(f\"   Total Required Egress Width: {total_occupancy * 5:.0f} mm\")\n\n# 🎨 VISUALIZATION: Occupancy Analysis\nfig, (ax1, ax2) = plt.subplots(1, 2, figsize=(16, 8))\n\n# Left: Room occupancy bar chart\nroom_names = [r['id'].split('_')[1] if '_' in r['id'] else r['id'][:8] for r in room_analysis]\noccupancies = [r['occupancy'] for r in room_analysis]\nareas = [r['area'] for r in room_analysis]\n\n# Create bar chart with color based on density\ndensities = [r['density'] for r in room_analysis]\nmax_density = max(densities) if densities else 1\ncolors = plt.cm.RdYlBu_r([d/max_density for d in densities])\n\nbars = ax1.bar(range(len(room_names)), occupancies, color=colors, alpha=0.8, edgecolor='black')\n\nax1.set_xticks(range(len(room_names)))\nax1.set_xticklabels(room_names, rotation=45, ha='right')\nax1.set_ylabel('Occupancy (people)', fontweight='bold')\nax1.set_title('Room Occupancy Levels', fontsize=14, fontweight='bold')\nax1.grid(True, alpha=0.3, axis='y')\n\n# Add value labels on bars\nfor i, (bar, value) in enumerate(zip(bars, occupancies)):\n    ax1.text(i, value + 0.1, str(value), ha='center', va='bottom', fontweight='bold')\n\n# Add colorbar for density\nsm = plt.cm.ScalarMappable(cmap=plt.cm.RdYlBu_r, norm=plt.Normalize(vmin=0, vmax=max_density))\nsm.set_array([])\ncbar = plt.colorbar(sm, ax=ax1, shrink=0.8)\ncbar.set_label('Occupancy Density (people/m²)', fontweight='bold')\n\n# Right: Area vs Occupancy scatter plot\nax2.scatter(areas, occupancies, c=densities, cmap='RdYlBu_r', \n           s=100, alpha=0.7, edgecolors='black')\n\nax2.set_xlabel('Room Area (m²)', fontweight='bold')\nax2.set_ylabel('Occupancy (people)', fontweight='bold')\nax2.set_title('Area vs Occupancy Relationship', fontsize=14, fontweight='bold')\nax2.grid(True, alpha=0.3)\n\n# Add trend line\nif len(areas) > 1:\n    z = np.polyfit(areas, occupancies, 1)\n    p = np.poly1d(z)\n    ax2.plot(areas, p(areas), \"r--\", alpha=0.8, label=f'Trend: y={z[0]:.3f}x+{z[1]:.1f}')\n    ax2.legend()\n\n# Add density info\nax2.text(0.02, 0.98, f'Color = density\\nTotal: {total_occupancy} people\\nAvg density: {sum(densities)/len(densities):.3f} p/m²', \n        transform=ax2.transAxes, va='top', ha='left',\n        bbox=dict(boxstyle='round', facecolor='white', alpha=0.8))\n\nplt.tight_layout()\nplt.show()\n\n# Find rooms with highest occupancy density\nhigh_density_rooms = [r for r in room_analysis if r['density'] > 0.08]  # Threshold for demo\n\nprint(f\"\\n📈 Occupancy Analysis Results:\")\nif high_density_rooms:\n    print(f\"   ⚠️ High Density Rooms (>{0.08:.2f} people/m²):\")\n    for room in high_density_rooms[:3]:\n        print(f\"      🏠 {room['id']}: {room['density']:.3f} people/m² ({room['occupancy']} people)\")\nelse:\n    print(f\"   ✅ All rooms have reasonable occupancy density\")\n\nprint(f\"\\n🎨 Visualization shows:\")\nprint(f\"   📊 Left: Room occupancy levels (color = density)\")\nprint(f\"   📈 Right: Relationship between room area and occupancy\")"
  },
  {
   "cell_type": "markdown",
   "metadata": {},
   "source": [
    "## 📊 Step 6: Spatial Relationships Analysis\n",
    "\n",
    "Let's analyze how rooms relate to each other spatially:"
   ]
  },
  {
   "cell_type": "code",
   "execution_count": 6,
   "metadata": {},
   "outputs": [
    {
     "name": "stdout",
     "output_type": "stream",
     "text": [
      "📊 Spatial Relationships Analysis:\n",
      "============================================================\n",
      "🔗 Room Connectivity Summary:\n",
      "   Total Rooms: 9\n",
      "   Average Connections per Room: 0.2\n",
      "   Range: 0 - 1 connections\n",
      "\n",
      "🏝️ Isolated Rooms (no connections):\n",
      "   🏠 R_CSZ_34.0_(-0.50)_DEFAULT\n",
      "   🏠 R_H_base_de_taller_DEFAULT\n",
      "   🏠 R_PB_DEFAULT\n",
      "   🏠 R_Altillo_DEFAULT\n",
      "   🏠 R_PANEL_PREFABRICADO_DEFAULT\n",
      "\n",
      "📈 Building Connectivity Metrics:\n",
      "   Total Connections: 2\n",
      "   Connectivity Density: 0.028\n",
      "   Network Health: Needs Improvement\n"
     ]
    }
   ],
   "source": [
    "# Spatial relationships analysis\n",
    "from src.calculations.graph import get_room_adjacency_list\n",
    "\n",
    "print(\"📊 Spatial Relationships Analysis:\")\n",
    "print(\"=\" * 60)\n",
    "\n",
    "# Get room adjacency\n",
    "adjacency = get_room_adjacency_list(project)\n",
    "\n",
    "print(f\"🔗 Room Connectivity Summary:\")\n",
    "print(f\"   Total Rooms: {len(adjacency)}\")\n",
    "\n",
    "# Analyze connectivity patterns\n",
    "connection_counts = [len(connections) for connections in adjacency.values()]\n",
    "if connection_counts:\n",
    "    avg_connections = sum(connection_counts) / len(connection_counts)\n",
    "    max_connections = max(connection_counts)\n",
    "    min_connections = min(connection_counts)\n",
    "    \n",
    "    print(f\"   Average Connections per Room: {avg_connections:.1f}\")\n",
    "    print(f\"   Range: {min_connections} - {max_connections} connections\")\n",
    "\n",
    "# Find hub rooms (highly connected)\n",
    "hub_rooms = [(room_id, len(connections)) for room_id, connections in adjacency.items() \n",
    "             if len(connections) >= 3]\n",
    "hub_rooms.sort(key=lambda x: x[1], reverse=True)\n",
    "\n",
    "if hub_rooms:\n",
    "    print(f\"\\n🎯 Hub Rooms (3+ connections):\")\n",
    "    for room_id, count in hub_rooms[:5]:\n",
    "        # Find room name\n",
    "        room_name = next((r.get('name', room_id) for r in loader.all_rooms if r['id'] == room_id), room_id)\n",
    "        print(f\"   🏠 {room_id}: {count} connections\")\n",
    "        \n",
    "        # Show what it connects to\n",
    "        connections = adjacency[room_id][:3]  # Show first 3\n",
    "        if connections:\n",
    "            print(f\"      → Connected to: {', '.join(connections)}\")\n",
    "            if len(adjacency[room_id]) > 3:\n",
    "                print(f\"      → ... and {len(adjacency[room_id]) - 3} more\")\n",
    "\n",
    "# Find isolated rooms (no connections)\n",
    "isolated_rooms = [room_id for room_id, connections in adjacency.items() if not connections]\n",
    "\n",
    "if isolated_rooms:\n",
    "    print(f\"\\n🏝️ Isolated Rooms (no connections):\")\n",
    "    for room_id in isolated_rooms[:5]:\n",
    "        room_name = next((r.get('name', room_id) for r in loader.all_rooms if r['id'] == room_id), room_id)\n",
    "        print(f\"   🏠 {room_id}\")\n",
    "else:\n",
    "    print(f\"\\n✅ All rooms are connected to the circulation network\")\n",
    "\n",
    "# Calculate building connectivity metrics\n",
    "total_connections = sum(len(connections) for connections in adjacency.values())\n",
    "connectivity_density = total_connections / (len(adjacency) * (len(adjacency) - 1)) if len(adjacency) > 1 else 0\n",
    "\n",
    "print(f\"\\n📈 Building Connectivity Metrics:\")\n",
    "print(f\"   Total Connections: {total_connections}\")\n",
    "print(f\"   Connectivity Density: {connectivity_density:.3f}\")\n",
    "print(f\"   Network Health: {'Good' if connectivity_density > 0.1 else 'Needs Improvement'}\")"
   ]
  },
  {
   "cell_type": "markdown",
   "metadata": {},
   "source": [
    "## 🎯 Step 7: Room-Specific Analysis Tool\n",
    "\n",
    "Let's create a tool to analyze any specific room in detail:"
   ]
  },
  {
   "cell_type": "code",
   "execution_count": 7,
   "metadata": {},
   "outputs": [
    {
     "name": "stdout",
     "output_type": "stream",
     "text": [
      "🔍 Room Analysis Tool Demo:\n",
      "\n",
      "Available rooms: ['R_CSZ_34.0_(-0.50)_DEFAULT', 'R_MUELLE_DEFAULT', 'R_H_base_de_taller_DEFAULT', 'R_PB_DEFAULT', 'R_REF_CubiertaAnexoFrio_DEFAULT'] ...\n",
      "\n",
      "📝 Example analysis for room: R_CSZ_34.0_(-0.50)_DEFAULT\n",
      "🏠 Detailed Analysis: Room R_CSZ_34.0_(-0.50)_DEFAULT\n",
      "==================================================\n",
      "📋 Basic Information:\n",
      "   Name: General Space - CSZ 34.0 (-0.50)\n",
      "   Use: commercial\n",
      "   Area: 80.0 m²\n",
      "   Level: CSZ 34.0 (-0.50)\n",
      "\n",
      "🔗 Connectivity Analysis:\n",
      "   Direct Connections: 0\n",
      "   Reachable Rooms: 0/9\n",
      "   Reachability Score: 0.00\n",
      "   Average Distance to Others: 0.0 m\n",
      "   Connectivity Grade: LOW\n",
      "\n",
      "👥 Occupancy Analysis:\n",
      "   Calculated Occupancy: 8 people\n",
      "   Occupancy Factor: 0.1 people/m²\n",
      "   Required Egress Width: 40 mm\n",
      "   Density: 0.100 people/m²\n",
      "\n",
      "💡 To analyze any room, call: analyze_specific_room('ROOM_ID')\n"
     ]
    }
   ],
   "source": [
    "# Room-specific detailed analysis\n",
    "from src.calculations.graph import calculate_room_connectivity_score\n",
    "\n",
    "def analyze_specific_room(room_id: str):\n",
    "    \"\"\"Comprehensive analysis of a specific room.\"\"\"\n",
    "    \n",
    "    print(f\"🏠 Detailed Analysis: Room {room_id}\")\n",
    "    print(\"=\" * 50)\n",
    "    \n",
    "    # Find room data\n",
    "    room_data = next((r for r in loader.all_rooms if r['id'] == room_id), None)\n",
    "    if not room_data:\n",
    "        print(f\"❌ Room {room_id} not found!\")\n",
    "        return\n",
    "    \n",
    "    # Basic room info\n",
    "    print(f\"📋 Basic Information:\")\n",
    "    print(f\"   Name: {room_data.get('name', 'Unnamed')}\")\n",
    "    print(f\"   Use: {room_data.get('use', 'Unknown')}\")\n",
    "    print(f\"   Area: {room_data['area']:.1f} m²\")\n",
    "    print(f\"   Level: {room_data.get('level', 'Unknown')}\")\n",
    "    \n",
    "    # Connectivity analysis\n",
    "    try:\n",
    "        connectivity = calculate_room_connectivity_score(project, room_id)\n",
    "        if 'error' not in connectivity:\n",
    "            print(f\"\\n🔗 Connectivity Analysis:\")\n",
    "            print(f\"   Direct Connections: {connectivity['direct_connections']}\")\n",
    "            print(f\"   Reachable Rooms: {connectivity['reachable_rooms']}/{connectivity['total_rooms']}\")\n",
    "            print(f\"   Reachability Score: {connectivity['reachability_score']:.2f}\")\n",
    "            print(f\"   Average Distance to Others: {connectivity['average_distance']:.1f} m\")\n",
    "            print(f\"   Connectivity Grade: {connectivity['connectivity_grade'].upper()}\")\n",
    "    except Exception as e:\n",
    "        print(f\"\\n⚠️ Connectivity analysis unavailable: {str(e)}\")\n",
    "    \n",
    "    # Evacuation analysis\n",
    "    try:\n",
    "        graph = create_circulation_graph(project)\n",
    "        evacuation = graph.calculate_egress_distance(room_id)\n",
    "        \n",
    "        if 'error' not in evacuation:\n",
    "            print(f\"\\n🚨 Evacuation Analysis:\")\n",
    "            print(f\"   Distance to Exit: {evacuation['distance']:.1f} m\")\n",
    "            print(f\"   Path: {' → '.join(evacuation['path'])}\")\n",
    "            print(f\"   Accessible Route: {'✅ Yes' if evacuation['is_accessible'] else '❌ No'}\")\n",
    "            \n",
    "            # Compliance check\n",
    "            if evacuation['distance'] <= 25:\n",
    "                print(f\"   Compliance: ✅ Within 25m limit\")\n",
    "            elif evacuation['distance'] <= 35:\n",
    "                print(f\"   Compliance: ⚠️ Exceeds 25m but within 35m\")\n",
    "            else:\n",
    "                print(f\"   Compliance: ❌ Exceeds 35m limit\")\n",
    "    except Exception as e:\n",
    "        print(f\"\\n⚠️ Evacuation analysis unavailable: {str(e)}\")\n",
    "    \n",
    "    # Occupancy analysis\n",
    "    area = room_data['area']\n",
    "    use_type = room_data.get('use', 'commercial')\n",
    "    \n",
    "    occupancy_factors = {\n",
    "        \"industrial\": 0.02, \"warehouse\": 0.02, \"office\": 0.1,\n",
    "        \"commercial\": 0.1, \"assembly\": 0.5, \"storage\": 0.02\n",
    "    }\n",
    "    \n",
    "    factor = occupancy_factors.get(use_type, 0.05)\n",
    "    occupancy = max(1, int(area * factor))\n",
    "    required_egress = occupancy * 5  # 5mm per person\n",
    "    \n",
    "    print(f\"\\n👥 Occupancy Analysis:\")\n",
    "    print(f\"   Calculated Occupancy: {occupancy} people\")\n",
    "    print(f\"   Occupancy Factor: {factor} people/m²\")\n",
    "    print(f\"   Required Egress Width: {required_egress} mm\")\n",
    "    print(f\"   Density: {occupancy/area:.3f} people/m²\")\n",
    "\n",
    "# Example: Analyze a specific room\n",
    "print(\"🔍 Room Analysis Tool Demo:\")\n",
    "print(\"\\nAvailable rooms:\", [r['id'] for r in loader.all_rooms[:5]], \"...\")\n",
    "\n",
    "# Analyze the first room as an example\n",
    "if loader.all_rooms:\n",
    "    example_room = loader.all_rooms[0]['id']\n",
    "    print(f\"\\n📝 Example analysis for room: {example_room}\")\n",
    "    analyze_specific_room(example_room)\n",
    "    \n",
    "    print(f\"\\n💡 To analyze any room, call: analyze_specific_room('ROOM_ID')\")"
   ]
  },
  {
   "cell_type": "markdown",
   "metadata": {},
   "source": [
    "## 📈 Step 8: Performance Summary Dashboard\n",
    "\n",
    "Let's create a comprehensive building performance summary:"
   ]
  },
  {
   "cell_type": "code",
   "execution_count": null,
   "metadata": {},
   "outputs": [],
   "source": "# Building performance dashboard with VISUALIZATION\nfrom src.calculations.graph import validate_evacuation_compliance, find_critical_circulation_points\n\nprint(\"📈 BUILDING PERFORMANCE DASHBOARD\")\nprint(\"=\" * 70)\nprint(f\"Project: {loader.metadata.get('project_name')}\")\nprint(f\"Analysis Date: {loader.metadata.get('created_date', '')[:10]}\")\nprint(\"=\" * 70)\n\n# Collect performance metrics\nmetrics = {}\n\n# Overall metrics\nmetrics['total_area'] = loader.metadata.get('total_area', 0)\nmetrics['levels'] = len(loader.levels)\nmetrics['rooms'] = len(loader.all_rooms)\nmetrics['doors'] = len(loader.all_doors)\nmetrics['walls'] = len(loader.all_walls)\n\n# Safety metrics\ntry:\n    compliance = validate_evacuation_compliance(project)\n    metrics['safety_compliance'] = compliance['compliance_rate']\n    metrics['inaccessible_rooms'] = len(compliance['inaccessible_rooms'])\n    safety_grade = \"A\" if compliance['compliance_rate'] >= 0.95 else \"B\" if compliance['compliance_rate'] >= 0.85 else \"C\" if compliance['compliance_rate'] >= 0.75 else \"D\"\n    metrics['safety_grade'] = safety_grade\nexcept Exception:\n    metrics['safety_compliance'] = 0.0\n    metrics['safety_grade'] = \"D\"\n\n# Circulation metrics\ntry:\n    critical_points = find_critical_circulation_points(project)\n    metrics['critical_rooms'] = critical_points['critical_room_count']\n    circulation_grade = \"A\" if critical_points['connectivity_risk'] == 'low' else \"B\" if critical_points['connectivity_risk'] == 'medium' else \"C\"\n    metrics['circulation_grade'] = circulation_grade\nexcept Exception:\n    metrics['critical_rooms'] = 0\n    metrics['circulation_grade'] = \"C\"\n\n# Door compliance\nemergency_exits = sum(1 for d in loader.all_doors if d.get('is_emergency_exit', False))\ncompliant_doors = sum(1 for d in loader.all_doors \n                     if d['width_mm'] >= (900 if d.get('is_emergency_exit', False) else 800))\ndoor_compliance_rate = compliant_doors / len(loader.all_doors) if loader.all_doors else 0\ndoor_grade = \"A\" if door_compliance_rate >= 0.95 else \"B\" if door_compliance_rate >= 0.85 else \"C\" if door_compliance_rate >= 0.75 else \"D\"\n\nmetrics['door_compliance'] = door_compliance_rate\nmetrics['door_grade'] = door_grade\nmetrics['emergency_exits'] = emergency_exits\n\n# Occupancy metrics\ntotal_occupancy = sum(max(1, int(r['area'] * 0.1)) for r in loader.all_rooms)  # Commercial factor\navg_density = total_occupancy / metrics['total_area']\nmetrics['total_occupancy'] = total_occupancy\nmetrics['avg_density'] = avg_density\n\n# 🎨 VISUALIZATION: Performance Dashboard\nfig = plt.figure(figsize=(18, 12))\n\n# Create a 3x3 grid for different visualizations\ngs = fig.add_gridspec(3, 3, hspace=0.3, wspace=0.3)\n\n# 1. Overall building metrics (top left)\nax1 = fig.add_subplot(gs[0, 0])\nbuilding_metrics = ['Levels', 'Rooms', 'Doors', 'Walls']\nbuilding_values = [metrics['levels'], metrics['rooms'], metrics['doors'], metrics['walls']]\ncolors1 = plt.cm.Set2(range(len(building_metrics)))\n\nbars1 = ax1.bar(building_metrics, building_values, color=colors1, alpha=0.8, edgecolor='black')\nax1.set_title('Building Overview', fontweight='bold', fontsize=12)\nax1.set_ylabel('Count')\n\nfor bar, value in zip(bars1, building_values):\n    ax1.text(bar.get_x() + bar.get_width()/2, bar.get_height() + 0.5, \n            str(value), ha='center', va='bottom', fontweight='bold')\n\n# 2. Compliance grades (top middle)\nax2 = fig.add_subplot(gs[0, 1])\ngrades = ['Safety', 'Circulation', 'Doors']\ngrade_values = [metrics['safety_grade'], metrics['circulation_grade'], metrics['door_grade']]\ngrade_scores = [{\"A\": 4, \"B\": 3, \"C\": 2, \"D\": 1}[g] for g in grade_values]\ncolors2 = ['green' if s >= 3 else 'orange' if s >= 2 else 'red' for s in grade_scores]\n\nbars2 = ax2.bar(grades, grade_scores, color=colors2, alpha=0.8, edgecolor='black')\nax2.set_title('Compliance Grades', fontweight='bold', fontsize=12)\nax2.set_ylabel('Grade Score')\nax2.set_ylim(0, 4.5)\nax2.set_yticks([1, 2, 3, 4])\nax2.set_yticklabels(['D', 'C', 'B', 'A'])\n\nfor bar, grade in zip(bars2, grade_values):\n    ax2.text(bar.get_x() + bar.get_width()/2, bar.get_height() + 0.1, \n            grade, ha='center', va='bottom', fontweight='bold', fontsize=14)\n\n# 3. Occupancy analysis (top right)\nax3 = fig.add_subplot(gs[0, 2])\noccupancy_data = ['Total Occupancy', 'Emergency Exits', 'Critical Rooms']\noccupancy_values = [metrics['total_occupancy'], metrics['emergency_exits'], metrics['critical_rooms']]\ncolors3 = ['blue', 'red', 'orange']\n\nbars3 = ax3.bar(occupancy_data, occupancy_values, color=colors3, alpha=0.8, edgecolor='black')\nax3.set_title('Safety Metrics', fontweight='bold', fontsize=12)\nax3.set_ylabel('Count')\n\nfor bar, value in zip(bars3, occupancy_values):\n    ax3.text(bar.get_x() + bar.get_width()/2, bar.get_height() + 0.5, \n            str(value), ha='center', va='bottom', fontweight='bold')\n\n# 4. Compliance rates (middle left)\nax4 = fig.add_subplot(gs[1, 0])\ncompliance_labels = ['Safety\\\\nCompliance', 'Door\\\\nCompliance']\ncompliance_values = [metrics['safety_compliance'], metrics['door_compliance']]\ncolors4 = ['green' if v >= 0.8 else 'orange' if v >= 0.6 else 'red' for v in compliance_values]\n\nbars4 = ax4.bar(compliance_labels, compliance_values, color=colors4, alpha=0.8, edgecolor='black')\nax4.set_title('Compliance Rates', fontweight='bold', fontsize=12)\nax4.set_ylabel('Compliance Rate')\nax4.set_ylim(0, 1.1)\n\nfor bar, value in zip(bars4, compliance_values):\n    ax4.text(bar.get_x() + bar.get_width()/2, bar.get_height() + 0.02, \n            f'{value:.1%}', ha='center', va='bottom', fontweight='bold')\n\n# 5. Overall score gauge (middle center)\nax5 = fig.add_subplot(gs[1, 1])\n# Calculate overall score\nscores = []\nif metrics['safety_grade']:\n    safety_score = {\"A\": 95, \"B\": 85, \"C\": 75, \"D\": 65}[metrics['safety_grade']]\n    scores.append(safety_score)\nif metrics['circulation_grade']:\n    circulation_score = {\"A\": 95, \"B\": 85, \"C\": 75}[metrics['circulation_grade']]\n    scores.append(circulation_score)\ndoor_score = {\"A\": 95, \"B\": 85, \"C\": 75, \"D\": 65}[metrics['door_grade']]\nscores.append(door_score)\n\noverall_score = sum(scores) / len(scores) if scores else 0\n\n# Create a simple gauge\ntheta = np.linspace(0, np.pi, 100)\nr = 1\nx = r * np.cos(theta)\ny = r * np.sin(theta)\n\nax5.plot(x, y, 'k-', linewidth=3)\nax5.fill_between(x, 0, y, alpha=0.3, color='lightgray')\n\n# Color the gauge based on score\nscore_angle = (overall_score / 100) * np.pi\nscore_x = np.cos(score_angle)\nscore_y = np.sin(score_angle)\n\ncolor = 'green' if overall_score >= 80 else 'orange' if overall_score >= 60 else 'red'\nax5.arrow(0, 0, score_x*0.8, score_y*0.8, head_width=0.1, head_length=0.1, \n         fc=color, ec=color, linewidth=3)\n\nax5.set_xlim(-1.2, 1.2)\nax5.set_ylim(-0.2, 1.2)\nax5.set_aspect('equal')\nax5.set_title(f'Overall Score: {overall_score:.0f}/100', fontweight='bold', fontsize=12)\nax5.text(0, -0.1, f'Rating: {\"EXCELLENT\" if overall_score >= 90 else \"GOOD\" if overall_score >= 80 else \"ACCEPTABLE\" if overall_score >= 70 else \"NEEDS IMPROVEMENT\"}', \n         ha='center', va='top', fontweight='bold')\nax5.axis('off')\n\n# 6. Area distribution (middle right)\nax6 = fig.add_subplot(gs[1, 2])\narea_per_room = [room['area'] for room in loader.all_rooms]\nax6.hist(area_per_room, bins=5, color='skyblue', alpha=0.8, edgecolor='black')\nax6.set_title('Room Area Distribution', fontweight='bold', fontsize=12)\nax6.set_xlabel('Room Area (m²)')\nax6.set_ylabel('Number of Rooms')\n\n# 7. Performance summary table (bottom row)\nax7 = fig.add_subplot(gs[2, :])\nax7.axis('off')\n\n# Create summary table\nsummary_data = [\n    ['Metric', 'Value', 'Status'],\n    ['Total Area', f\"{metrics['total_area']:.0f} m²\", '✅'],\n    ['Safety Compliance', f\"{metrics['safety_compliance']:.1%}\", '✅' if metrics['safety_compliance'] > 0.8 else '❌'],\n    ['Door Compliance', f\"{metrics['door_compliance']:.1%}\", '✅' if metrics['door_compliance'] > 0.95 else '❌'],\n    ['Emergency Exits', f\"{metrics['emergency_exits']}\", '⚠️' if metrics['emergency_exits'] == 0 else '✅'],\n    ['Critical Rooms', f\"{metrics['critical_rooms']}\", '✅' if metrics['critical_rooms'] == 0 else '⚠️'],\n    ['Occupancy Density', f\"{metrics['avg_density']:.3f} p/m²\", '✅'],\n    ['Overall Grade', f\"{overall_score:.0f}/100\", '✅' if overall_score >= 80 else '⚠️' if overall_score >= 60 else '❌']\n]\n\ntable = ax7.table(cellText=summary_data[1:], colLabels=summary_data[0], \n                 cellLoc='center', loc='center', colWidths=[0.3, 0.3, 0.1])\ntable.auto_set_font_size(False)\ntable.set_fontsize(11)\ntable.scale(1.2, 2)\n\n# Style the table\nfor i in range(len(summary_data)):\n    for j in range(len(summary_data[0])):\n        if i == 0:  # Header\n            table[(i, j)].set_facecolor('#40466e')\n            table[(i, j)].set_text_props(weight='bold', color='white')\n        else:\n            if j == 2:  # Status column\n                if summary_data[i][j] == '✅':\n                    table[(i, j)].set_facecolor('#90EE90')\n                elif summary_data[i][j] == '❌':\n                    table[(i, j)].set_facecolor('#FFB6C1')\n                else:\n                    table[(i, j)].set_facecolor('#FFE4B5')\n\nplt.suptitle('🏗️ Building Performance Dashboard - Vilamalla Industrial Complex', fontsize=16, fontweight='bold', y=0.98)\nplt.show()\n\nprint(f\"\\n🎨 Performance Dashboard shows:\")\nprint(f\"   📊 Building overview and key metrics\")\nprint(f\"   📈 Compliance grades and performance scores\")\nprint(f\"   🎯 Overall building rating: {overall_score:.0f}/100\")\nprint(f\"   📋 Comprehensive summary table\")"
  },
  {
   "cell_type": "markdown",
   "metadata": {},
   "source": "## 🎯 Summary: Visual Computational Tools Tutorial\n\nThis notebook demonstrated the **practical computational tools** our compliance agent uses, with **clear visualizations** to show what each tool does:\n\n### 🎨 **Visual Analysis Tools Demonstrated**:\n\n1. **🔗 Building Connectivity Analysis** \n   - **Left Chart**: Network graph showing room connections (red = critical)\n   - **Right Chart**: Connectivity levels by room (green = well connected)\n   - **What it shows**: How rooms connect and which are critical for circulation\n\n2. **🚪 Door Usage & Compliance Analysis**\n   - **Left Chart**: Door widths vs compliance thresholds (scatter plot)\n   - **Right Chart**: Door distribution across building levels (pie chart)\n   - **What it shows**: Which doors meet regulations and how they're distributed\n\n3. **👥 Occupancy Load Analysis**\n   - **Left Chart**: Room occupancy levels with density color coding\n   - **Right Chart**: Area vs occupancy relationship with trend line\n   - **What it shows**: How many people each room can hold and density patterns\n\n4. **📈 Performance Dashboard**\n   - **Comprehensive Grid**: 7 different visualization panels\n   - **Gauge Chart**: Overall building performance score\n   - **Summary Table**: Complete metrics with color-coded status\n   - **What it shows**: Complete building health at a glance\n\n### 🔧 **Key Visual Benefits**:\n- **Immediate Understanding**: See problems and patterns instantly\n- **Color-Coded Results**: Green = good, orange = warning, red = issue\n- **Multiple Perspectives**: Different chart types show different aspects\n- **Professional Presentation**: Ready for reports and presentations\n\n### 🎪 **For Tutorial Users**:\n- **Visual Learning**: Understand what tools do by seeing results\n- **Pattern Recognition**: Spot issues across the building quickly\n- **Comparative Analysis**: Compare rooms, doors, and levels visually\n- **Decision Support**: Clear visual data for informed decisions\n\n### 🚀 **For the Agent**:\nThese same computational tools work behind the scenes to:\n- **Analyze Building Performance**: All calculations shown here\n- **Generate Visual Reports**: Create these charts automatically\n- **Identify Issues**: Flag problems the visualizations reveal\n- **Support Decisions**: Provide data for compliance recommendations\n\n### 💡 **What You Learned**:\n- How to **visualize circulation patterns** in buildings\n- How to **identify compliance issues** through charts\n- How to **analyze occupancy distribution** visually\n- How to create **comprehensive dashboards** for building performance\n\n**The visualizations make complex building analysis accessible and actionable!** 📊✨"
  }
 ],
 "metadata": {
  "kernelspec": {
   "display_name": "Python 3 (ipykernel)",
   "language": "python",
   "name": "python3"
  },
  "language_info": {
   "codemirror_mode": {
    "name": "ipython",
    "version": 3
   },
   "file_extension": ".py",
   "mimetype": "text/x-python",
   "name": "python",
   "nbconvert_exporter": "python",
   "pygments_lexer": "ipython3",
   "version": "3.13.1"
  }
 },
 "nbformat": 4,
 "nbformat_minor": 4
}