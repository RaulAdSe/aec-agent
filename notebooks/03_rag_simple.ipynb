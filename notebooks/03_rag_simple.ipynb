{
  "cells": [
    {
      "cell_type": "markdown",
      "metadata": {},
      "source": [
        "# 🔍 Tutorial 3: RAG - Query Building Codes with AI\n",
        "\n",
        "## 🎯 What You'll Learn\n",
        "- What is RAG (Retrieval Augmented Generation)\n",
        "- How to query Spanish building codes (CTE)\n",
        "- See actual retrieved chunks\n",
        "- Compare with/without RAG\n",
        "\n",
        "---\n"
      ]
    },
    {
      "cell_type": "markdown",
      "metadata": {},
      "source": [
        "## 🤔 What is RAG?\n",
        "\n",
        "**Problem**: LLMs don't know about:\n",
        "- Your company's documents\n",
        "- Recent information\n",
        "- Specific building codes\n",
        "\n",
        "**Solution**: RAG = Retrieval + Generation\n",
        "\n",
        "```\n",
        "User Question\n",
        "     ↓\n",
        "🔍 Search Documents (Retrieval)\n",
        "     ↓\n",
        "📄 Find Relevant Chunks\n",
        "     ↓\n",
        "🤖 LLM + Context → Answer (Generation)\n",
        "```\n",
        "\n",
        "We have Spanish building codes (CTE):\n",
        "- **CTE DB-SI**: Seguridad en caso de incendio\n",
        "- **CTE DB-SUA**: Seguridad de utilización y accesibilidad\n",
        "\n",
        "Total: ~200 pages of regulations\n"
      ]
    },
    {
      "cell_type": "code",
      "execution_count": null,
      "metadata": {},
      "outputs": [],
      "source": [
        "import sys\n",
        "sys.path.append('.')\n",
        "\n",
        "from src.rag.vectorstore_manager import VectorstoreManager\n",
        "from src.rag.qa_chain import create_qa_chain\n",
        "from pathlib import Path\n",
        "\n",
        "# Load existing vectorstore\n",
        "rag = VectorstoreManager(Path(\"vectorstore/normativa_db\"))\n",
        "rag.load_existing()\n",
        "\n",
        "print(\"✅ RAG system loaded!\")\n",
        "print(\"   Documents indexed: CTE DB-SI, CTE DB-SUA\")\n",
        "print(\"   Ready to answer questions\")\n"
      ]
    },
    {
      "cell_type": "code",
      "execution_count": null,
      "metadata": {},
      "outputs": [],
      "source": [
        "# Test RAG with building code questions\n",
        "questions = [\n",
        "    \"¿Ancho mínimo de puerta de evacuación?\",\n",
        "    \"¿Distancia máxima de evacuación en edificios?\",\n",
        "    \"¿Requisitos de resistencia al fuego para muros?\"\n",
        "]\n",
        "\n",
        "for q in questions:\n",
        "    print(f\"\\n{'='*70}\")\n",
        "    print(f\"❓ {q}\")\n",
        "    print('='*70)\n",
        "    \n",
        "    # Simple retrieval (no LLM)\n",
        "    docs = rag.query_simple(q, k=2)\n",
        "    print(f\"Found {len(docs)} relevant chunks:\")\n",
        "    \n",
        "    for i, doc in enumerate(docs, 1):\n",
        "        print(f\"\\n📄 CHUNK {i}\")\n",
        "        print(f\"Source: {doc.metadata.get('source', 'Unknown')}\")\n",
        "        print(f\"Content: {doc.page_content[:200]}...\")\n",
        "    \n",
        "    print(\"-\" * 70)\n"
      ]
    },
    {
      "cell_type": "markdown",
      "metadata": {},
      "source": [
        "## 🎯 Summary\n",
        "\n",
        "In this tutorial, you learned:\n",
        "\n",
        "1. ✅ RAG combines retrieval + LLM generation\n",
        "2. ✅ Converts questions and documents to vectors\n",
        "3. ✅ Finds relevant chunks with similarity search\n",
        "4. ✅ LLM uses chunks to generate accurate answers\n",
        "5. ✅ Always includes source citations\n",
        "\n",
        "**Next**: Tutorial 4 - Autonomous Agent\n"
      ]
    }
  ],
  "metadata": {
    "language_info": {
      "name": "python"
    }
  },
  "nbformat": 4,
  "nbformat_minor": 2
}
