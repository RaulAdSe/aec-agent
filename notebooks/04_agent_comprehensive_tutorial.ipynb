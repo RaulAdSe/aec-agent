{
 "cells": [
  {
   "cell_type": "markdown",
   "metadata": {},
   "source": [
    "# 🤖 Tutorial 4: ReAct Agent - Autonomous Compliance Verification\n",
    "\n",
    "## 🎯 What You'll Learn\n",
    "\n",
    "In this tutorial, you'll see how all the components from the previous tutorials work together in a **ReAct Agent** that can:\n",
    "\n",
    "1. **🧠 Reason** about building compliance problems autonomously\n",
    "2. **🔧 Use tools** to access data, perform calculations, and query regulations\n",
    "3. **📚 Query documents** using the RAG system from Tutorial 3\n",
    "4. **🏗️ Analyze buildings** using calculations from Tutorial 2\n",
    "5. **💬 Have conversations** about compliance in natural language\n",
    "\n",
    "## 📋 Table of Contents\n",
    "\n",
    "1. [What is a ReAct Agent?](#1-what-is-a-react-agent)\n",
    "2. [Setting Up the Agent](#2-setting-up-the-agent)\n",
    "3. [Understanding the Tools](#3-understanding-the-tools)\n",
    "4. [Testing Simple Queries](#4-testing-simple-queries)\n",
    "5. [Complex Compliance Verification](#5-complex-compliance-verification)\n",
    "6. [Conversational Interface](#6-conversational-interface)\n",
    "\n",
    "---\n"
   ]
  },
  {
   "cell_type": "markdown",
   "metadata": {},
   "source": [
    "## 1. What is a ReAct Agent?\n",
    "\n",
    "**ReAct** = **Rea**soning + **Act**ing\n",
    "\n",
    "A ReAct agent is an AI system that can:\n",
    "1. 🧠 **Think** about what it needs to do\n",
    "2. 🔧 **Choose** which tools to use\n",
    "3. ⚡ **Execute** the tools\n",
    "4. 📊 **Observe** the results\n",
    "5. 🔁 **Repeat** until it has the answer\n",
    "\n",
    "### How it works:\n",
    "\n",
    "```\n",
    "User: \"Check if all doors meet requirements\"\n",
    "     ↓\n",
    "Agent: \"I need to list all doors first\"\n",
    "     ↓\n",
    "Tool: list_all_doors()\n",
    "     ↓\n",
    "Agent: \"Now I'll check each door's compliance\"\n",
    "     ↓\n",
    "Tool: check_door_width_compliance(\"D001\")\n",
    "     ↓\n",
    "Agent: \"Let me query the regulations for requirements\"\n",
    "     ↓\n",
    "Tool: query_normativa(\"minimum door width\")\n",
    "     ↓\n",
    "Agent: \"Here's my final answer...\"\n",
    "```\n",
    "\n",
    "The agent **autonomously** decides what to do and uses the right tools to get the information it needs!\n"
   ]
  },
  {
   "cell_type": "markdown",
   "metadata": {},
   "source": [
    "## 2. Setting Up the Agent\n",
    "\n",
    "Let's set up our ReAct agent using the components we've already built!\n"
   ]
  },
  {
   "cell_type": "code",
   "execution_count": 4,
   "metadata": {},
   "outputs": [
    {
     "ename": "ModuleNotFoundError",
     "evalue": "No module named 'src'",
     "output_type": "error",
     "traceback": [
      "\u001b[31m---------------------------------------------------------------------------\u001b[39m",
      "\u001b[31mModuleNotFoundError\u001b[39m                       Traceback (most recent call last)",
      "\u001b[36mCell\u001b[39m\u001b[36m \u001b[39m\u001b[32mIn[4]\u001b[39m\u001b[32m, line 10\u001b[39m\n\u001b[32m      7\u001b[39m sys.path.append(\u001b[33m'\u001b[39m\u001b[33m.\u001b[39m\u001b[33m'\u001b[39m)\n\u001b[32m      9\u001b[39m \u001b[38;5;66;03m# Import our existing agent components\u001b[39;00m\n\u001b[32m---> \u001b[39m\u001b[32m10\u001b[39m \u001b[38;5;28;01mfrom\u001b[39;00m\u001b[38;5;250m \u001b[39m\u001b[34;01msrc\u001b[39;00m\u001b[34;01m.\u001b[39;00m\u001b[34;01magent\u001b[39;00m\u001b[34;01m.\u001b[39;00m\u001b[34;01mgraph\u001b[39;00m\u001b[38;5;250m \u001b[39m\u001b[38;5;28;01mimport\u001b[39;00m create_compliance_agent\n\u001b[32m     11\u001b[39m \u001b[38;5;28;01mfrom\u001b[39;00m\u001b[38;5;250m \u001b[39m\u001b[34;01msrc\u001b[39;00m\u001b[34;01m.\u001b[39;00m\u001b[34;01magent\u001b[39;00m\u001b[34;01m.\u001b[39;00m\u001b[34;01mtools\u001b[39;00m\u001b[38;5;250m \u001b[39m\u001b[38;5;28;01mimport\u001b[39;00m load_project_data, set_vectorstore_manager\n\u001b[32m     13\u001b[39m \u001b[38;5;28mprint\u001b[39m(\u001b[33m\"\u001b[39m\u001b[33m✅ Libraries imported successfully!\u001b[39m\u001b[33m\"\u001b[39m)\n",
      "\u001b[31mModuleNotFoundError\u001b[39m: No module named 'src'"
     ]
    }
   ],
   "source": [
    "# Import required libraries\n",
    "import sys\n",
    "from pathlib import Path\n",
    "from langchain_core.messages import HumanMessage\n",
    "\n",
    "# Add src to path for imports\n",
    "sys.path.append('.')\n",
    "\n",
    "# Import our existing agent components\n",
    "from src.agent.graph import create_compliance_agent\n",
    "from src.agent.tools import load_project_data, set_vectorstore_manager\n",
    "\n",
    "print(\"✅ Libraries imported successfully!\")\n",
    "print(\"🤖 Ready to use our ReAct agent\")\n"
   ]
  },
  {
   "cell_type": "code",
   "execution_count": 5,
   "metadata": {},
   "outputs": [
    {
     "ename": "NameError",
     "evalue": "name 'load_project_data' is not defined",
     "output_type": "error",
     "traceback": [
      "\u001b[31m---------------------------------------------------------------------------\u001b[39m",
      "\u001b[31mNameError\u001b[39m                                 Traceback (most recent call last)",
      "\u001b[36mCell\u001b[39m\u001b[36m \u001b[39m\u001b[32mIn[5]\u001b[39m\u001b[32m, line 3\u001b[39m\n\u001b[32m      1\u001b[39m \u001b[38;5;66;03m# Load project data (use example dataset from Tutorial 1/2)\u001b[39;00m\n\u001b[32m      2\u001b[39m project_file = Path(\u001b[33m\"\u001b[39m\u001b[33mdata/extracted/tutorial_example.json\u001b[39m\u001b[33m\"\u001b[39m)\n\u001b[32m----> \u001b[39m\u001b[32m3\u001b[39m \u001b[43mload_project_data\u001b[49m(project_file)\n\u001b[32m      4\u001b[39m \u001b[38;5;28mprint\u001b[39m(\u001b[33mf\u001b[39m\u001b[33m\"\u001b[39m\u001b[33m✅ Project data loaded: \u001b[39m\u001b[38;5;132;01m{\u001b[39;00mproject_file\u001b[38;5;132;01m}\u001b[39;00m\u001b[33m\"\u001b[39m)\n\u001b[32m      6\u001b[39m \u001b[38;5;66;03m# Setup RAG for query_normativa tool if available\u001b[39;00m\n",
      "\u001b[31mNameError\u001b[39m: name 'load_project_data' is not defined"
     ]
    }
   ],
   "source": [
    "# Load project data (use example dataset from Tutorial 1/2)\n",
    "project_file = Path(\"data/extracted/tutorial_example.json\")\n",
    "load_project_data(project_file)\n",
    "print(f\"✅ Project data loaded: {project_file}\")\n",
    "\n",
    "# Setup RAG for query_normativa tool if available\n",
    "rag_available = False\n",
    "vectorstore_path = Path(\"vectorstore/normativa_db\")\n",
    "try:\n",
    "    from src.rag.vectorstore_manager import VectorstoreManager\n",
    "    from src.rag.qa_chain import create_qa_chain\n",
    "    rag_available = vectorstore_path.exists() and any(vectorstore_path.iterdir())\n",
    "except Exception:\n",
    "    rag_available = False\n",
    "\n",
    "if rag_available:\n",
    "    try:\n",
    "        rag = VectorstoreManager(vectorstore_path)\n",
    "        rag.load_existing()\n",
    "        retriever = rag.get_retriever(k=3)\n",
    "        qa_chain = create_qa_chain(retriever)\n",
    "\n",
    "        class RAGWrapper:\n",
    "            def query(self, question):\n",
    "                return qa_chain({\"query\": question})\n",
    "\n",
    "        set_vectorstore_manager(RAGWrapper())\n",
    "        print(\"✅ RAG system connected\")\n",
    "    except Exception as e:\n",
    "        print(\"⚠️ Could not initialize RAG:\", e)\n",
    "        print(\"   Tip: Create the vectorstore before the demo.\")\n",
    "        print(\"   For setup, see docs or run: python scripts/create_vectorstore.py\")\n",
    "else:\n",
    "    print(\"ℹ️ RAG vectorstore not found. Skipping CTE querying in this run.\")\n",
    "    print(\"   To enable, run: python scripts/create_vectorstore.py\")\n",
    "\n",
    "# Create agent\n",
    "agent = create_compliance_agent()\n",
    "print(\"✅ Agent created\")\n",
    "print(\"\\n🤖 Ready to verify compliance!\")\n"
   ]
  },
  {
   "cell_type": "markdown",
   "metadata": {},
   "source": [
    "## 3. Understanding the Tools\n",
    "\n",
    "Our ReAct agent has access to 6 powerful tools that combine all the functionality from the previous tutorials:\n",
    "\n",
    "### 🏗️ **Data Tools** (from Tutorial 1)\n",
    "- **`get_room_info(room_id)`** - Get detailed room information\n",
    "- **`get_door_info(door_id)`** - Get detailed door information  \n",
    "- **`list_all_doors()`** - List all doors in the project\n",
    "\n",
    "### 📐 **Calculation Tools** (from Tutorial 2)\n",
    "- **`check_door_width_compliance(door_id)`** - Check door width compliance\n",
    "- **`calculate_egress_distance(room_id)`** - Calculate evacuation distances\n",
    "\n",
    "### 📚 **RAG Tool** (from Tutorial 3)\n",
    "- **`query_normativa(question)`** - Query Spanish building codes (CTE)\n",
    "\n",
    "The agent can use these tools **autonomously** to answer complex compliance questions!\n"
   ]
  },
  {
   "cell_type": "markdown",
   "metadata": {},
   "source": [
    "## 4. Testing Simple Queries\n",
    "\n",
    "Let's start with some simple queries to see the agent in action!\n"
   ]
  },
  {
   "cell_type": "code",
   "execution_count": 6,
   "metadata": {},
   "outputs": [
    {
     "name": "stdout",
     "output_type": "stream",
     "text": [
      "======================================================================\n",
      "EXAMPLE 1: List all doors\n",
      "======================================================================\n",
      "\n"
     ]
    },
    {
     "ename": "NameError",
     "evalue": "name 'agent' is not defined",
     "output_type": "error",
     "traceback": [
      "\u001b[31m---------------------------------------------------------------------------\u001b[39m",
      "\u001b[31mNameError\u001b[39m                                 Traceback (most recent call last)",
      "\u001b[36mCell\u001b[39m\u001b[36m \u001b[39m\u001b[32mIn[6]\u001b[39m\u001b[32m, line 6\u001b[39m\n\u001b[32m      3\u001b[39m \u001b[38;5;28mprint\u001b[39m(\u001b[33m\"\u001b[39m\u001b[33mEXAMPLE 1: List all doors\u001b[39m\u001b[33m\"\u001b[39m)\n\u001b[32m      4\u001b[39m \u001b[38;5;28mprint\u001b[39m(\u001b[33m\"\u001b[39m\u001b[33m=\u001b[39m\u001b[33m\"\u001b[39m*\u001b[32m70\u001b[39m + \u001b[33m\"\u001b[39m\u001b[38;5;130;01m\\n\u001b[39;00m\u001b[33m\"\u001b[39m)\n\u001b[32m----> \u001b[39m\u001b[32m6\u001b[39m result = \u001b[43magent\u001b[49m.invoke({\n\u001b[32m      7\u001b[39m     \u001b[33m\"\u001b[39m\u001b[33mmessages\u001b[39m\u001b[33m\"\u001b[39m: [HumanMessage(content=\u001b[33m\"\u001b[39m\u001b[33mList all doors in the project\u001b[39m\u001b[33m\"\u001b[39m)],\n\u001b[32m      8\u001b[39m     \u001b[33m\"\u001b[39m\u001b[33miterations\u001b[39m\u001b[33m\"\u001b[39m: \u001b[32m0\u001b[39m\n\u001b[32m      9\u001b[39m })\n\u001b[32m     11\u001b[39m \u001b[38;5;66;03m# Print agent's response\u001b[39;00m\n\u001b[32m     12\u001b[39m \u001b[38;5;28;01mfor\u001b[39;00m msg \u001b[38;5;129;01min\u001b[39;00m result[\u001b[33m\"\u001b[39m\u001b[33mmessages\u001b[39m\u001b[33m\"\u001b[39m]:\n",
      "\u001b[31mNameError\u001b[39m: name 'agent' is not defined"
     ]
    }
   ],
   "source": [
    "# Example 1: List all doors\n",
    "print(\"=\"*70)\n",
    "print(\"EXAMPLE 1: List all doors\")\n",
    "print(\"=\"*70 + \"\\n\")\n",
    "\n",
    "result = agent.invoke({\n",
    "    \"messages\": [HumanMessage(content=\"List all doors in the project\")],\n",
    "    \"iterations\": 0\n",
    "})\n",
    "\n",
    "# Print agent's response\n",
    "for msg in result[\"messages\"]:\n",
    "    if hasattr(msg, 'content') and msg.content and not msg.content.startswith(\"You are\"):\n",
    "        print(msg.content)\n",
    "\n",
    "print(f\"\\n✅ Completed in {result['iterations']} iterations\")\n"
   ]
  },
  {
   "cell_type": "code",
   "execution_count": 7,
   "metadata": {},
   "outputs": [
    {
     "name": "stdout",
     "output_type": "stream",
     "text": [
      "======================================================================\n",
      "EXAMPLE 2: Check door compliance\n",
      "======================================================================\n",
      "\n"
     ]
    },
    {
     "ename": "NameError",
     "evalue": "name 'agent' is not defined",
     "output_type": "error",
     "traceback": [
      "\u001b[31m---------------------------------------------------------------------------\u001b[39m",
      "\u001b[31mNameError\u001b[39m                                 Traceback (most recent call last)",
      "\u001b[36mCell\u001b[39m\u001b[36m \u001b[39m\u001b[32mIn[7]\u001b[39m\u001b[32m, line 6\u001b[39m\n\u001b[32m      3\u001b[39m \u001b[38;5;28mprint\u001b[39m(\u001b[33m\"\u001b[39m\u001b[33mEXAMPLE 2: Check door compliance\u001b[39m\u001b[33m\"\u001b[39m)\n\u001b[32m      4\u001b[39m \u001b[38;5;28mprint\u001b[39m(\u001b[33m\"\u001b[39m\u001b[33m=\u001b[39m\u001b[33m\"\u001b[39m*\u001b[32m70\u001b[39m + \u001b[33m\"\u001b[39m\u001b[38;5;130;01m\\n\u001b[39;00m\u001b[33m\"\u001b[39m)\n\u001b[32m----> \u001b[39m\u001b[32m6\u001b[39m result = \u001b[43magent\u001b[49m.invoke({\n\u001b[32m      7\u001b[39m     \u001b[33m\"\u001b[39m\u001b[33mmessages\u001b[39m\u001b[33m\"\u001b[39m: [HumanMessage(content=\u001b[33m\"\u001b[39m\u001b[33mCheck if all doors meet minimum width requirements\u001b[39m\u001b[33m\"\u001b[39m)],\n\u001b[32m      8\u001b[39m     \u001b[33m\"\u001b[39m\u001b[33miterations\u001b[39m\u001b[33m\"\u001b[39m: \u001b[32m0\u001b[39m\n\u001b[32m      9\u001b[39m })\n\u001b[32m     11\u001b[39m \u001b[38;5;66;03m# Print agent's reasoning and answer\u001b[39;00m\n\u001b[32m     12\u001b[39m \u001b[38;5;28;01mfor\u001b[39;00m msg \u001b[38;5;129;01min\u001b[39;00m result[\u001b[33m\"\u001b[39m\u001b[33mmessages\u001b[39m\u001b[33m\"\u001b[39m]:\n",
      "\u001b[31mNameError\u001b[39m: name 'agent' is not defined"
     ]
    }
   ],
   "source": [
    "# Example 2: Check door compliance\n",
    "print(\"=\"*70)\n",
    "print(\"EXAMPLE 2: Check door compliance\")\n",
    "print(\"=\"*70 + \"\\n\")\n",
    "\n",
    "result = agent.invoke({\n",
    "    \"messages\": [HumanMessage(content=\"Check if all doors meet minimum width requirements\")],\n",
    "    \"iterations\": 0\n",
    "})\n",
    "\n",
    "# Print agent's reasoning and answer\n",
    "for msg in result[\"messages\"]:\n",
    "    if hasattr(msg, 'content') and msg.content and not msg.content.startswith(\"You are\"):\n",
    "        print(msg.content)\n",
    "        print()\n",
    "\n",
    "print(f\"✅ Completed in {result['iterations']} iterations\")\n"
   ]
  },
  {
   "cell_type": "markdown",
   "metadata": {},
   "source": [
    "## 5. Complex Compliance Verification\n",
    "\n",
    "Now let's see the agent handle more complex tasks that require multiple tools and reasoning!\n"
   ]
  },
  {
   "cell_type": "code",
   "execution_count": 8,
   "metadata": {},
   "outputs": [
    {
     "name": "stdout",
     "output_type": "stream",
     "text": [
      "======================================================================\n",
      "EXAMPLE 3: Complex Compliance Check\n",
      "======================================================================\n",
      "\n"
     ]
    },
    {
     "ename": "NameError",
     "evalue": "name 'agent' is not defined",
     "output_type": "error",
     "traceback": [
      "\u001b[31m---------------------------------------------------------------------------\u001b[39m",
      "\u001b[31mNameError\u001b[39m                                 Traceback (most recent call last)",
      "\u001b[36mCell\u001b[39m\u001b[36m \u001b[39m\u001b[32mIn[8]\u001b[39m\u001b[32m, line 6\u001b[39m\n\u001b[32m      3\u001b[39m \u001b[38;5;28mprint\u001b[39m(\u001b[33m\"\u001b[39m\u001b[33mEXAMPLE 3: Complex Compliance Check\u001b[39m\u001b[33m\"\u001b[39m)\n\u001b[32m      4\u001b[39m \u001b[38;5;28mprint\u001b[39m(\u001b[33m\"\u001b[39m\u001b[33m=\u001b[39m\u001b[33m\"\u001b[39m*\u001b[32m70\u001b[39m + \u001b[33m\"\u001b[39m\u001b[38;5;130;01m\\n\u001b[39;00m\u001b[33m\"\u001b[39m)\n\u001b[32m----> \u001b[39m\u001b[32m6\u001b[39m result = \u001b[43magent\u001b[49m.invoke({\n\u001b[32m      7\u001b[39m     \u001b[33m\"\u001b[39m\u001b[33mmessages\u001b[39m\u001b[33m\"\u001b[39m: [HumanMessage(content=\u001b[33m\"\"\"\u001b[39m\n\u001b[32m      8\u001b[39m \u001b[33m    Perform a comprehensive compliance check:\u001b[39m\n\u001b[32m      9\u001b[39m \u001b[33m    1. List all doors\u001b[39m\n\u001b[32m     10\u001b[39m \u001b[33m    2. Check each door\u001b[39m\u001b[33m'\u001b[39m\u001b[33ms width compliance\u001b[39m\n\u001b[32m     11\u001b[39m \u001b[33m    3. Calculate evacuation distances from all rooms\u001b[39m\n\u001b[32m     12\u001b[39m \u001b[33m    4. Summarize findings with specific non-compliant items\u001b[39m\n\u001b[32m     13\u001b[39m \u001b[33m    \u001b[39m\u001b[33m\"\"\"\u001b[39m)],\n\u001b[32m     14\u001b[39m     \u001b[33m\"\u001b[39m\u001b[33miterations\u001b[39m\u001b[33m\"\u001b[39m: \u001b[32m0\u001b[39m\n\u001b[32m     15\u001b[39m })\n\u001b[32m     17\u001b[39m \u001b[38;5;28;01mfor\u001b[39;00m msg \u001b[38;5;129;01min\u001b[39;00m result[\u001b[33m\"\u001b[39m\u001b[33mmessages\u001b[39m\u001b[33m\"\u001b[39m]:\n\u001b[32m     18\u001b[39m     \u001b[38;5;28;01mif\u001b[39;00m \u001b[38;5;28mhasattr\u001b[39m(msg, \u001b[33m'\u001b[39m\u001b[33mcontent\u001b[39m\u001b[33m'\u001b[39m) \u001b[38;5;129;01mand\u001b[39;00m msg.content \u001b[38;5;129;01mand\u001b[39;00m \u001b[38;5;129;01mnot\u001b[39;00m msg.content.startswith(\u001b[33m\"\u001b[39m\u001b[33mYou are\u001b[39m\u001b[33m\"\u001b[39m):\n",
      "\u001b[31mNameError\u001b[39m: name 'agent' is not defined"
     ]
    }
   ],
   "source": [
    "# Example 3: Complex compliance check\n",
    "print(\"=\"*70)\n",
    "print(\"EXAMPLE 3: Complex Compliance Check\")\n",
    "print(\"=\"*70 + \"\\n\")\n",
    "\n",
    "result = agent.invoke({\n",
    "    \"messages\": [HumanMessage(content=\"\"\"\n",
    "    Perform a comprehensive compliance check:\n",
    "    1. List all doors\n",
    "    2. Check each door's width compliance\n",
    "    3. Calculate evacuation distances from all rooms\n",
    "    4. Summarize findings with specific non-compliant items\n",
    "    \"\"\")],\n",
    "    \"iterations\": 0\n",
    "})\n",
    "\n",
    "for msg in result[\"messages\"]:\n",
    "    if hasattr(msg, 'content') and msg.content and not msg.content.startswith(\"You are\"):\n",
    "        print(msg.content)\n",
    "        print()\n",
    "\n",
    "print(f\"✅ Completed in {result['iterations']} iterations\")\n"
   ]
  },
  {
   "cell_type": "markdown",
   "metadata": {},
   "source": [
    "## 6. Conversational Interface\n",
    "\n",
    "Finally, let's create a simple conversational interface where you can ask the agent anything!\n"
   ]
  },
  {
   "cell_type": "code",
   "execution_count": 9,
   "metadata": {},
   "outputs": [
    {
     "name": "stdout",
     "output_type": "stream",
     "text": [
      "✅ Conversational interface created\n",
      "💬 Use chat_with_agent('your question') to interact\n"
     ]
    }
   ],
   "source": [
    "# Create a conversational interface function\n",
    "def chat_with_agent(question: str) -> str:\n",
    "    \"\"\"\n",
    "    Chat with the ReAct agent.\n",
    "    \n",
    "    Args:\n",
    "        question: The question to ask the agent\n",
    "    \n",
    "    Returns:\n",
    "        String with the agent's response\n",
    "    \"\"\"\n",
    "    print(f\"\\n💬 Question: {question}\")\n",
    "    print(\"=\" * 80)\n",
    "    \n",
    "    # Create initial state\n",
    "    initial_state = {\n",
    "        \"messages\": [HumanMessage(content=question)],\n",
    "        \"iterations\": 0\n",
    "    }\n",
    "    \n",
    "    # Run the agent\n",
    "    result = agent.invoke(initial_state)\n",
    "    \n",
    "    # Extract the final response\n",
    "    final_response = \"\"\n",
    "    for message in result[\"messages\"]:\n",
    "        if hasattr(message, 'content') and message.content and not message.content.startswith(\"You are\"):\n",
    "            final_response = message.content\n",
    "    \n",
    "    print(f\"\\n🤖 Agent Response:\")\n",
    "    print(final_response)\n",
    "    print(f\"\\n📊 Completed in {result['iterations']} iterations\")\n",
    "    \n",
    "    return final_response\n",
    "\n",
    "print(\"✅ Conversational interface created\")\n",
    "print(\"💬 Use chat_with_agent('your question') to interact\")\n"
   ]
  },
  {
   "cell_type": "code",
   "execution_count": 10,
   "metadata": {},
   "outputs": [
    {
     "name": "stdout",
     "output_type": "stream",
     "text": [
      "🎭 DEMO: Conversational Interface\n",
      "==================================================\n",
      "\n",
      "==================== DEMO 1 ====================\n",
      "\n",
      "💬 Question: What building codes apply to emergency exit doors?\n",
      "================================================================================\n"
     ]
    },
    {
     "ename": "NameError",
     "evalue": "name 'agent' is not defined",
     "output_type": "error",
     "traceback": [
      "\u001b[31m---------------------------------------------------------------------------\u001b[39m",
      "\u001b[31mNameError\u001b[39m                                 Traceback (most recent call last)",
      "\u001b[36mCell\u001b[39m\u001b[36m \u001b[39m\u001b[32mIn[10]\u001b[39m\u001b[32m, line 15\u001b[39m\n\u001b[32m     13\u001b[39m \u001b[38;5;28;01mfor\u001b[39;00m i, question \u001b[38;5;129;01min\u001b[39;00m \u001b[38;5;28menumerate\u001b[39m(demo_questions, \u001b[32m1\u001b[39m):\n\u001b[32m     14\u001b[39m     \u001b[38;5;28mprint\u001b[39m(\u001b[33mf\u001b[39m\u001b[33m\"\u001b[39m\u001b[38;5;130;01m\\n\u001b[39;00m\u001b[38;5;132;01m{\u001b[39;00m\u001b[33m'\u001b[39m\u001b[33m=\u001b[39m\u001b[33m'\u001b[39m*\u001b[32m20\u001b[39m\u001b[38;5;132;01m}\u001b[39;00m\u001b[33m DEMO \u001b[39m\u001b[38;5;132;01m{\u001b[39;00mi\u001b[38;5;132;01m}\u001b[39;00m\u001b[33m \u001b[39m\u001b[38;5;132;01m{\u001b[39;00m\u001b[33m'\u001b[39m\u001b[33m=\u001b[39m\u001b[33m'\u001b[39m*\u001b[32m20\u001b[39m\u001b[38;5;132;01m}\u001b[39;00m\u001b[33m\"\u001b[39m)\n\u001b[32m---> \u001b[39m\u001b[32m15\u001b[39m     response = \u001b[43mchat_with_agent\u001b[49m\u001b[43m(\u001b[49m\u001b[43mquestion\u001b[49m\u001b[43m)\u001b[49m\n\u001b[32m     17\u001b[39m     \u001b[38;5;28;01mif\u001b[39;00m i < \u001b[38;5;28mlen\u001b[39m(demo_questions):\n\u001b[32m     18\u001b[39m         \u001b[38;5;28minput\u001b[39m(\u001b[33m\"\u001b[39m\u001b[38;5;130;01m\\n\u001b[39;00m\u001b[33mPress Enter to continue to next demo...\u001b[39m\u001b[33m\"\u001b[39m)\n",
      "\u001b[36mCell\u001b[39m\u001b[36m \u001b[39m\u001b[32mIn[9]\u001b[39m\u001b[32m, line 22\u001b[39m, in \u001b[36mchat_with_agent\u001b[39m\u001b[34m(question)\u001b[39m\n\u001b[32m     16\u001b[39m initial_state = {\n\u001b[32m     17\u001b[39m     \u001b[33m\"\u001b[39m\u001b[33mmessages\u001b[39m\u001b[33m\"\u001b[39m: [HumanMessage(content=question)],\n\u001b[32m     18\u001b[39m     \u001b[33m\"\u001b[39m\u001b[33miterations\u001b[39m\u001b[33m\"\u001b[39m: \u001b[32m0\u001b[39m\n\u001b[32m     19\u001b[39m }\n\u001b[32m     21\u001b[39m \u001b[38;5;66;03m# Run the agent\u001b[39;00m\n\u001b[32m---> \u001b[39m\u001b[32m22\u001b[39m result = \u001b[43magent\u001b[49m.invoke(initial_state)\n\u001b[32m     24\u001b[39m \u001b[38;5;66;03m# Extract the final response\u001b[39;00m\n\u001b[32m     25\u001b[39m final_response = \u001b[33m\"\u001b[39m\u001b[33m\"\u001b[39m\n",
      "\u001b[31mNameError\u001b[39m: name 'agent' is not defined"
     ]
    }
   ],
   "source": [
    "# Demo the conversational interface\n",
    "print(\"🎭 DEMO: Conversational Interface\")\n",
    "print(\"=\" * 50)\n",
    "\n",
    "# Example conversations\n",
    "demo_questions = [\n",
    "    \"What building codes apply to emergency exit doors?\",\n",
    "    \"Tell me about the largest room in the project\",\n",
    "    \"Check if all doors in the project meet compliance requirements\",\n",
    "    \"Analyze the building's circulation and connectivity\"\n",
    "]\n",
    "\n",
    "for i, question in enumerate(demo_questions, 1):\n",
    "    print(f\"\\n{'='*20} DEMO {i} {'='*20}\")\n",
    "    response = chat_with_agent(question)\n",
    "    \n",
    "    if i < len(demo_questions):\n",
    "        input(\"\\nPress Enter to continue to next demo...\")\n",
    "\n",
    "print(\"\\n🎉 Demo completed!\")\n",
    "print(\"\\n💡 Try your own questions:\")\n",
    "print(\"   chat_with_agent('Your question here')\")\n"
   ]
  },
  {
   "cell_type": "markdown",
   "metadata": {},
   "source": [
    "## 🎯 Summary\n",
    "\n",
    "Congratulations! You've seen how all the components from the previous tutorials work together in a powerful ReAct agent:\n",
    "\n",
    "### 🏗️ **What We Built**\n",
    "\n",
    "1. **ReAct Agent**: Autonomous reasoning and acting system\n",
    "2. **6 Specialized Tools**: Combining data access, calculations, and regulations\n",
    "3. **Natural Language Interface**: Conversational compliance verification\n",
    "4. **Complete Integration**: All tutorials working together seamlessly\n",
    "\n",
    "### 🛠️ **Available Tools**\n",
    "\n",
    "**Building Data** (from Tutorial 1):\n",
    "- `get_room_info(room_id)` - Get detailed room information\n",
    "- `get_door_info(door_id)` - Get detailed door information  \n",
    "- `list_all_doors()` - List all doors in project\n",
    "\n",
    "**Calculations** (from Tutorial 2):\n",
    "- `check_door_width_compliance(door_id)` - Check door compliance\n",
    "- `calculate_egress_distance(room_id)` - Calculate evacuation distances\n",
    "\n",
    "**Regulations** (from Tutorial 3):\n",
    "- `query_normativa(question)` - Query building codes with RAG\n",
    "\n",
    "### 🚀 **Key Features**\n",
    "\n",
    "- **Autonomous Reasoning**: Agent decides which tools to use\n",
    "- **Multi-step Analysis**: Can combine multiple tools for complex tasks\n",
    "- **Natural Language**: Conversational interface\n",
    "- **Comprehensive**: Covers data, calculations, and regulations\n",
    "- **Extensible**: Easy to add new tools and capabilities\n",
    "\n",
    "### 💡 **Next Steps**\n",
    "\n",
    "You can now:\n",
    "1. **Ask Complex Questions**: The agent handles multi-step compliance checks\n",
    "2. **Add More Tools**: Create tools for specific building types or regulations\n",
    "3. **Integrate with CAD**: Connect to real CAD software\n",
    "4. **Deploy**: Create a web interface or API\n",
    "\n",
    "**This is the future of building compliance verification!** 🎉\n",
    "\n",
    "### 🎓 **What You Learned**\n",
    "\n",
    "- How ReAct agents work (Reasoning + Acting)\n",
    "- How to use existing tools with LLMs\n",
    "- How to build agent workflows with LangGraph\n",
    "- How to integrate RAG for document querying\n",
    "- How to create conversational AI interfaces\n",
    "\n",
    "**The agent can now autonomously verify building compliance using all the tools we've built!**\n"
   ]
  }
 ],
 "metadata": {
  "kernelspec": {
   "display_name": "Python 3 (ipykernel)",
   "language": "python",
   "name": "python3"
  },
  "language_info": {
   "codemirror_mode": {
    "name": "ipython",
    "version": 3
   },
   "file_extension": ".py",
   "mimetype": "text/x-python",
   "name": "python",
   "nbconvert_exporter": "python",
   "pygments_lexer": "ipython3",
   "version": "3.13.1"
  }
 },
 "nbformat": 4,
 "nbformat_minor": 4
}
